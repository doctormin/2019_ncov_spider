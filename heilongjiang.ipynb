{
 "nbformat": 4,
 "nbformat_minor": 2,
 "metadata": {
  "language_info": {
   "name": "python",
   "codemirror_mode": {
    "name": "ipython",
    "version": 3
   },
   "version": "3.7.4-final"
  },
  "orig_nbformat": 2,
  "file_extension": ".py",
  "mimetype": "text/x-python",
  "name": "python",
  "npconvert_exporter": "python",
  "pygments_lexer": "ipython3",
  "version": 3,
  "kernelspec": {
   "name": "python37464bit0d4557ec91c049559ae1861a5476b44a",
   "display_name": "Python 3.7.4 64-bit"
  },
  "pycharm": {
   "stem_cell": {
    "cell_type": "raw",
    "source": [],
    "metadata": {
     "collapsed": false
    }
   }
  }
 },
 "cells": [
  {
   "cell_type": "code",
   "execution_count": 2,
   "metadata": {},
   "outputs": [
    {
     "name": "stdout",
     "output_type": "stream",
     "text": "http://wsjkw.hlj.gov.cn/index.php/Home/Zwgk/show/newsid/7762/navid/42/stypeid/\n"
    }
   ],
   "source": [
    "#23\n",
    "#By Yimin Zhao\n",
    "import requests\n",
    "from bs4 import BeautifulSoup\n",
    "import urllib.request\n",
    "import xlsxwriter\n",
    "import time\n",
    "import re\n",
    "\n",
    "heilongjiang = 'http://wsjkw.hlj.gov.cn/index.php/Home/Zwgk/all/typeid/42'         #卫健委的url\n",
    "info_pattern = re.compile(r'最新疫情通报')  \n",
    "\n",
    "\n",
    "#找到通报疫情的url\n",
    "def find_url(web_address):\n",
    "    #获取网页信息\n",
    "    while(1):\n",
    "        try:\n",
    "            res = requests.get(web_address,timeout=(5, 10))\n",
    "            flag = 1\n",
    "            break\n",
    "        except:\n",
    "            print(\"retry\")\n",
    "            flag=0\n",
    "    res.encoding = 'utf-8'\n",
    "    \n",
    "    soup = BeautifulSoup(res.text, features = 'html.parser')      #结构化处理 \n",
    "    \n",
    "    for element in soup.find_all(name='div',attrs = {'class':'wenzhanglist'}):\n",
    "        for info in element.find_all('a'):\n",
    "            info_title = info.get_text()      #获取通报的标题\n",
    "            if(info_pattern.match(info_title)):\n",
    "                return(info.get('href'))\n",
    "        \n",
    "\n",
    "        \n",
    "info_url = 'http://wsjkw.hlj.gov.cn' + find_url(heilongjiang)\n",
    "print(info_url)\n"
   ]
  },
  {
   "cell_type": "code",
   "execution_count": 3,
   "metadata": {},
   "outputs": [
    {
     "name": "stdout",
     "output_type": "stream",
     "text": "begin\n\n\n2020年2月7日0-24时,黑龙江省报告新型冠状病毒感染的肺炎新增确诊病例19例。新增重症病例11例。新增出院病例4例。新增死亡病例2例。新增疑似病例117例。\n\n\n截至2月7日24时,黑龙江省报告新型冠状病毒感染的肺炎现有确诊病例295例（转出1例），其中：哈尔滨市100例、绥化市44例、双鸭山市36例、鸡西市31例、齐齐哈尔市27例、佳木斯市13例、大庆市13例、牡丹江市13例、七台河市11例、鹤岗市3例、大兴安岭地区2例、黑河市2例；现有重症病例38例。死亡病例5例为绥化市确诊病例2例、大庆市确诊病例1例、双鸭山市确诊病例2例。治愈出院病例12例为哈尔滨市传染病医院7例、黑龙江省传染病防治院2例、双鸭山市人民医院1例、佳木斯市传染病医院1例、绥化市第一医院1例。现有疑似病例234例。\n\n\n全省当日发热门诊诊疗人数1884人。目前追踪到密切接触者7965人, 已解除医学观察3817人，尚有4121人正在接受医学观察。\n\n\n\n \nfinish\n"
    }
   ],
   "source": [
    "def get_data(web_address):\n",
    "    #获取网页信息\n",
    "    while(1):\n",
    "        try:\n",
    "            res = requests.get(web_address,timeout=2)\n",
    "            flag=1\n",
    "            break\n",
    "        except:\n",
    "            print(\"retry\")\n",
    "            flag=0\n",
    "    res.encoding = 'utf-8'\n",
    "    soup = BeautifulSoup(res.text, 'html.parser')      #结构化处理\n",
    "    for element in soup.find_all(name='div',attrs = {'class':'danye'} ):\n",
    "        print(element.get_text())\n",
    "                    \n",
    "if __name__ == '__main__':\n",
    "    print('begin')\n",
    "    get_data(info_url)\n",
    "    print('finish')"
   ]
  },
  {
   "cell_type": "code",
   "execution_count": null,
   "metadata": {},
   "outputs": [],
   "source": []
  }
 ]
}