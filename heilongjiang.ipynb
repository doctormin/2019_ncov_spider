{
 "nbformat": 4,
 "nbformat_minor": 2,
 "metadata": {
  "language_info": {
   "name": "python",
   "codemirror_mode": {
    "name": "ipython",
    "version": 3
   },
   "version": "3.7.4-final"
  },
  "orig_nbformat": 2,
  "file_extension": ".py",
  "mimetype": "text/x-python",
  "name": "python",
  "npconvert_exporter": "python",
  "pygments_lexer": "ipython3",
  "version": 3,
  "kernelspec": {
   "name": "361c5ae9-67e8-493c-b15d-1c763400a7c3",
   "language": "python",
   "display_name": "'Python Interactive'"
  },
  "pycharm": {
   "stem_cell": {
    "cell_type": "raw",
    "source": [],
    "metadata": {
     "collapsed": false
    }
   }
  }
 },
 "cells": [
  {
   "cell_type": "code",
   "execution_count": 1,
   "metadata": {
    "pycharm": {
     "is_executing": false
    }
   },
   "outputs": [
    {
     "name": "stdout",
     "text": [
      "http://wsjkw.hlj.gov.cn/index.php/Home/Zwgk/show/newsid/7771/navid/42/stypeid/\n"
     ],
     "output_type": "stream"
    }
   ],
   "source": [
    "#23\n",
    "#By Yimin Zhao\n",
    "import requests\n",
    "from bs4 import BeautifulSoup\n",
    "import urllib.request\n",
    "import xlsxwriter\n",
    "import time\n",
    "import re\n",
    "\n",
    "heilongjiang = 'http://wsjkw.hlj.gov.cn/index.php/Home/Zwgk/all/typeid/42'         #卫健委的url\n",
    "info_pattern = re.compile(r'最新疫情通报')  \n",
    "\n",
    "\n",
    "#找到通报疫情的url\n",
    "def find_url(web_address):\n",
    "    #获取网页信息\n",
    "    while(1):\n",
    "        try:\n",
    "            res = requests.get(web_address,timeout=(5, 10))\n",
    "            flag = 1\n",
    "            break\n",
    "        except:\n",
    "            print(\"retry\")\n",
    "            flag=0\n",
    "    res.encoding = 'utf-8'\n",
    "    \n",
    "    soup = BeautifulSoup(res.text, features = 'html.parser')      #结构化处理 \n",
    "    \n",
    "    for element in soup.find_all(name='div',attrs = {'class':'wenzhanglist'}):\n",
    "        for info in element.find_all('a'):\n",
    "            info_title = info.get_text()      #获取通报的标题\n",
    "            if(info_pattern.match(info_title)):\n",
    "                return(info.get('href'))\n",
    "        \n",
    "\n",
    "        \n",
    "info_url = 'http://wsjkw.hlj.gov.cn' + find_url(heilongjiang)\n",
    "print(info_url)\n"
   ]
  },
  {
   "cell_type": "code",
   "execution_count": 2,
   "metadata": {
    "pycharm": {
     "is_executing": false
    }
   },
   "outputs": [
    {
     "name": "stdout",
     "text": [
      "begin\n",
      "\n",
      "\n",
      "2020年2月10日0-24时,黑龙江省报告新型冠状病毒感染的肺炎新增确诊病例29例。新增出院病例12例。新增重症病例8例。新增死亡病例1例。新增疑似病例77例。\n",
      "\n",
      "\n",
      "截至2月10日24时,黑龙江省报告新型冠状病毒感染的肺炎确诊病例360例，其中：哈尔滨市146例、绥化市39例、鸡西市38例、双鸭山市38例、齐齐哈尔市32例、佳木斯市15例、七台河市15例、大庆市14例、牡丹江市12例、鹤岗市5例、黑河市4例、大兴安岭地区2例；现有重症病例52例。死亡病例8例，分别为绥化市确诊病例4例、大庆市确诊病例1例、双鸭山市确诊病例2例、齐齐哈尔市确诊病例1例。治愈出院病例27例，分别为省传染病防治院2例、哈尔滨市传染病医院13例、双鸭山市人民医院1例、佳木斯市传染病医院5例、绥化市第一医院3例、牡丹江市第二人民医院1例、鹤岗市传染病医院1例、鸡西市传染病医院1例。现有疑似病例181例。\n",
      "\n",
      "\n",
      "全省当日发热门诊诊疗人数1928人。目前追踪到密切接触者10800人, 已解除医学观察6492人，尚有4348人正在接受医学观察。\n",
      " \n",
      "finish\n"
     ],
     "output_type": "stream"
    }
   ],
   "source": [
    "def get_data(web_address):\n",
    "    #获取网页信息\n",
    "    while(1):\n",
    "        try:\n",
    "            res = requests.get(web_address,timeout=2)\n",
    "            flag=1\n",
    "            break\n",
    "        except:\n",
    "            print(\"retry\")\n",
    "            flag=0\n",
    "    res.encoding = 'utf-8'\n",
    "    soup = BeautifulSoup(res.text, 'html.parser')      #结构化处理\n",
    "    for element in soup.find_all(name='div',attrs = {'class':'danye'} ):\n",
    "        print(element.get_text())\n",
    "        f = open(r\"D:\\IIoT\\20年寒假-疫情爬虫\\Data\\23.txt\", mode = 'w', encoding = \"utf-8\")\n",
    "        f.write(element.get_text())\n",
    "        f.close() \n",
    "                    \n",
    "if __name__ == '__main__':\n",
    "    print('begin')\n",
    "    get_data(info_url)\n",
    "    print('finish')"
   ]
  },
  {
   "cell_type": "code",
   "execution_count": 2,
   "metadata": {
    "pycharm": {
     "is_executing": false
    }
   },
   "outputs": [],
   "source": []
  }
 ]
}