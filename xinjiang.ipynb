{
 "cells": [
  {
   "cell_type": "code",
   "execution_count": 2,
   "outputs": [
    {
     "name": "stdout",
     "text": [
      "截至2月10日24时新疆(含兵团)新型冠状病毒肺炎疫情最新情况\n",
      "matched!\n",
      "2020年2月10日0-24时，新疆（含兵团）报告新型冠状病毒肺炎新增确诊病例6例，新增死亡病例0例，新增出院病例0例。其中：\n",
      "新增确诊病例中，昌吉州1例、兵团第四师4例、兵团第八师石河子市1例。\n",
      "截至2月10日24时，新疆（含兵团）累计报告新型冠状病毒肺炎确诊病例55例（新疆维吾尔自治区39例、新疆生产建设兵团16例），其中：\n",
      "确诊病例中，乌鲁木齐市20例、伊犁州10例、昌吉州4例、吐鲁番市1例、巴州3例、阿克苏地区1例，兵团第四师7例、兵团第六师五家渠市1例、兵团第七师1例、兵团第八师石河子市2例、兵团第九师4例、兵团第十二师1例；现有重症病例11例、危重症病例5例；累计死亡病例0例，累计出院病例0例。\n",
      "目前尚有3842人正在接受医学观察。\n"
     ],
     "output_type": "stream"
    }
   ],
   "source": [
    "#65\n",
    "#By Yimin Zhao\n",
    "import re\n",
    "from selenium import webdriver\n",
    "\n",
    "xinjiang = 'http://www.xjhfpc.gov.cn/ztzl/fkxxgzbdfygz/yqtb.htm'         #卫健委的url\n",
    "info_pattern = re.compile(r'.*新疆.*新.*冠.*疫情.*')\n",
    "\n",
    "#找到通报疫情的url\n",
    "driver = webdriver.Chrome()\n",
    "driver.get(xinjiang)\n",
    "nodes = driver.find_elements_by_xpath('//*[@id=\"fhj2zt1-03\"]/div/table/tbody/tr')\n",
    "for node in nodes:\n",
    "      title = node.find_element_by_xpath('.//a').text\n",
    "      print(title)\n",
    "      if info_pattern.match(title):\n",
    "        print(\"matched!\")\n",
    "        info_title = title\n",
    "        info_url = node.find_element_by_xpath('.//a').get_attribute('href')\n",
    "        break\n",
    "driver.get(info_url)\n",
    "info_content = driver.find_element_by_xpath('//*[@id=\"vsb_content_1029\"]').text.strip()\n",
    "print(info_content)\n",
    "f = open(r\"D:\\IIoT\\20年寒假-疫情爬虫\\Data\\65.txt\", mode = 'w', encoding = \"utf-8\")\n",
    "f.write(info_content)\n",
    "f.close() "
   ],
   "metadata": {
    "collapsed": false,
    "pycharm": {
     "name": "#%%\n",
     "is_executing": false
    }
   }
  }
 ],
 "metadata": {
  "kernelspec": {
   "display_name": "'Python Interactive'",
   "language": "python",
   "name": "361c5ae9-67e8-493c-b15d-1c763400a7c3"
  },
  "language_info": {
   "codemirror_mode": {
    "name": "ipython",
    "version": 2
   },
   "file_extension": ".py",
   "mimetype": "text/x-python",
   "name": "python",
   "nbconvert_exporter": "python",
   "pygments_lexer": "ipython2",
   "version": "2.7.6"
  },
  "pycharm": {
   "stem_cell": {
    "cell_type": "raw",
    "source": [],
    "metadata": {
     "collapsed": false
    }
   }
  }
 },
 "nbformat": 4,
 "nbformat_minor": 0
}