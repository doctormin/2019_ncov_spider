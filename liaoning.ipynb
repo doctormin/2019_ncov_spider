{
 "cells": [
  {
   "cell_type": "code",
   "execution_count": 7,
   "outputs": [
    {
     "name": "stdout",
     "text": [
      "'全省卫生监督机构开展“进医院戴口罩”专项监督检查'\n",
      "'国务院应对新型冠状病毒感染的肺炎疫情联防联控机制工作指导组赴辽宁工...'\n",
      "'我省搭建全国首个省级新型冠状病毒肺炎影像会诊平台，6日远程确诊一名新...'\n",
      "'省卫生健康委组织召开加强全省发热门诊及医疗机构感染防控管理工作电视...'\n",
      "'2020年2月8日13时至18时辽宁新型冠状病毒肺炎疫情情况'\n",
      "http://wsjk.ln.gov.cn/wst_wsjskx/202002/t20200208_3736668.html\n"
     ],
     "output_type": "stream"
    }
   ],
   "source": [
    "import requests\n",
    "from bs4 import BeautifulSoup\n",
    "import urllib.request\n",
    "import xlsxwriter\n",
    "import time\n",
    "import re\n",
    "\n",
    "liaoning = 'http://wsjk.ln.gov.cn/wst_wsjskx/'         #卫健委的url\n",
    "info_pattern = re.compile(r'.*至.*辽宁.*新型冠状病毒.*疫情情况.*')  \n",
    "\n",
    "\n",
    "#找到通报疫情的url\n",
    "def find_url(web_address):\n",
    "    #获取网页信息\n",
    "    while(1):\n",
    "        try:\n",
    "            headers = {\"user-agent\": \"Mizilla/5.0\"}\n",
    "            res = requests.get(web_address,timeout=(5, 10), headers = headers)\n",
    "            flag = 1\n",
    "            break\n",
    "        except:\n",
    "            print(\"retry\")\n",
    "            flag=0\n",
    "    res.encoding = 'gb2312'\n",
    "    soup = BeautifulSoup(res.text, features = 'html.parser')      #结构化处理 \n",
    "    #print(soup)\n",
    "    \n",
    "    for element in soup.find_all(name='div',attrs = {'class':'jgsz_right_con'}):\n",
    "        for info in element.find_all('a'):\n",
    "            info_title = info.get_text()      #获取通报的标题\n",
    "            #print(repr(info_title))\n",
    "            if(info_pattern.match(info_title)):\n",
    "                return(info.get('href'))\n",
    "                \n",
    "info_url = 'http://wsjk.ln.gov.cn/wst_wsjskx' + find_url(liaoning)[1:]\n",
    "print(info_url)\n"
   ],
   "metadata": {
    "collapsed": false,
    "pycharm": {
     "name": "#%%\n",
     "is_executing": false
    }
   }
  },
  {
   "cell_type": "code",
   "execution_count": 8,
   "outputs": [
    {
     "name": "stdout",
     "text": [
      "begin\n",
      "\n",
      "2020年2月8日13时至18时，辽宁省新增2例新型冠状病毒肺炎确诊病例,其中沈阳市1例、锦州市1例，均为普通型病例。沈阳市治愈出院1例。\n",
      "截至2020年2月8日18时，辽宁省累计报告新型冠状病毒肺炎确诊病例105例，治愈出院8例。105例确诊病例中，沈阳市26例、大连市16例、鞍山市3例、本溪市3例、丹东市7例、锦州市10例、营口市1例、阜新市7例、辽阳市3例、铁岭市3例、朝阳市6例、盘锦市11例、葫芦岛市9例。\n",
      "目前97名在治患者均在定点医疗机构隔离治疗，其中重型病例14例，危重型病例1例。 97名在治患者中，67例病例为输入性病例，30例病例为本地感染病例。\n",
      "目前累计追踪到密切接触者1944人，已解除医学观察1113人，现有788人正在接受医学观察,43人正在追踪中。\n",
      "\n",
      "finish\n"
     ],
     "output_type": "stream"
    }
   ],
   "source": [
    "def get_data(web_address):\n",
    "    #获取网页信息\n",
    "    while(1):\n",
    "        try:\n",
    "            headers = {\"user-agent\": \"Mizilla/5.0\"}\n",
    "            res = requests.get(web_address,timeout=2, headers = headers)\n",
    "            flag=1\n",
    "            break\n",
    "        except:\n",
    "            print(\"retry\")\n",
    "            flag=0\n",
    "    res.encoding = 'gb2312'\n",
    "    soup = BeautifulSoup(res.text, 'html.parser')      #结构化处理\n",
    "    for element in soup.find_all(name='div',attrs = {'class':'TRS_PreAppend'}):\n",
    "        print(element.get_text())\n",
    "                    \n",
    "if __name__ == '__main__':\n",
    "    print('begin')\n",
    "    get_data(info_url)\n",
    "    print('finish')\n",
    "    "
   ],
   "metadata": {
    "collapsed": false,
    "pycharm": {
     "name": "#%%\n",
     "is_executing": false
    }
   }
  },
  {
   "cell_type": "code",
   "execution_count": null,
   "outputs": [],
   "source": [
    "\n",
    "\n",
    "\n",
    "\n",
    "\n",
    "\n"
   ],
   "metadata": {
    "collapsed": false,
    "pycharm": {
     "name": "#%%\n"
    }
   }
  }
 ],
 "metadata": {
  "kernelspec": {
   "display_name": "'Python Interactive'",
   "language": "python",
   "name": "361c5ae9-67e8-493c-b15d-1c763400a7c3"
  },
  "language_info": {
   "codemirror_mode": {
    "name": "ipython",
    "version": 2
   },
   "file_extension": ".py",
   "mimetype": "text/x-python",
   "name": "python",
   "nbconvert_exporter": "python",
   "pygments_lexer": "ipython2",
   "version": "2.7.6"
  },
  "pycharm": {
   "stem_cell": {
    "cell_type": "raw",
    "source": [],
    "metadata": {
     "collapsed": false
    }
   }
  }
 },
 "nbformat": 4,
 "nbformat_minor": 0
}