{
 "cells": [
  {
   "cell_type": "code",
   "execution_count": 7,
   "outputs": [
    {
     "name": "stdout",
     "text": [
      "甘肃新增4例新型冠状病毒肺炎确诊病例累计83例\n",
      "2020-02-09\n",
      "matched!\n",
      "截至2月9日20时，甘肃新增4例新型冠状病毒肺炎确诊病例。新增确诊病例中，平凉市3例、庆阳市1例。新增治愈出院4例。新增死亡病例1例。甘肃累计报告新型冠状病毒肺炎确诊病例83例，累计治愈出院16例，累计死亡病例2例，65例在定点医院进行隔离治疗。兰州市21例、天水市11例、定西市7例、平凉市7例、甘南州6例、陇南市4例、白银市4例、庆阳市3例、张掖市1例、临夏州1例。现有重型病例6例，危重型病例1例。\n",
      "新增疑似病例4例，兰州市3例、甘南州1例。现有疑似病例15例，兰州市9例、甘南州3例、天水市1例、平凉市1例、定西市1例。\n",
      "目前，累计追踪到密切接触者3075人，已解除医学观察2147人，其余928人正在接受医学观察。\n",
      "患者1，张某某，女性，55岁，平凉市华亭市人。为2月7日确诊病例柳某的密切接触者。2月4日在华亭市第一人民医院隔离观察，2月7日行胸部CT显示双肺外围斑片状磨玻璃样密度增高影，当日收住入院隔离治疗。2月9日确诊为新型冠状病毒肺炎。目前，在华亭市第一人民医院住院隔离治疗，病情平稳。\n",
      "患者2，柳某，女性，33岁，重庆市沙坪坝区人，现居住平凉市华亭市。与外省确诊病例吴某（2月3日确诊）有密切接触史。1月29日出现咽部干涩症状，未就诊。2月4日在华亭市医学观察区集中隔离，2月7日核酸检测阳性后，在华亭市第一人民医院住院隔离，胸部CT显示双肺外围斑片状磨玻璃样密度增高影。2月9日确诊为新型冠状病毒肺炎。目前，在华亭市第一人民医院住院隔离治疗，病情平稳。\n",
      "患者3，王某某，男性，23岁，平凉市庄浪县人，长期在武汉市工作居住。1月20日乘高铁从武汉市途经天水市返回庄浪县。期间一直居家医学观察无外出，2月6日出现咳嗽、咳痰，到当地卫生院对症治疗后无明显好转，2月7日出现发热，2月8日在庄浪县人民医院就诊后住院隔离。2月9日确诊为新型冠状病毒肺炎。目前，在庄浪县人民医院住院隔离治疗，病情平稳。\n",
      "患者4，张某某，女性，27岁，宁夏自治区银川市人，现居住庆阳市庆城县。1月23日前与银川确诊病例有密切接触史。1月23日乘私家车从银川市返回庆城县，2月3日出现发热症状，自行居家治疗，2月6日被确定为外省确诊患者的密切接触者后前往庆城县人民医院就诊后住院隔离。2月9日确诊为新型冠状病毒肺炎。目前，在庆城县人民医院住院隔离治疗，病情平稳。\n",
      "死亡1例，马某某，女性，73岁，兰州市西固区人。1月31日在西固区人民医院隔离治疗，2月2日确诊为新型冠状病毒肺炎病例。2月4日因病情持续加重转入兰州市肺科医院，经组织专家多次会诊治疗，因急性呼吸窘迫、感染性休克、多脏器功能衰竭、电解质代谢紊乱，经抢救无效，于2月9日2时10分死亡。该患者遗体已按照《新型冠状病毒感染的肺炎患者遗体处置工作指引（试行）》规范处置。该患者为兰州市家庭聚集性病例的确诊患者之一。\n"
     ],
     "output_type": "stream"
    }
   ],
   "source": [
    "#62\n",
    "#By Yimin Zhao\n",
    "import re\n",
    "from selenium import webdriver\n",
    "\n",
    "gansu = 'http://wsjk.gansu.gov.cn/channel/11218/index.html'         #卫健委的url\n",
    "info_pattern = re.compile(r'.*甘肃.*新.*冠.*病例.*')\n",
    "\n",
    "#找到通报疫情的url\n",
    "driver = webdriver.Chrome()\n",
    "driver.get(gansu)\n",
    "nodes = driver.find_elements_by_xpath('/html/body/div[2]/div[2]/div[2]/ul/li')\n",
    "for node in nodes:\n",
    "      title = node.find_element_by_xpath('.//a').text\n",
    "      print(title)\n",
    "      if info_pattern.match(title):\n",
    "        print(\"matched!\")\n",
    "        info_title = title\n",
    "        info_url = node.find_element_by_xpath('.//a').get_attribute('href')\n",
    "        break\n",
    "driver.get(info_url)\n",
    "info_content = driver.find_element_by_xpath('//*[@id=\"contents\"]').text.strip()\n",
    "print(info_content)"
   ],
   "metadata": {
    "collapsed": false,
    "pycharm": {
     "name": "#%%\n",
     "is_executing": false
    }
   }
  }
 ],
 "metadata": {
  "kernelspec": {
   "display_name": "'Python Interactive'",
   "language": "python",
   "name": "361c5ae9-67e8-493c-b15d-1c763400a7c3"
  },
  "language_info": {
   "codemirror_mode": {
    "name": "ipython",
    "version": 2
   },
   "file_extension": ".py",
   "mimetype": "text/x-python",
   "name": "python",
   "nbconvert_exporter": "python",
   "pygments_lexer": "ipython2",
   "version": "3.7.4-final"
  },
  "pycharm": {
   "stem_cell": {
    "cell_type": "raw",
    "source": [],
    "metadata": {
     "collapsed": false
    }
   }
  }
 },
 "nbformat": 4,
 "nbformat_minor": 0
}