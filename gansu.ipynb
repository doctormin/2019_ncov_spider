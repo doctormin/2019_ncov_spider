{
 "cells": [
  {
   "cell_type": "code",
   "execution_count": 1,
   "outputs": [
    {
     "name": "stdout",
     "text": [
      "甘肃新增3例新型冠状病毒肺炎确诊病例累计86例\n",
      "2020-02-11\n",
      "matched!\n",
      "截至2月10日20时，甘肃新增3例新型冠状病毒肺炎确诊病例。新增确诊病例中，兰州市2例、平凉市1例。新增治愈出院5例。甘肃累计报告新型冠状病毒肺炎确诊病例86例，累计治愈出院21例，累计死亡病例2例，63例在定点医院进行隔离治疗。兰州市19例、天水市11例、平凉市8例、定西市6例、甘南州6例、陇南市4例、白银市4例、庆阳市3例、张掖市1例、临夏州1例。现有重型病例7例，危重型病例1例。\n",
      "新增疑似病例8例，兰州市5例、定西市2例、天水市1例。现有疑似病例20例，兰州市11例、甘南州3例、定西市3例、天水市2例、平凉市1例。\n",
      "目前，累计追踪到密切接触者3337人，已解除医学观察2371人，其余966人正在接受医学观察。\n",
      "患者1，李某某，男性，29岁，兰州市西固区人。为2月3日确诊病例苏某的密切接触者。1月30日自行居家隔离，2月3日转至西固区集中留观点隔离观察，2月7日出现鼻塞，转至西固区人民医院住院隔离治疗。2月9日21时确诊为新型冠状病毒肺炎。目前，在西固区人民医院住院隔离治疗，病情平稳。\n",
      "患者2，苏某，男性，47岁，定西市陇西县人，现居住兰州市西固区。为2月3日确诊病例苏某的密切接触者。2月6日核酸检测阳性后，在甘肃宝石花医院住院隔离，偶有干咳，2月7日以“疑似新型冠状病毒肺炎”转运至西固区人民医院住院隔离治疗。2月9日21时确诊为新型冠状病毒肺炎。目前，在西固区人民医院住院隔离治疗，病情平稳。\n",
      "患者3，刘某某，男性，54岁，平凉市华亭市人。确定为2月7日确诊患者柳某的密切接触者后，2月6日在华亭市医学隔离区集中隔离，2月7日核酸检测阳性后，转到华亭市第一人民医院住院隔离，2月10日患者出现气短，胸部CT显示右肺中叶外段小片状致密影。2月10日确诊为新型冠状病毒肺炎。目前，在华亭市第一人民医院住院隔离治疗，病情平稳。\n"
     ],
     "output_type": "stream"
    }
   ],
   "source": [
    "#62\n",
    "#By Yimin Zhao\n",
    "import re\n",
    "from selenium import webdriver\n",
    "\n",
    "gansu = 'http://wsjk.gansu.gov.cn/channel/11218/index.html'         #卫健委的url\n",
    "info_pattern = re.compile(r'.*甘肃.*新.*冠.*病例.*')\n",
    "\n",
    "#找到通报疫情的url\n",
    "driver = webdriver.Chrome()\n",
    "driver.get(gansu)\n",
    "nodes = driver.find_elements_by_xpath('/html/body/div[2]/div[2]/div[2]/ul/li')\n",
    "for node in nodes:\n",
    "      title = node.find_element_by_xpath('.//a').text\n",
    "      print(title)\n",
    "      if info_pattern.match(title):\n",
    "        print(\"matched!\")\n",
    "        info_title = title\n",
    "        info_url = node.find_element_by_xpath('.//a').get_attribute('href')\n",
    "        break\n",
    "driver.get(info_url)\n",
    "info_content = driver.find_element_by_xpath('//*[@id=\"contents\"]').text.strip()\n",
    "print(info_content)\n",
    "f = open(r\"D:\\IIoT\\20年寒假-疫情爬虫\\Data\\62.txt\", mode = 'w', encoding = \"utf-8\")\n",
    "f.write(info_content)\n",
    "f.close() "
   ],
   "metadata": {
    "collapsed": false,
    "pycharm": {
     "name": "#%%\n",
     "is_executing": false
    }
   }
  }
 ],
 "metadata": {
  "kernelspec": {
   "display_name": "'Python Interactive'",
   "language": "python",
   "name": "361c5ae9-67e8-493c-b15d-1c763400a7c3"
  },
  "language_info": {
   "codemirror_mode": {
    "name": "ipython",
    "version": 2
   },
   "file_extension": ".py",
   "mimetype": "text/x-python",
   "name": "python",
   "nbconvert_exporter": "python",
   "pygments_lexer": "ipython2",
   "version": "3.7.4-final"
  },
  "pycharm": {
   "stem_cell": {
    "cell_type": "raw",
    "source": [],
    "metadata": {
     "collapsed": false
    }
   }
  }
 },
 "nbformat": 4,
 "nbformat_minor": 0
}