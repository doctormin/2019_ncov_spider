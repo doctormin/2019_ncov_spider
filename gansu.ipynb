{
 "cells": [
  {
   "cell_type": "code",
   "execution_count": 13,
   "metadata": {},
   "outputs": [
    {
     "name": "stdout",
     "output_type": "stream",
     "text": "[<selenium.webdriver.remote.webelement.WebElement (session=\"08a6899c3d07664a62ae8513edf8b6b7\", element=\"dfe637c0-e94f-42aa-ba75-35d3b82d8b94\")>]\n1\n"
    }
   ],
   "source": [
    "import requests\n",
    "from bs4 import BeautifulSoup\n",
    "from selenium import webdriver\n",
    "\n",
    "gansu = 'http://wsjk.gansu.gov.cn/channel/11217/index.html'         #卫健委的url\n",
    "    #获取网页信息\n",
    "driver = webdriver.Chrome()\n",
    "driver.get(gansu)\n",
    "\n",
    "nodes = driver.find_elements_by_xpath('//*[@id=\"tableData\"]')\n",
    "print(nodes)\n",
    "i = 1\n",
    "for node in nodes:\n",
    "    '''\n",
    "    name = node.find_element_by_xpath('//*[@id=\"tableData\"]/tr[' + str(i) +']/th').text\n",
    "    leiji = node.find_element_by_xpath('//*[@id=\"tableData\"]/tr['+ str(i) + ']/td[1]').text\n",
    "    siwang = node.find_element_by_xpath('//*[@id=\"tableData\"]/tr[' + str(i) + ']/td[2]').text\n",
    "    zhiyu = node.find_element_by_xpath('//*[@id=\"tableData\"]/tr[' + str(i) + ']/td[3]').text\n",
    "    print(name + \": \", leiji, siwang, zhiyu)\n",
    "    '''\n",
    "    print(i)\n",
    "    i += 1\n",
    "    \n",
    "    '''\n",
    "    for info in element.find_all('tr'):\n",
    "        name = info.find_all('th')\n",
    "        name_ = name.get_text()\n",
    "        i = 0\n",
    "        for men in info.find_all('td'):\n",
    "            if i == 0:\n",
    "                leiji = men.get_text()\n",
    "                i += 1\n",
    "            if i == 1:\n",
    "                siwang = men.get_text()\n",
    "                i += 1\n",
    "            if i == 2:\n",
    "                zhiyu = men.get_text\n",
    "        '''\n"
   ]
  },
  {
   "cell_type": "code",
   "execution_count": null,
   "metadata": {},
   "outputs": [],
   "source": []
  }
 ],
 "metadata": {
  "kernelspec": {
   "display_name": "'Python Interactive'",
   "language": "python",
   "name": "361c5ae9-67e8-493c-b15d-1c763400a7c3"
  },
  "language_info": {
   "codemirror_mode": {
    "name": "ipython",
    "version": 2
   },
   "file_extension": ".py",
   "mimetype": "text/x-python",
   "name": "python",
   "nbconvert_exporter": "python",
   "pygments_lexer": "ipython2",
   "version": "3.7.4-final"
  },
  "pycharm": {
   "stem_cell": {
    "cell_type": "raw",
    "source": [],
    "metadata": {
     "collapsed": false
    }
   }
  }
 },
 "nbformat": 4,
 "nbformat_minor": 0
}