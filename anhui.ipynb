{
 "nbformat": 4,
 "nbformat_minor": 2,
 "metadata": {
  "language_info": {
   "name": "python",
   "codemirror_mode": {
    "name": "ipython",
    "version": 3
   },
   "version": "3.7.4-final"
  },
  "orig_nbformat": 2,
  "file_extension": ".py",
  "mimetype": "text/x-python",
  "name": "python",
  "npconvert_exporter": "python",
  "pygments_lexer": "ipython3",
  "version": 3,
  "kernelspec": {
   "name": "361c5ae9-67e8-493c-b15d-1c763400a7c3",
   "language": "python",
   "display_name": "'Python Interactive'"
  },
  "pycharm": {
   "stem_cell": {
    "cell_type": "raw",
    "source": [],
    "metadata": {
     "collapsed": false
    }
   }
  }
 },
 "cells": [
  {
   "cell_type": "code",
   "execution_count": 3,
   "metadata": {
    "pycharm": {
     "is_executing": false
    }
   },
   "outputs": [
    {
     "name": "stdout",
     "text": [
      "http://wjw.ah.gov.cn/news_details_54805.html\n"
     ],
     "output_type": "stream"
    }
   ],
   "source": [
    "#34\n",
    "#By Yimin Zhao\n",
    "#-*- coding: utf-8 -*-\n",
    "import requests\n",
    "from bs4 import BeautifulSoup\n",
    "import urllib.request\n",
    "import xlsxwriter\n",
    "import time\n",
    "import re\n",
    "anhui = 'http://wjw.ah.gov.cn/news_list_450_1.html'         #卫健委的url\n",
    "info_pattern = re.compile(r'.月.*日安徽省报告新型冠状病毒肺炎疫情情况')  \n",
    "\n",
    "\n",
    "#找到通报疫情的url\n",
    "def find_url(web_address):\n",
    "    #获取网页信息\n",
    "    while(1):\n",
    "        try:\n",
    "            res = requests.get(web_address,timeout=(5, 10))\n",
    "            flag = 1\n",
    "            break\n",
    "        except:\n",
    "            print(\"retry\")\n",
    "            flag=0\n",
    "    res.encoding = 'utf-8'\n",
    "    \n",
    "    soup = BeautifulSoup(res.text, features = 'html.parser')      #结构化处理 \n",
    "    \n",
    "    for element in soup.find_all(name='div',attrs = {'class':'list'}):\n",
    "        for info in element.find_all('a'):\n",
    "            info_title = info.get_text()      #获取通报的标题\n",
    "            if(info_pattern.match(info_title)):\n",
    "                return(info.get('href'))\n",
    "        \n",
    "        \n",
    "info_url = 'http://wjw.ah.gov.cn/'+find_url(anhui)\n",
    "print(info_url)\n"
   ]
  },
  {
   "cell_type": "code",
   "execution_count": 4,
   "metadata": {
    "pycharm": {
     "is_executing": false
    }
   },
   "outputs": [
    {
     "name": "stdout",
     "text": [
      "begin\n",
      "\n",
      "        2020年2月10日0-24时，安徽省报告新增确诊病例30例，新增疑似病例33例，新增治愈出院病例15例，新增死亡病例1例。\n",
      "        新增确诊病例中，合肥3例、淮北1例、宿州2例、蚌埠8例、阜阳7例、淮南1例、六安2例、马鞍山1例、芜湖1例、铜陵2例、安庆2例，均病情平稳。\n",
      "        新增疑似病例中，合肥5例、淮北1例、亳州5例、宿州4例、蚌埠3例、阜阳3例、六安9例、池州1例、安庆2例。\n",
      "        新增治愈出院病例中，合肥4例、淮北1例、亳州2例、蚌埠1例、滁州1例、六安1例、池州2例、安庆3例。\n",
      "        新增死亡病例中，合肥1例。\n",
      "        截至2月10日24时，安徽省累计报告确诊病例860例，累计治愈出院病例88例，累计死亡病例4例，累计医学观察密切接触者18667人。\n",
      "        累计确诊病例中，其中合肥150例、淮北24例、亳州92例、宿州33例、蚌埠134例、阜阳132例、淮南24例、滁州12例、六安59例、马鞍山32例、芜湖31例、宣城6例、铜陵27例、池州15例、安庆80例、黄山9例。\n",
      "        截至2月10日24时，安徽省在院治疗确诊病例768例，其中危重症病例6例。\n",
      "        2月11日即将治愈出院20例，其中合肥7例、宿州1例、阜阳4例、淮南2例、滁州1例、马鞍山2例、芜湖1例、宣城2例。\n",
      "        死亡病例病情介绍:患者罗某某，男，55岁，合肥市人， 2月7日凌晨因急性卒中，送至合肥市二院救治。2月8日确诊为脑梗塞+新冠肺炎。2月9日因病情加重转入安徽省立医院感染病院（省级新冠肺炎重症集中收治基地医院），临床诊断为新冠肺炎（危重型），并伴有大面积脑梗死、急性脑疝形成、中枢性呼吸循环衰竭及高血压病2级（极高危）。医院组织省、院专家组两次会诊，经气管插管机械通气、脱水降颅压、抗病毒、抗感染等对症支持治疗，于2月10日20:38抢救无效死亡。\n",
      "\n",
      "\n",
      "finish\n"
     ],
     "output_type": "stream"
    }
   ],
   "source": [
    "def get_data(web_address):\n",
    "    #获取网页信息\n",
    "    while(1):\n",
    "        try:\n",
    "            res = requests.get(web_address,timeout=2)\n",
    "            flag=1\n",
    "            break\n",
    "        except:\n",
    "            print(\"retry\")\n",
    "            flag=0\n",
    "    res.encoding = 'utf-8'\n",
    "    soup = BeautifulSoup(res.text, 'html.parser')      #结构化处理\n",
    "    for element in soup.find_all(name='div',attrs = {'class':'ar-artcon', 'id':'art_content'} ):\n",
    "        print(element.get_text())\n",
    "        f = open(r\"D:\\IIoT\\20年寒假-疫情爬虫\\Data\\34.txt\", mode = 'w', encoding = \"utf-8\")\n",
    "        f.write(element.get_text())\n",
    "        f.close()                    \n",
    "if __name__ == '__main__':\n",
    "    print('begin')\n",
    "    get_data(info_url)\n",
    "    print('finish')\n",
    "    "
   ]
  },
  {
   "cell_type": "code",
   "execution_count": 4,
   "metadata": {
    "pycharm": {
     "is_executing": false
    }
   },
   "outputs": [],
   "source": []
  }
 ]
}