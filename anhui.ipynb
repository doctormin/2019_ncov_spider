{
 "nbformat": 4,
 "nbformat_minor": 2,
 "metadata": {
  "language_info": {
   "name": "python",
   "codemirror_mode": {
    "name": "ipython",
    "version": 3
   },
   "version": "3.7.4-final"
  },
  "orig_nbformat": 2,
  "file_extension": ".py",
  "mimetype": "text/x-python",
  "name": "python",
  "npconvert_exporter": "python",
  "pygments_lexer": "ipython3",
  "version": 3,
  "kernelspec": {
   "name": "python37464bit0d4557ec91c049559ae1861a5476b44a",
   "display_name": "Python 3.7.4 64-bit"
  },
  "pycharm": {
   "stem_cell": {
    "cell_type": "raw",
    "source": [],
    "metadata": {
     "collapsed": false
    }
   }
  }
 },
 "cells": [
  {
   "cell_type": "code",
   "execution_count": 9,
   "metadata": {},
   "outputs": [
    {
     "name": "stdout",
     "output_type": "stream",
     "text": "http://wjw.ah.gov.cn/news_details_54672.html\n"
    }
   ],
   "source": [
    "#-*- coding: utf-8 -*-\n",
    "import requests\n",
    "from bs4 import BeautifulSoup\n",
    "import urllib.request\n",
    "import xlsxwriter\n",
    "import time\n",
    "import re\n",
    "\n",
    "anhui = 'http://wjw.ah.gov.cn/news_list_450_1.html'         #卫健委的url\n",
    "info_pattern = re.compile(r'.月.*日安徽省报告新型冠状病毒肺炎疫情情况')  \n",
    "\n",
    "\n",
    "#找到通报疫情的url\n",
    "def find_url(web_address):\n",
    "    #获取网页信息\n",
    "    while(1):\n",
    "        try:\n",
    "            res = requests.get(web_address,timeout=(5, 10))\n",
    "            flag = 1\n",
    "            break\n",
    "        except:\n",
    "            print(\"retry\")\n",
    "            flag=0\n",
    "    res.encoding = 'utf-8'\n",
    "    \n",
    "    soup = BeautifulSoup(res.text, features = 'html.parser')      #结构化处理 \n",
    "    \n",
    "    for element in soup.find_all(name='div',attrs = {'class':'list'}):\n",
    "        for info in element.find_all('a'):\n",
    "            info_title = info.get_text()      #获取通报的标题\n",
    "            if(info_pattern.match(info_title)):\n",
    "                return(info.get('href'))\n",
    "        \n",
    "\n",
    "        \n",
    "info_url = 'http://wjw.ah.gov.cn/'+find_url(anhui)\n",
    "print(info_url)\n"
   ]
  },
  {
   "cell_type": "code",
   "execution_count": 11,
   "metadata": {},
   "outputs": [
    {
     "name": "stdout",
     "output_type": "stream",
     "text": "begin\n\n        2020年2月7日0-24时，安徽省报告新增确诊病例68例，新增疑似病例70例，新增治愈出院13例。\n        新增确诊病例中，合肥13例、亳州9例、宿州1例、蚌埠11例、阜阳8例、淮南7例、六安10例、马鞍山1例、芜湖2例、铜陵1例、安庆5例。均病情平稳。\n        新增疑似病例中，合肥11例、淮北1例、蚌埠9例、阜阳4例、淮南1例、滁州1例、六安25例、铜陵3例、池州3例、安庆12例。\n        新增治愈出院病例中，合肥2例、蚌埠1例、阜阳2例、芜湖1例、铜陵3例、安庆3例、黄山1例。\n        截至2月7日24时，安徽省累计报告确诊病例733例，累计治愈出院病例47例，无死亡病例，累计医学观察密切接触者15611人。\n        累计确诊病例中，合肥128例、淮北22例、亳州81例、宿州28例、蚌埠99例、阜阳113例、淮南21例、滁州11例、六安51例、马鞍山31例、芜湖29例、宣城5例、铜陵23例、池州11例、安庆71例、黄山9例。\n        截至2月7日24时，安徽省在院治疗确诊病例686例，其中危重病例6例。\n        2月8日即将治愈出院12例，其中合肥2例、淮北1例、宿州1例、阜阳2例、淮南1例、六安1例、马鞍山2例、铜陵2例。\n\n\nfinish\n"
    }
   ],
   "source": [
    "def get_data(web_address):\n",
    "    #获取网页信息\n",
    "    while(1):\n",
    "        try:\n",
    "            res = requests.get(web_address,timeout=2)\n",
    "            flag=1\n",
    "            break\n",
    "        except:\n",
    "            print(\"retry\")\n",
    "            flag=0\n",
    "    res.encoding = 'utf-8'\n",
    "    soup = BeautifulSoup(res.text, 'html.parser')      #结构化处理\n",
    "    for element in soup.find_all(name='div',attrs = {'class':'ar-artcon', 'id':'art_content'} ):\n",
    "        print(element.get_text())\n",
    "                    \n",
    "if __name__ == '__main__':\n",
    "    print('begin')\n",
    "    get_data(info_url)\n",
    "    print('finish')\n",
    "    "
   ]
  },
  {
   "cell_type": "code",
   "execution_count": null,
   "metadata": {},
   "outputs": [],
   "source": []
  }
 ]
}