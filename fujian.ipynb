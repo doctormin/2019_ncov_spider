{
 "nbformat": 4,
 "nbformat_minor": 2,
 "metadata": {
  "language_info": {
   "name": "python",
   "codemirror_mode": {
    "name": "ipython",
    "version": 3
   },
   "version": "3.7.4-final"
  },
  "orig_nbformat": 2,
  "file_extension": ".py",
  "mimetype": "text/x-python",
  "name": "python",
  "npconvert_exporter": "python",
  "pygments_lexer": "ipython3",
  "version": 3,
  "kernelspec": {
   "name": "361c5ae9-67e8-493c-b15d-1c763400a7c3",
   "language": "python",
   "display_name": "'Python Interactive'"
  },
  "pycharm": {
   "stem_cell": {
    "cell_type": "raw",
    "source": [],
    "metadata": {
     "collapsed": false
    }
   }
  }
 },
 "cells": [
  {
   "source": [
    "#35\n",
    "#By Yimin Zhao\n",
    "import requests\n",
    "from bs4 import BeautifulSoup\n",
    "import urllib.request\n",
    "import xlsxwriter\n",
    "import time\n",
    "import re\n",
    "\n",
    "fujian = 'http://wjw.fujian.gov.cn/ztzl/gzbufk/yqtb/'         #卫健委的url\n",
    "info_pattern = re.compile(r'福建省.*新.*情况')  \n",
    "\n",
    "#找到通报疫情的url\n",
    "def find_url(web_address):\n",
    "    #获取网页信息\n",
    "    while(1):\n",
    "        try:\n",
    "            headers = {\"user-agent\": \"Mizilla/5.0\"}\n",
    "            res = requests.get(web_address,timeout=(5, 10), headers = headers)\n",
    "            flag = 1\n",
    "            break\n",
    "        except:\n",
    "            print(\"retry\")\n",
    "            flag=0\n",
    "    res.encoding = 'utf-8'\n",
    "    \n",
    "    soup = BeautifulSoup(res.text, features = 'html.parser')      #结构化处理 \n",
    "    for element in soup.find_all(name='div',attrs = {'class':'xxgksublist'}):\n",
    "        for info in element.find_all('a'):\n",
    "            info_title = info.get_text().strip()      #获取通报的标题\n",
    "            if(info_pattern.match(info_title)):\n",
    "                return(info.get('href'))\n",
    "        \n",
    "\n",
    "        \n",
    "info_url = 'http://wjw.fujian.gov.cn/ztzl/gzbufk/yqtb' + find_url(fujian)[1:]\n",
    "print(info_url)\n"
   ],
   "cell_type": "code",
   "outputs": [
    {
     "name": "stdout",
     "text": [
      "http://wjw.fujian.gov.cn/ztzl/gzbufk/yqtb/202002/t20200211_5192923.htm\n"
     ],
     "output_type": "stream"
    }
   ],
   "metadata": {
    "pycharm": {
     "is_executing": false
    }
   },
   "execution_count": 1
  },
  {
   "cell_type": "code",
   "execution_count": 2,
   "metadata": {
    "pycharm": {
     "is_executing": false
    }
   },
   "outputs": [
    {
     "name": "stdout",
     "text": [
      "begin\n",
      "　　2月10日0—24时，福建省报告新增新型冠状病毒肺炎确诊病例6例。其中：\n",
      "　　厦门市3例（海沧区2例、湖里区1例）；\n",
      "　　漳州市1例（长泰县1例）；\n",
      "　　泉州市1例（丰泽区1例）；\n",
      "　　南平市1例（浦城县1例）。\n",
      "　　新增治愈出院病例4例。\n",
      "　　\n",
      "　　报告新增新型冠状病毒肺炎疑似病例19例。其中：\n",
      "　　福州市7例（鼓楼区1例、晋安区1例、连江县1例、闽清县1例、永泰县2例、福清市1例）；\n",
      "　　厦门市1例（思明区1例）；\n",
      "　　漳州市2例（长泰县2例）；\n",
      "　　莆田市5例（城厢区2例、荔城区1例、秀屿区1例、湄洲湾北岸1例）；\n",
      "　　南平市1例（政和县1例）；\n",
      "　　宁德市3例（蕉城区1例、古田县1例、周宁县1例）。\n",
      " \n",
      "　　截至2月10日24时，福建省累计报告新型冠状病毒肺炎确诊病例267例（危重型8例、重型16例，无死亡病例）。其中：\n",
      "　　福州市63例（鼓楼区1例、仓山区7例、晋安区9例、长乐区8例、闽侯县3例、连江县8例、罗源县1例、闽清县6例、永泰县2例、福清市15例、宁德市古田县1例、湖北省武汉市2例）；\n",
      "　　厦门市31例（思明区12例、海沧区2例、湖里区2例、集美区4例、翔安区1例、泉州市石狮市1例、湖北省武汉市9例，注：昨日报告为集美区1例订正为思明区）；\n",
      "　　漳州市17例（芗城区9例、龙文区1例、云霄县2例、诏安县2例、长泰县1例、东山县1例、龙海市1例）；\n",
      "　　泉州市43例（鲤城区1例、丰泽区4例、洛江区1例、惠安县2例、安溪县2例、永春县2例、石狮市2例、晋江市17例、南安市12例）；\n",
      "　　三明市13例（三元区2例、宁化县1例、尤溪县1例、沙县5例、将乐县1例、永安市3例）；\n",
      "　　莆田市51例（城厢区29例、涵江区3例、荔城区6例、秀屿区6例、湄洲湾北岸3例、仙游县4例）；\n",
      "　　南平市19例（延平区4例、建阳区1例、顺昌县1例、浦城县1例、光泽县1例、松溪县5例、政和县1例、武夷山市3例、建瓯市1例、湖北省孝感市1例）；\n",
      "　　龙岩市6例（永定区5例、武平县1例）；\n",
      "　　宁德市24例（蕉城区3例、霞浦县4例、古田县9例、周宁县6例、福安市1例、福鼎市1例）。\n",
      "　　累计治愈出院病例39例，目前住院病例228例。\n",
      " \n",
      "　　现有报告新型冠状病毒肺炎疑似病例共72例。其中：\n",
      "　　福州市19例（鼓楼区1例、台江区1例、仓山区4例、晋安区4例、长乐区2例、连江县2例、闽清县1例、永泰县3例、福清市1例）；\n",
      "　　厦门市12例（思明区8例、湖里区1例、集美区1例、翔安区2例）；\n",
      "　　漳州市8例（芗城区1例、云霄县1例、长泰县3例、东山县1例、华安县1例、龙海市1例）；\n",
      "　　泉州市2例（晋江市1例、南安市1例）；\n",
      "　　三明市1例（大田县1例）；\n",
      "　　莆田市21例（城厢区14例、荔城区4例、秀屿区1例、湄洲湾北岸1例、仙游县1例）；\n",
      "　　南平市3例（建阳区1例、顺昌县1例、政和县1例）；\n",
      "　　龙岩市1例（新罗区1例）；\n",
      "　　宁德市5例（蕉城区2例、古田县1例、周宁县1例、福鼎市1例）。\n",
      " \n",
      "　　目前，确诊、疑似病例的密切接触者已解除医学观察5389人，尚有3117人正在接受医学观察。 \n",
      " \n",
      "  \n",
      "\n",
      "finish\n"
     ],
     "output_type": "stream"
    }
   ],
   "source": [
    "def get_data(web_address):\n",
    "    #获取网页信息\n",
    "    while(1):\n",
    "        try:\n",
    "            headers = {\"user-agent\": \"Mizilla/5.0\"}\n",
    "            res = requests.get(web_address,timeout=(5, 10), headers = headers)\n",
    "            flag=1\n",
    "            break\n",
    "        except:\n",
    "            print(\"retry\")\n",
    "            flag=0\n",
    "    res.encoding = 'utf-8'\n",
    "    soup = BeautifulSoup(res.text, 'html.parser')      #结构化处理\n",
    "    for element in soup.find_all(name='div',attrs = {'class':'TRS_Editor'} ):\n",
    "        print(element.get_text())\n",
    "        f = open(r\"D:\\IIoT\\20年寒假-疫情爬虫\\Data\\35.txt\", mode = 'w', encoding = \"utf-8\")\n",
    "        f.write(element.get_text())\n",
    "        f.close() \n",
    "                    \n",
    "if __name__ == '__main__':\n",
    "    print('begin')\n",
    "    get_data(info_url)\n",
    "    print('finish')"
   ]
  },
  {
   "cell_type": "code",
   "execution_count": 2,
   "metadata": {
    "pycharm": {
     "is_executing": false
    }
   },
   "outputs": [],
   "source": []
  }
 ]
}