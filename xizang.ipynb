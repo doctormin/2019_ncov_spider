{
 "cells": [
  {
   "cell_type": "code",
   "execution_count": 2,
   "outputs": [
    {
     "name": "stdout",
     "text": [
      "西藏自治区不同人群预防新冠病毒肺炎口罩选择与使用技术流程图\n",
      "自治区卫生健康委党组书记王云亭同志赴林芝市检查指导疫情防...\n",
      "自治区卫生健康委专题部署新冠肺炎疫情防控宣传引导工作\n",
      "2020年2月9日西藏自治区新型冠状病毒感染的肺炎疫情情况\n",
      "matched!\n",
      "截至2020年2月9日24时，西藏自治区累计报告新型冠状病毒感染的肺炎确诊病例1例。现有确诊病例1例，重症病例0例，死亡病例0例，出院病例0例。\n",
      "目前，确诊患者生命体征平稳。其密切接触者已全部解除医学隔离。\n",
      " 西藏自治区卫生健康委员会温馨提示：一般人群防控营养膳食指导\n",
      "    1.食物多样，谷类为主。每天的膳食应有谷薯类、蔬菜水果类、畜禽鱼蛋奶类、大豆坚果类等食物，注意选择全谷类、杂豆类和薯类。\n",
      "2.多吃蔬果、奶类、大豆。做到餐餐有蔬菜，天天吃水果。多选深色蔬果，不以果汁代替鲜果。吃各种各样的奶及其制品，特别是酸奶，相当于每天液态奶300克。经常吃豆制品，适量吃坚果。\n",
      "3.适量吃鱼、禽、蛋、瘦肉。鱼、禽、蛋和瘦肉摄入要适量，少吃肥肉、烟熏和腌制肉制品。坚决杜绝食用野生动物。\n",
      "4.少盐少油，控糖限酒。清淡饮食，少吃高盐和油炸食品。足量饮水，成年人每天7-8杯（1500-1700毫升），提倡饮用白开水和茶水；不喝或少喝含糖饮料。成人如饮酒，男性一天饮用酒的酒精量不超过25克，女性不超过15克。\n",
      "5.吃动平衡，健康体重。在家也要天天运动、保持健康体重。食不过量，不暴饮暴食，控制总能量摄入，保持能量平衡。减少久坐时间，每小时起来动一动。\n",
      "6.杜绝浪费，兴新食尚。珍惜食物，按需备餐，提倡分餐和使用公筷、公勺。选择新鲜、安全的食物和适宜的烹调方式。食物制备生熟分开、熟食二次加热要热透。学会阅读食品标签，合理选择食品。\n"
     ],
     "output_type": "stream"
    }
   ],
   "source": [
    "import re\n",
    "from selenium import webdriver\n",
    "\n",
    "tianjin = 'http://wjw.xizang.gov.cn/xwzx/wsjkdt/'         #卫健委的url\n",
    "info_pattern = re.compile(r'.*西藏.*新.*冠.*疫情.*')\n",
    "\n",
    "#找到通报疫情的url\n",
    "driver = webdriver.Chrome()\n",
    "driver.get(tianjin)\n",
    "nodes = driver.find_elements_by_xpath('/html/body/div[2]/div/div[2]/div[2]/div/div[2]/ul[1]/li')\n",
    "for node in nodes:\n",
    "      title = node.find_element_by_xpath('.//a').text\n",
    "      print(title)\n",
    "      if info_pattern.match(title):\n",
    "        print(\"matched!\")\n",
    "        info_title = title\n",
    "        info_url = node.find_element_by_xpath('.//a').get_attribute('href')\n",
    "        break\n",
    "driver.get(info_url)\n",
    "info_content = driver.find_element_by_xpath('/html/body/div[3]/div[3]/div[1]').text.strip()\n",
    "print(info_content)"
   ],
   "metadata": {
    "collapsed": false,
    "pycharm": {
     "name": "#%%\n",
     "is_executing": false
    }
   }
  }
 ],
 "metadata": {
  "kernelspec": {
   "display_name": "'Python Interactive'",
   "language": "python",
   "name": "361c5ae9-67e8-493c-b15d-1c763400a7c3"
  },
  "language_info": {
   "codemirror_mode": {
    "name": "ipython",
    "version": 2
   },
   "file_extension": ".py",
   "mimetype": "text/x-python",
   "name": "python",
   "nbconvert_exporter": "python",
   "pygments_lexer": "ipython2",
   "version": "2.7.6"
  },
  "pycharm": {
   "stem_cell": {
    "cell_type": "raw",
    "source": [],
    "metadata": {
     "collapsed": false
    }
   }
  }
 },
 "nbformat": 4,
 "nbformat_minor": 0
}