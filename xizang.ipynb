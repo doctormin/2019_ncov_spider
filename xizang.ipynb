{
 "cells": [
  {
   "cell_type": "code",
   "execution_count": 3,
   "outputs": [
    {
     "name": "stdout",
     "text": [
      "2020年2月10日西藏自治区新型冠状病毒感染的肺炎疫情情况\n",
      "matched!\n",
      "截至2020年2月10日24时，西藏自治区累计报告新型冠状病毒感染的肺炎确诊病例1例。现有确诊病例1例，重症病例0例，死亡病例0例，出院病例0例。\n",
      "        目前，确诊患者生命体征平稳。其密切接触者已全部解除医学隔离。\n",
      "         西藏自治区卫生健康委员会温馨提示：公民在疫情防控中的权利、义务\n",
      "        依照《传染病防治法》规定， 国家支持和鼓励单位和个人参与传染病防治工作。各级人民政府应当完善有关制度，方便单位和个人参与防治传染病的宣传教育、疫情报告、志愿服务和捐赠活动。\n",
      "         国家和社会应当关心、帮助传染病病人、病原携带者和疑似传染病病人，使其得到及时救治。任何单位和个人不得歧视传染病病人、病原携带者和疑似传染病病人。\n",
      "         传染病病人、病原携带者和疑似传染病病人，在治愈前或者在排除传染病嫌疑前，不得从事法律、行政法规和国务院卫生行政部门规定禁止从事的易使该传染病扩散的工作。\n",
      "        居民委员会、村民委员会应当组织居民、村民参与社区、农村的传染病预防与控制活动。\n",
      "        在中华人民共和国领域内的一切单位和个人，必须接受疾病预防控制机构、医疗机构有关传染病的调查、检验、采集样本、隔离治疗等预防、控制措施，如实提供有关情况。\n",
      "       任何单位和个人发现传染病病人或者疑似传染病病人时，应当及时向附近的疾病预防控制机构或者医疗机构报告。\n"
     ],
     "output_type": "stream"
    }
   ],
   "source": [
    "#54\n",
    "#By Yimin Zhao\n",
    "import re\n",
    "from selenium import webdriver\n",
    "\n",
    "xizang = 'http://wjw.xizang.gov.cn/xwzx/wsjkdt/'         #卫健委的url\n",
    "info_pattern = re.compile(r'.*西藏.*新.*冠.*疫情.*')\n",
    "\n",
    "#找到通报疫情的url\n",
    "driver = webdriver.Chrome()\n",
    "driver.get(xizang)\n",
    "nodes = driver.find_elements_by_xpath('/html/body/div[2]/div/div[2]/div[2]/div/div[2]/ul[1]/li')\n",
    "for node in nodes:\n",
    "      title = node.find_element_by_xpath('.//a').text\n",
    "      print(title)\n",
    "      if info_pattern.match(title):\n",
    "        print(\"matched!\")\n",
    "        info_title = title\n",
    "        info_url = node.find_element_by_xpath('.//a').get_attribute('href')\n",
    "        break\n",
    "driver.get(info_url)\n",
    "info_content = driver.find_element_by_xpath('/html/body/div[3]/div[3]/div[1]').text.strip()\n",
    "print(info_content)\n",
    "f = open(r\"D:\\IIoT\\20年寒假-疫情爬虫\\Data\\54.txt\", mode = 'w', encoding = \"utf-8\")\n",
    "f.write(info_content)\n",
    "f.close() \n",
    "driver.close()"
   ],
   "metadata": {
    "collapsed": false,
    "pycharm": {
     "name": "#%%\n",
     "is_executing": false
    }
   }
  }
 ],
 "metadata": {
  "kernelspec": {
   "display_name": "'Python Interactive'",
   "language": "python",
   "name": "361c5ae9-67e8-493c-b15d-1c763400a7c3"
  },
  "language_info": {
   "codemirror_mode": {
    "name": "ipython",
    "version": 2
   },
   "file_extension": ".py",
   "mimetype": "text/x-python",
   "name": "python",
   "nbconvert_exporter": "python",
   "pygments_lexer": "ipython2",
   "version": "2.7.6"
  },
  "pycharm": {
   "stem_cell": {
    "cell_type": "raw",
    "source": [],
    "metadata": {
     "collapsed": false
    }
   }
  }
 },
 "nbformat": 4,
 "nbformat_minor": 0
}