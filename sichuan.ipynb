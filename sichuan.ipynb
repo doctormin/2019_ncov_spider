{
 "nbformat": 4,
 "nbformat_minor": 2,
 "metadata": {
  "language_info": {
   "name": "python",
   "codemirror_mode": {
    "name": "ipython",
    "version": 3
   },
   "version": "3.7.4-final"
  },
  "orig_nbformat": 2,
  "file_extension": ".py",
  "mimetype": "text/x-python",
  "name": "python",
  "npconvert_exporter": "python",
  "pygments_lexer": "ipython3",
  "version": 3,
  "kernelspec": {
   "name": "361c5ae9-67e8-493c-b15d-1c763400a7c3",
   "language": "python",
   "display_name": "'Python Interactive'"
  }
 },
 "cells": [
  {
   "cell_type": "code",
   "execution_count": 3,
   "metadata": {},
   "outputs": [
    {
     "name": "stdout",
     "output_type": "stream",
     "text": "http://wsjkw.sc.gov.cn/scwsjkw/gzbd01/2020/2/8/d6994b8d81784ec8a871a131d55c5ba3.shtml\n"
    }
   ],
   "source": [
    "import requests\n",
    "from bs4 import BeautifulSoup\n",
    "import urllib.request\n",
    "import xlsxwriter\n",
    "import time\n",
    "import re\n",
    "\n",
    "sichuan = 'http://wsjkw.sc.gov.cn/scwsjkw/gggs/tygl.shtml'         #卫健委的url\n",
    "info_pattern = re.compile(r'截至.月.*日.*时我省新型冠状病毒肺炎疫情最新情况')  \n",
    "\n",
    "\n",
    "#找到通报疫情的url\n",
    "def find_url(web_address):\n",
    "    #获取网页信息\n",
    "    while(1):\n",
    "        try:\n",
    "            res = requests.get(web_address,timeout=(5, 10))\n",
    "            flag = 1\n",
    "            break\n",
    "        except:\n",
    "            print(\"retry\")\n",
    "            flag=0\n",
    "    res.encoding = 'utf-8'\n",
    "    \n",
    "    soup = BeautifulSoup(res.text, features = 'html.parser')      #结构化处理 \n",
    "    \n",
    "    for element in soup.find_all(name='div',attrs = {'class':'wy_contMain fontSt'}):\n",
    "        for info in element.find_all('a'):\n",
    "            info_title = info.get_text()      #获取通报的标题\n",
    "            if(info_pattern.match(info_title)):\n",
    "                return(info.get('href'))\n",
    "        \n",
    "\n",
    "        \n",
    "info_url = 'http://wsjkw.sc.gov.cn' + find_url(sichuan)\n",
    "print(info_url)\n"
   ]
  },
  {
   "cell_type": "code",
   "execution_count": 4,
   "metadata": {},
   "outputs": [
    {
     "name": "stdout",
     "output_type": "stream",
     "text": "begin\n\n　　2月7日0-24时，我省新型冠状病毒肺炎新增确诊病例19例，新增治愈出院病例13例，无新增死亡病例。\n\n　　新增确诊病例中，成都市7例、达州市2例、凉山州2例、攀枝花市1例、德阳市1例、绵阳市1例、遂宁市1例、南充市1例、广安市1例、巴中市1例、眉山市1例。\n\n　　新增治愈出院病例中，成都市5例、自贡市2例、广安市2例、攀枝花市1例、内江市1例、雅安市1例、巴中市1例。\n\n　　截至2月7日24时，我省累计报告新型冠状病毒肺炎确诊病例363例，涉及21个市（州）、122个县（市、区）。\n\n　　363名确诊患者中，正在住院隔离治疗312人（其中危重20人），已治愈出院50人，死亡1人。\n\n　　当日解除医学观察1237人，现有7207人正在接受医学观察。\n\n\n\n\n\n\n\n\nfinish\n"
    }
   ],
   "source": [
    "def get_data(web_address):\n",
    "    #获取网页信息\n",
    "    while(1):\n",
    "        try:\n",
    "            res = requests.get(web_address,timeout=2)\n",
    "            flag=1\n",
    "            break\n",
    "        except:\n",
    "            print(\"retry\")\n",
    "            flag=0\n",
    "    res.encoding = 'utf-8'\n",
    "    soup = BeautifulSoup(res.text, 'html.parser')      #结构化处理\n",
    "    for element in soup.find_all(name='div',attrs = {'class':'wy_contMain fontSt'} ):\n",
    "        print(element.get_text())\n",
    "                    \n",
    "if __name__ == '__main__':\n",
    "    print('begin')\n",
    "    get_data(info_url)\n",
    "    print('finish')"
   ]
  },
  {
   "cell_type": "code",
   "execution_count": null,
   "metadata": {},
   "outputs": [],
   "source": []
  }
 ]
}