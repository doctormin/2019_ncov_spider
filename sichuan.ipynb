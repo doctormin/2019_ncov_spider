{
 "nbformat": 4,
 "nbformat_minor": 2,
 "metadata": {
  "language_info": {
   "name": "python",
   "codemirror_mode": {
    "name": "ipython",
    "version": 3
   },
   "version": "3.7.4-final"
  },
  "orig_nbformat": 2,
  "file_extension": ".py",
  "mimetype": "text/x-python",
  "name": "python",
  "npconvert_exporter": "python",
  "pygments_lexer": "ipython3",
  "version": 3,
  "kernelspec": {
   "name": "361c5ae9-67e8-493c-b15d-1c763400a7c3",
   "language": "python",
   "display_name": "'Python Interactive'"
  },
  "pycharm": {
   "stem_cell": {
    "cell_type": "raw",
    "source": [],
    "metadata": {
     "collapsed": false
    }
   }
  }
 },
 "cells": [
  {
   "cell_type": "code",
   "execution_count": 1,
   "metadata": {
    "pycharm": {
     "is_executing": false
    }
   },
   "outputs": [
    {
     "name": "stdout",
     "text": [
      "http://wsjkw.sc.gov.cn/scwsjkw/gggs/2020/2/10/7070a169269f415782b8351d78caf228.shtml\n"
     ],
     "output_type": "stream"
    }
   ],
   "source": [
    "#51\n",
    "import requests\n",
    "from bs4 import BeautifulSoup\n",
    "import re\n",
    "\n",
    "sichuan = 'http://wsjkw.sc.gov.cn/scwsjkw/gggs/tygl.shtml'         #卫健委的url\n",
    "info_pattern = re.compile(r'.*省.*新.*冠.*疫情.*情况.*')  \n",
    "\n",
    "\n",
    "#找到通报疫情的url\n",
    "def find_url(web_address):\n",
    "    #获取网页信息\n",
    "    while(1):\n",
    "        try:\n",
    "            res = requests.get(web_address,timeout=(5, 10))\n",
    "            flag = 1\n",
    "            break\n",
    "        except:\n",
    "            print(\"retry\")\n",
    "            flag=0\n",
    "    res.encoding = 'utf-8'\n",
    "    \n",
    "    soup = BeautifulSoup(res.text, features = 'html.parser')      #结构化处理 \n",
    "    \n",
    "    for element in soup.find_all(name='div',attrs = {'class':'wy_contMain fontSt'}):\n",
    "        for info in element.find_all('a'):\n",
    "            info_title = info.get_text()      #获取通报的标题\n",
    "            if(info_pattern.match(info_title)):\n",
    "                return(info.get('href'))\n",
    "        \n",
    "\n",
    "        \n",
    "info_url = 'http://wsjkw.sc.gov.cn' + find_url(sichuan)\n",
    "print(info_url)\n"
   ]
  },
  {
   "cell_type": "code",
   "execution_count": 2,
   "metadata": {
    "pycharm": {
     "is_executing": false
    }
   },
   "outputs": [
    {
     "name": "stdout",
     "text": [
      "begin\n",
      "\n",
      "    2月9日0-24时，我省新型冠状病毒肺炎新增确诊病例19例，新增治愈出院病例16例，无新增死亡病例。\r\n",
      "\n",
      "    新增确诊病例中，甘孜州6例、成都市3例、达州市3例、遂宁市2例、泸州市1例、绵阳市1例、南充市1例、巴中市1例、凉山州1例。\r\n",
      "\n",
      "    新增治愈出院病例中，攀枝花市4例、成都市3例、宜宾市3例、绵阳市1例、广元市1例、南充市1例、雅安市1例、资阳市1例、凉山州1例。\r\n",
      "\n",
      "    截至2月9日24时，我省累计报告新型冠状病毒肺炎确诊病例405例，涉及21个市（州）、124个县（市、区）。\r\n",
      "\n",
      "    405名确诊患者中，正在住院隔离治疗328人（其中危重18人），已治愈出院76人，死亡1人。\r\n",
      "\n",
      "    当日解除医学观察1079人，现有6912人正在接受医学观察。\n",
      "\n",
      "\n",
      "\n",
      "finish\n"
     ],
     "output_type": "stream"
    }
   ],
   "source": [
    "def get_data(web_address):\n",
    "    #获取网页信息\n",
    "    while(1):\n",
    "        try:\n",
    "            res = requests.get(web_address,timeout=2)\n",
    "            flag=1\n",
    "            break\n",
    "        except:\n",
    "            print(\"retry\")\n",
    "            flag=0\n",
    "    res.encoding = 'utf-8'\n",
    "    soup = BeautifulSoup(res.text, 'html.parser')      #结构化处理\n",
    "    for element in soup.find_all(name='div',attrs = {'class':'wy_contMain fontSt'} ):\n",
    "        print(element.get_text())\n",
    "                    \n",
    "if __name__ == '__main__':\n",
    "    print('begin')\n",
    "    get_data(info_url)\n",
    "    print('finish')"
   ]
  },
  {
   "cell_type": "code",
   "execution_count": 2,
   "metadata": {
    "pycharm": {
     "is_executing": false
    }
   },
   "outputs": [],
   "source": []
  }
 ]
}