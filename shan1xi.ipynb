{
 "cells": [
  {
   "cell_type": "code",
   "execution_count": 9,
   "outputs": [
    {
     "name": "stdout",
     "text": [
      "http://wjw.shanxi.gov.cn:80/wjywl02/24775.hrh\n"
     ],
     "output_type": "stream"
    }
   ],
   "source": [
    "import requests\n",
    "from bs4 import BeautifulSoup\n",
    "import urllib.request\n",
    "import xlsxwriter\n",
    "import time\n",
    "import re\n",
    "\n",
    "shan1xi = 'http://wjw.shanxi.gov.cn/xingfew/index.hrh'         #卫健委的url\n",
    "info_pattern = re.compile(r'.*山西省.*新型冠状病毒.*疫情情况.*')  \n",
    "\n",
    "\n",
    "#找到通报疫情的url\n",
    "def find_url(web_address):\n",
    "    #获取网页信息\n",
    "    while(1):\n",
    "        try:\n",
    "            headers = {\"user-agent\": \"Mizilla/5.0\"}\n",
    "            res = requests.get(web_address,timeout=(5, 10), headers = headers)\n",
    "            flag = 1\n",
    "            break\n",
    "        except:\n",
    "            print(\"retry\")\n",
    "            flag=0\n",
    "    res.encoding = 'utf-8'\n",
    "    \n",
    "    soup = BeautifulSoup(res.text, features = 'html.parser')      #结构化处理 \n",
    "    \n",
    "    for element in soup.find_all(name='div',attrs = {'class':'demo-right'}):\n",
    "        for info in element.find_all('a'):\n",
    "            info_title = info.get_text()      #获取通报的标题\n",
    "            if(info_pattern.match(info_title)):\n",
    "                return(info.get('href'))\n",
    "                \n",
    "info_url = find_url(shan1xi)\n",
    "print(info_url)\n"
   ],
   "metadata": {
    "collapsed": false,
    "pycharm": {
     "name": "#%%\n",
     "is_executing": false
    }
   }
  },
  {
   "cell_type": "code",
   "execution_count": 10,
   "outputs": [
    {
     "name": "stdout",
     "text": [
      "begin\n",
      "\n",
      "2020年2月8日0时至24时，山西省报告新增新型冠状病毒肺炎确诊病例12例。其中：太原市3例（万柏林区2例、清徐县1例）、晋中市3例（平遥县3例）、朔州市2例（朔城区2例）、长治市2例（潞州区2例）、大同市1例（平城区1例）、运城市1例（平陆县1例）。新增疑似病例30例，现有疑似病例71例。截至2月8日24时，山西省11个市累计报告新型冠状病毒肺炎确诊病例115例。其中：晋中市32例（平遥县32例，根据新型冠状病毒肺炎防控方案第四版规定平遥县核减1例），运城市18例（新绛县5例、盐湖区3例、平陆县3例、河津市2例、芮城县1例、万荣县1例、夏县1例、绛县1例、稷山县1例），太原市15例（万柏林区6例、迎泽区4例、杏花岭区3例、小店区1例、清徐县1例），大同市11例（平城区9例、云冈区2例），晋城市8例（城区3例、沁水县2例、阳城县1例、陵川县1例、泽州县1例），长治市7例（潞州区6例、长子县1例），忻州市6例（五台县5例、忻府区1例），吕梁市6例（孝义市3例、离石区2例、文水县1例），朔州市6例（应县3例、朔城区2例、怀仁市1例），阳泉市4例（城区2例、盂县2例），临汾市2例（乡宁县1例、吉县1例）。新增治愈出院6例（运城市3例、晋城市2例、晋中市1例），累计治愈出院21例（晋中市6例、运城市4例、大同市3例、吕梁市3例、晋城市2例、太原市1例、朔州市1例、临汾市1例）。现有在院隔离治疗94例，其中重症9例，危重症4例。4名危重症病例（晋城市2例、太原市1例、运城市1例），9名重症病例（太原市3例、晋中市2例、阳泉市1例、长治市1例、忻州市1例、朔州市1例）均已集中在太原市第四人民医院（省级定点医院）隔离治疗。经省级专家和医护团队精心监护救治，目前病情平稳。其余81名普通病例正在市级定点医院隔离治疗，目前病情平稳，部分病例病情好转。目前累计追踪到密切接触者3038人，当日解除医学观察188人，共有1054人正在接受医学观察。\n",
      "\n",
      "finish\n"
     ],
     "output_type": "stream"
    }
   ],
   "source": [
    "def get_data(web_address):\n",
    "    #获取网页信息\n",
    "    while(1):\n",
    "        try:\n",
    "            headers = {\"user-agent\": \"Mizilla/5.0\"}\n",
    "            res = requests.get(web_address,timeout=2, headers = headers)\n",
    "            flag=1\n",
    "            break\n",
    "        except:\n",
    "            print(\"retry\")\n",
    "            flag=0\n",
    "    res.encoding = 'utf-8'\n",
    "    soup = BeautifulSoup(res.text, 'html.parser')      #结构化处理\n",
    "    for element in soup.find_all(name='div',attrs = {'class':'ze-art'}):\n",
    "        print(element.get_text())\n",
    "                    \n",
    "if __name__ == '__main__':\n",
    "    print('begin')\n",
    "    get_data(info_url)\n",
    "    print('finish')\n",
    "    "
   ],
   "metadata": {
    "collapsed": false,
    "pycharm": {
     "name": "#%%\n",
     "is_executing": false
    }
   }
  },
  {
   "cell_type": "code",
   "execution_count": null,
   "outputs": [],
   "source": [
    "\n",
    "\n",
    "\n"
   ],
   "metadata": {
    "collapsed": false,
    "pycharm": {
     "name": "#%%\n"
    }
   }
  }
 ],
 "metadata": {
  "kernelspec": {
   "name": "python37464bit0d4557ec91c049559ae1861a5476b44a",
   "language": "python",
   "display_name": "Python 3.7.4 64-bit"
  },
  "language_info": {
   "codemirror_mode": {
    "name": "ipython",
    "version": 2
   },
   "file_extension": ".py",
   "mimetype": "text/x-python",
   "name": "python",
   "nbconvert_exporter": "python",
   "pygments_lexer": "ipython2",
   "version": "2.7.6"
  },
  "pycharm": {
   "stem_cell": {
    "cell_type": "raw",
    "source": [],
    "metadata": {
     "collapsed": false
    }
   }
  }
 },
 "nbformat": 4,
 "nbformat_minor": 0
}