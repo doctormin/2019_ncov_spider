{
 "cells": [
  {
   "cell_type": "code",
   "execution_count": 3,
   "metadata": {
    "pycharm": {
     "is_executing": false
    }
   },
   "outputs": [
    {
     "name": "stdout",
     "text": [
      "begin\n",
      "142\n",
      "15\n",
      "3\n",
      "19\n",
      "从上到下分别是确诊人数、重症人数、死亡人数、出院人数\n",
      "finish\n"
     ],
     "output_type": "stream"
    }
   ],
   "source": [
    "#46\n",
    "#By Yimin Zhao\n",
    "import requests\n",
    "from bs4 import BeautifulSoup\n",
    "import urllib.request\n",
    "import xlsxwriter\n",
    "import time\n",
    "import re\n",
    "\n",
    "hainan = 'http://wst.hainan.gov.cn/yqfk/'         #卫健委的url\n",
    "\n",
    "def get_data(info_url):\n",
    "     #获取网页信息\n",
    "    while(1):\n",
    "        try:\n",
    "            res = requests.get(info_url,timeout=2)\n",
    "            flag=1\n",
    "            break\n",
    "        except:\n",
    "            print(\"retry\")\n",
    "            flag=0\n",
    "    res.encoding = 'utf-8'\n",
    "    f = open(r\"D:\\IIoT\\20年寒假-疫情爬虫\\Data\\46.txt\", mode = 'w', encoding = \"utf-8\")\n",
    "    soup = BeautifulSoup(res.text, 'html.parser')      #结构化处理\n",
    "    for elements in soup.find_all(name = 'cite'):\n",
    "        print(elements.get_text())\n",
    "        f.write(elements.get_text())\n",
    "        f.write(\"\\n\")\n",
    "    f.write(\"\\n从上到下分别是确诊人数、重症人数、死亡人数、出院人数\")\n",
    "    f.close()\n",
    "    '''\n",
    "    for elements in soup.find_all(name = 'a',attrs = {'class':'x-admin-backlog-body-center'}):\n",
    "        info = elements.find_all(name = 'cite')\n",
    "        print(elements.find_all(name = 'h3'))\n",
    "        if(type == '确诊人数'): quezheng = info.get_text()\n",
    "        if(type == '重症人数'): zhongzheng = info.get_text() \n",
    "        if(type == '死亡人数'): siwang = info.get_text()\n",
    "        if(type == '出院人数'): chuyuan = info.get_text()\n",
    "    #print(quezheng, zhongzheng, siwang, chuyuan)\n",
    "    '''\n",
    "if __name__ == '__main__':\n",
    "    print('begin')\n",
    "    get_data(hainan)\n",
    "    print('从上到下分别是确诊人数、重症人数、死亡人数、出院人数')\n",
    "    print('finish')\n",
    "\n"
   ]
  },
  {
   "cell_type": "code",
   "execution_count": 3,
   "outputs": [],
   "source": [],
   "metadata": {
    "collapsed": false,
    "pycharm": {
     "name": "#%%\n",
     "is_executing": false
    }
   }
  },
  {
   "cell_type": "code",
   "execution_count": 3,
   "metadata": {
    "pycharm": {
     "is_executing": false
    }
   },
   "outputs": [],
   "source": []
  }
 ],
 "metadata": {
  "kernelspec": {
   "display_name": "Python 3.7.4 64-bit",
   "language": "python",
   "name": "python37464bit0d4557ec91c049559ae1861a5476b44a"
  },
  "language_info": {
   "codemirror_mode": {
    "name": "ipython",
    "version": 2
   },
   "file_extension": ".py",
   "mimetype": "text/x-python",
   "name": "python",
   "nbconvert_exporter": "python",
   "pygments_lexer": "ipython2",
   "version": "3.7.4-final"
  },
  "pycharm": {
   "stem_cell": {
    "cell_type": "raw",
    "source": [],
    "metadata": {
     "collapsed": false
    }
   }
  }
 },
 "nbformat": 4,
 "nbformat_minor": 0
}