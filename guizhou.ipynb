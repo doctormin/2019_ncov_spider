{
 "cells": [
  {
   "cell_type": "code",
   "execution_count": 9,
   "outputs": [
    {
     "name": "stdout",
     "text": [
      "· 2020年2月9日0—14时贵州省新型冠状病毒肺炎疫情情况\n",
      "2020-02-09\n",
      "matched!\n",
      "2020年2月9日0—14时，全省新型冠状病毒感染的肺炎新增确诊病例3例,新增治愈出院病例0例。其中：新增确诊病例中，贵阳市2例、黔东南州1例。\n",
      "截至2月9日14时，全省累计报告新型冠状病毒感染的肺炎病例99例。其中，43例有武汉旅居史，5例有武汉外湖北其他地区旅居史，9例有湖北以外地区旅居史；治愈出院7例，病情平稳71例，重症15例，危重症5例，死亡1例；男性53例，女性46例；年龄最大87岁，最小1个月（确诊时间）；贵阳市24例（1例已治愈），遵义市15例（1例已治愈），六盘水10例，安顺市4例，毕节市21例，铜仁市7例（2例已治愈），黔东南州7例，黔南州7例（3例已治愈），黔西南州4例。现有疑似病例77例。\n",
      "累计追踪密切接触者1492人，已解除医学观察705人，尚在接受医学观察727人。\n",
      "新增3例患者信息如下：\n",
      "患者1：高某杰，男，44岁，长期生活在武汉，居于武汉市金山大道，是2月8日确诊病例骆某的丈夫。1月26日由武汉途径云南到达贵阳后，自行前往军阅酒店进行隔离，2月9日被诊断为确诊病例，目前在贵州省职工医院隔离治疗，病情平稳。\n",
      "患者2：彭某芳，女，25岁，现居于贵阳市云岩区优山美诗小区。1月19日从武汉到贵阳，1月20日出现偶有咳嗽症状，2月9日被诊断为确诊病例，目前在贵州医科大学附属医院隔离治疗，病情平稳。\n",
      "患者3：王某，男，36岁，在武汉市经商，现居于黔东南州凯里市凯棠镇南江村。1月23日自驾从武汉到凯里，2月7日因发热、头痛等症状到黔东南州人民医院住院治疗，2月9日被诊断为确诊病例，目前在黔东南州人民医院隔离治疗，病情平稳。\n"
     ],
     "output_type": "stream"
    }
   ],
   "source": [
    "import re\n",
    "from selenium import webdriver\n",
    "\n",
    "tianjin = 'http://www.gzhfpc.gov.cn/xwzx_500663/zwyw/'         #卫健委的url\n",
    "info_pattern = re.compile(r'.*贵州.*新型冠状病毒.*疫情情况.*')\n",
    "\n",
    "driver = webdriver.Chrome()\n",
    "driver.get(tianjin)\n",
    "nodes = driver.find_elements_by_xpath('//*[@class=\"right_list f_r f14\"]/dl/dd/ul/li')\n",
    "for node in nodes:\n",
    "      title = node.find_element_by_xpath('a').text\n",
    "      #print(title)\n",
    "      if info_pattern.match(title):\n",
    "        #print(\"matched!\")\n",
    "        info_title = title\n",
    "        info_url = node.find_element_by_xpath('a').get_attribute('href')\n",
    "        break\n",
    "driver.get(info_url)\n",
    "info_content = driver.find_element_by_xpath('//*[@id=\"Zoom\"]/div').text.strip()\n",
    "print(info_content)"
   ],
   "metadata": {
    "collapsed": false,
    "pycharm": {
     "name": "#%%\n",
     "is_executing": false
    }
   }
  }
 ],
 "metadata": {
  "kernelspec": {
   "display_name": "'Python Interactive'",
   "language": "python",
   "name": "361c5ae9-67e8-493c-b15d-1c763400a7c3"
  },
  "language_info": {
   "codemirror_mode": {
    "name": "ipython",
    "version": 2
   },
   "file_extension": ".py",
   "mimetype": "text/x-python",
   "name": "python",
   "nbconvert_exporter": "python",
   "pygments_lexer": "ipython2",
   "version": "2.7.6"
  },
  "pycharm": {
   "stem_cell": {
    "cell_type": "raw",
    "source": [],
    "metadata": {
     "collapsed": false
    }
   }
  }
 },
 "nbformat": 4,
 "nbformat_minor": 0
}