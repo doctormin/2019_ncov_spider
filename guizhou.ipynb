{
 "cells": [
  {
   "cell_type": "code",
   "execution_count": 1,
   "outputs": [
    {
     "name": "stdout",
     "text": [
      "2020年2月10日0—12时，全省新型冠状病毒肺炎无新增确诊病例。\n",
      "截至2月10日12时，全省累计报告新型冠状病毒肺炎病例109例。其中，45例有武汉旅居史，7例有武汉外湖北其他地区旅居史，9例有湖北以外地区旅居史；治愈出院7例，病情平稳80例，重症14例，危重症7例，死亡1例；男性57例，女性52例；年龄最大87岁，最小1个月（确诊时间）；贵阳市27例（1例已治愈），遵义市19例（1例已治愈），六盘水市10例，安顺市4例，毕节市21例，铜仁市8例（2例已治愈），黔东南州8例，黔南州8例（3例已治愈），黔西南州4例。现有疑似病例75例。\n",
      "累计追踪密切接触者1645人，已解除医学观察805人，尚在接受医学观察775人。\n"
     ],
     "output_type": "stream"
    }
   ],
   "source": [
    "#52\n",
    "#By Yimin Zhao\n",
    "import re\n",
    "from selenium import webdriver\n",
    "\n",
    "tianjin = 'http://www.gzhfpc.gov.cn/xwzx_500663/zwyw/'         #卫健委的url\n",
    "info_pattern = re.compile(r'.*贵州.*新.*冠.*疫情.*')\n",
    "\n",
    "driver = webdriver.Chrome()\n",
    "driver.get(tianjin)\n",
    "nodes = driver.find_elements_by_xpath('//*[@class=\"right_list f_r f14\"]/dl/dd/ul/li')\n",
    "for node in nodes:\n",
    "      title = node.find_element_by_xpath('a').text\n",
    "      #print(title)\n",
    "      if info_pattern.match(title):\n",
    "        #print(\"matched!\")\n",
    "        info_title = title\n",
    "        info_url = node.find_element_by_xpath('a').get_attribute('href')\n",
    "        break\n",
    "driver.get(info_url)\n",
    "info_content = driver.find_element_by_xpath('//*[@id=\"Zoom\"]/div').text.strip()\n",
    "print(info_content)"
   ],
   "metadata": {
    "collapsed": false,
    "pycharm": {
     "name": "#%%\n",
     "is_executing": false
    }
   }
  }
 ],
 "metadata": {
  "kernelspec": {
   "display_name": "'Python Interactive'",
   "language": "python",
   "name": "361c5ae9-67e8-493c-b15d-1c763400a7c3"
  },
  "language_info": {
   "codemirror_mode": {
    "name": "ipython",
    "version": 2
   },
   "file_extension": ".py",
   "mimetype": "text/x-python",
   "name": "python",
   "nbconvert_exporter": "python",
   "pygments_lexer": "ipython2",
   "version": "2.7.6"
  },
  "pycharm": {
   "stem_cell": {
    "cell_type": "raw",
    "source": [],
    "metadata": {
     "collapsed": false
    }
   }
  }
 },
 "nbformat": 4,
 "nbformat_minor": 0
}