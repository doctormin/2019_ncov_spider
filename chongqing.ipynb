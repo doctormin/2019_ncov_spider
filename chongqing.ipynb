{
 "nbformat": 4,
 "nbformat_minor": 2,
 "metadata": {
  "language_info": {
   "name": "python",
   "codemirror_mode": {
    "name": "ipython",
    "version": 3
   },
   "version": "3.7.4-final"
  },
  "orig_nbformat": 2,
  "file_extension": ".py",
  "mimetype": "text/x-python",
  "name": "python",
  "npconvert_exporter": "python",
  "pygments_lexer": "ipython3",
  "version": 3,
  "kernelspec": {
   "name": "361c5ae9-67e8-493c-b15d-1c763400a7c3",
   "language": "python",
   "display_name": "'Python Interactive'"
  },
  "pycharm": {
   "stem_cell": {
    "cell_type": "raw",
    "source": [],
    "metadata": {
     "collapsed": false
    }
   }
  }
 },
 "cells": [
  {
   "cell_type": "code",
   "execution_count": 4,
   "metadata": {
    "pycharm": {
     "is_executing": false
    }
   },
   "outputs": [
    {
     "name": "stdout",
     "text": [
      "http://wsjkw.cq.gov.cn/yqxxyqtb/20200210/253296.html\n"
     ],
     "output_type": "stream"
    }
   ],
   "source": [
    "#50\n",
    "import requests\n",
    "from bs4 import BeautifulSoup\n",
    "import urllib.request\n",
    "import xlsxwriter\n",
    "import time\n",
    "import re\n",
    "\n",
    "chongqing = 'http://wsjkw.cq.gov.cn/yqxxyqtb/'         #卫健委的url\n",
    "info_pattern = re.compile(r'.*重庆.*新.*疫情.*')\n",
    "\n",
    "#找到通报疫情的url\n",
    "def find_url(web_address):\n",
    "    #获取网页信息\n",
    "    while(1):\n",
    "        try:\n",
    "            res = requests.get(web_address,timeout=(5, 10))\n",
    "            flag = 1\n",
    "            break\n",
    "        except:\n",
    "            print(\"retry\")\n",
    "            flag=0\n",
    "    res.encoding = 'utf-8'\n",
    "    soup = BeautifulSoup(res.text, features = 'html.parser')      #结构化处理 \n",
    "    for element in soup.find_all(name='div',attrs = {'class':'newslist'}):\n",
    "        #print(element)\n",
    "        for info in element.find_all('a'):\n",
    "            for title in info.find_all(name = 'span', attrs = {'class':'span-title'}):\n",
    "                #print(title)\n",
    "                info_title = title.get_text().strip()\n",
    "                #print(repr(info_title))     #获取通报的标题\n",
    "                #print(repr(info_pattern))\n",
    "                #print(info_pattern.match(info_title))\n",
    "                if(info_pattern.match(info_title)):\n",
    "                    return(info.get('href'))        \n",
    "info_url = 'http://wsjkw.cq.gov.cn' + find_url(chongqing)\n",
    "print(info_url)\n"
   ]
  },
  {
   "cell_type": "code",
   "execution_count": 5,
   "metadata": {
    "pycharm": {
     "is_executing": false
    }
   },
   "outputs": [
    {
     "name": "stdout",
     "text": [
      "begin\n",
      "\n",
      "今日，重庆市政府新闻办举行重庆市新冠肺炎疫情防控工作新闻发布会（第十六场），市卫生健康委通报全市疫情有关情况。新增确诊病例5例，新增出院病例9例市卫生健康委通报，2020年2月10日0—12时，重庆市报告新冠肺炎新增确诊病例5例，新增出院病例9例。截至2月10日12时，重庆市累计报告新冠肺炎确诊病例473例；现有重型病例34例，危重型病例22例，死亡病例2例，出院病例60例。确诊病例473例分布在39个区县（含两江新区、高新区、万盛经开区），北碚区、南川区尚未有病例。确诊病例较多的区县有万州区98例、江北区24例、渝中区20例、九龙坡区20例、垫江县20例、云阳县20例。确诊病例中，男性258例，女性215例；年龄最大90岁，最小7月龄。累计排除2071例疑似病例，尚有417例疑似病例正在排查中。累计追踪到密切接触者15770人，已解除医学观察9231人，尚有6539人正在接受医学观察。截至2月9日24时，4个集中救治医院共收治411例，剩余床位789张。累计有二代病例159例、三代病例18例、社区感染病例44例（根据新的流调结果，较昨日减少1例）；无外籍人士病例。进一步加强疫情防控和医疗救治工作市卫生健康委介绍，当前，随着企业逐步复产复工，如何应对疫情扩散蔓延风险和群众日常就诊高峰，市卫生健康委积极研判，进一步加强疫情防控和医疗救治工作。在疫情防控方面，印发了《复产复工企业新型冠状病毒肺炎疫情防控技术指南（试行）》，加强对企业疫情防控的技术指导。一是提前排查。要求对返岗职工健康状况建立台账，实行“一人一档”管理。针对不同人群制定分类返岗措施，对符合条件的返岗人员采取“厂区内上班，14天内不得离开厂区、宿舍或指定区域”措施。二是加强防护。要求企业设置临时隔离点，从防护准备、场所通风消毒、人员防护、人员管控、就餐管理等方面，细化复工复产后疫情防护措施。三是健康监测。严格落实门岗体温监测登记、员工健康监测报告制度，进一步规范企业疫情处置工作。在医疗救治方面，印发了《关于做好春节假期后就诊高峰应对准备工作的通知》，各医疗机构通过门诊预约、“互联网+”、非急性手术择期等有效方式，合理调整诊疗时间和资源布局，进一步规范就诊流程，引导患者有序就诊，努力做到既保证防疫医疗救治工作科学有效安全开展，又有效满足人民群众的日常诊疗需求。据了解，我市医院门急诊已陆续开诊，只是部分科室（比如康复、疼痛等科室）因就诊人数少，适当压缩了门诊时间。市卫生健康委强调，需要特别要说明的是，口腔专科门诊情况尤为特殊。因为就诊时，医生和患者面对面长时间超近距离接触，高速涡轮手机及口腔洁治器等专科设备在工作时会产生大量水雾飞沫及气溶胶，现有常规防护措施不能有效防止病毒传播。因此，从2月1日起，全市各级各类开展口腔诊疗服务的医疗机构，全面暂停口腔门诊常规诊疗服务，但保留了急性牙痛、牙外伤、口腔颌面部创伤和感染等口腔急诊医疗服务。市卫生健康委表示，专家认为，疫情发生以来，市委、市政府科学部署，相关部门密切配合，对确诊病例加大追踪溯源力度，将一些既往报告的社区感染病例的传染来源追踪明确并有效管理，降低了传播风险；对确诊病例的密切接触者全力追踪，规范管理，目前平均每例确诊患者追踪并管理的密切接触者数量明显增多。同时，出台政策加大密切接触者PCR筛查力度，及早发现密切接触者中处于潜伏期的患者和无症状感染者，及时采取措施，防止疫情扩散蔓延。从近日我市新增病例情况来看，当前的防控措施是有力有效的。市卫生健康委呼吁，当前，全市疫情形势仍然处于严峻复杂的关键时刻，防控工作进入企业陆续复工复产、社会面流动性增大的重要节点。防控措施不能松劲，还需要大家继续配合，积极参与支持疫情防控工作，做好自我防护，做到少出门、不聚集、戴口罩、手卫生。\n",
      "\n",
      "\n",
      "finish\n"
     ],
     "output_type": "stream"
    }
   ],
   "source": [
    "def get_data(web_address):\n",
    "    #获取网页信息\n",
    "    while(1):\n",
    "        try:\n",
    "            res = requests.get(web_address,timeout=2)\n",
    "            flag=1\n",
    "            break\n",
    "        except:\n",
    "            print(\"retry\")\n",
    "            flag=0\n",
    "    res.encoding = 'utf-8'\n",
    "    soup = BeautifulSoup(res.text, 'html.parser')      #结构化处理\n",
    "    for element in soup.find_all(name='div',attrs = {'class':'uedit'} ):\n",
    "        print(element.get_text())\n",
    "                    \n",
    "if __name__ == '__main__':\n",
    "    print('begin')\n",
    "    get_data(info_url)\n",
    "    print('finish')"
   ]
  },
  {
   "cell_type": "code",
   "execution_count": 5,
   "metadata": {
    "pycharm": {
     "is_executing": false
    }
   },
   "outputs": [],
   "source": []
  }
 ]
}