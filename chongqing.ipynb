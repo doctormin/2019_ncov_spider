{
 "nbformat": 4,
 "nbformat_minor": 2,
 "metadata": {
  "language_info": {
   "name": "python",
   "codemirror_mode": {
    "name": "ipython",
    "version": 3
   },
   "version": "3.7.4-final"
  },
  "orig_nbformat": 2,
  "file_extension": ".py",
  "mimetype": "text/x-python",
  "name": "python",
  "npconvert_exporter": "python",
  "pygments_lexer": "ipython3",
  "version": 3,
  "kernelspec": {
   "name": "361c5ae9-67e8-493c-b15d-1c763400a7c3",
   "language": "python",
   "display_name": "'Python Interactive'"
  },
  "pycharm": {
   "stem_cell": {
    "cell_type": "raw",
    "source": [],
    "metadata": {
     "collapsed": false
    }
   }
  }
 },
 "cells": [
  {
   "cell_type": "code",
   "execution_count": 1,
   "metadata": {
    "pycharm": {
     "is_executing": false
    }
   },
   "outputs": [
    {
     "name": "stdout",
     "text": [
      "retry\n",
      "http://wsjkw.cq.gov.cn/yqxxyqtb/20200211/253396.html\n"
     ],
     "output_type": "stream"
    }
   ],
   "source": [
    "#50\n",
    "#By Yimin Zhao\n",
    "import requests\n",
    "from bs4 import BeautifulSoup\n",
    "import urllib.request\n",
    "import xlsxwriter\n",
    "import time\n",
    "import re\n",
    "\n",
    "chongqing = 'http://wsjkw.cq.gov.cn/yqxxyqtb/'         #卫健委的url\n",
    "info_pattern = re.compile(r'.*重庆.*新.*疫情.*')\n",
    "\n",
    "#找到通报疫情的url\n",
    "def find_url(web_address):\n",
    "    #获取网页信息\n",
    "    while(1):\n",
    "        try:\n",
    "            res = requests.get(web_address,timeout=(5, 10))\n",
    "            flag = 1\n",
    "            break\n",
    "        except:\n",
    "            print(\"retry\")\n",
    "            flag=0\n",
    "    res.encoding = 'utf-8'\n",
    "    soup = BeautifulSoup(res.text, features = 'html.parser')      #结构化处理 \n",
    "    for element in soup.find_all(name='div',attrs = {'class':'newslist'}):\n",
    "        #print(element)\n",
    "        for info in element.find_all('a'):\n",
    "            for title in info.find_all(name = 'span', attrs = {'class':'span-title'}):\n",
    "                #print(title)\n",
    "                info_title = title.get_text().strip()\n",
    "                #print(repr(info_title))     #获取通报的标题\n",
    "                #print(repr(info_pattern))\n",
    "                #print(info_pattern.match(info_title))\n",
    "                if(info_pattern.match(info_title)):\n",
    "                    return(info.get('href'))        \n",
    "info_url = 'http://wsjkw.cq.gov.cn' + find_url(chongqing)\n",
    "print(info_url)\n"
   ]
  },
  {
   "cell_type": "code",
   "execution_count": 2,
   "metadata": {
    "pycharm": {
     "is_executing": false
    }
   },
   "outputs": [
    {
     "name": "stdout",
     "text": [
      "begin\n",
      "\n",
      "2020年2月10日12—24时，重庆市报告新冠肺炎新增确诊病例13例，新增重型病例3例，重型病例转普通型病例1例，新增出院病例6例。新增确诊病例中，江北区1例、南岸区1例、渝北区2例、长寿区1例、大足区1例、潼南区1例、丰都县1例、忠县1例、云阳县1例、巫山县1例、石柱县2例；新增重型病例中，万州区2例、江北区1例；重型病例转普通型病例为长寿区1例；新增出院病例中，黔江区2例、合川区1例、大足区1例、忠县2例。截至2月10日24时，重庆市累计报告新冠肺炎确诊病例486例；现有重型病例36例，危重型病例22例，死亡病例2例，出院病例66例。累计追踪到密切接触者16532人，已解除医学观察9650人，尚有6882人正在接受医学观察。具体情况如下：专家认为，近日，新增确诊病例中，68.35%来自密切接触者。密切接触者中的二、三代感染为当前新增确诊病例主要来源，2月6日占63.64%、2月7日占66.67%、2月8日占65.00%、2月9日占77.27%。对此，各区县持续加强密切接触者追踪和隔离管理，是当前疫情防控的关键所在。重庆市卫生健康委提示：加大密切接触者管理力度，有效管控潜在传染源，能够防止疫情扩散蔓延。密切接触者隔离观察期为与病例或感染者末次接触后14天，14天后没有发现异常情况，可以解除医学观察。对疑似病例的密切接触者，在疑似病例被排除后，密切接触者也相应解除医学观察。请所有被判定为密切接触者的人员，主动配合医疗卫生工作者进行医学观察，这既是对本人及家人、朋友的健康负责，也是对广大群众的健康负责。\n",
      "\n",
      "\n",
      "finish\n"
     ],
     "output_type": "stream"
    }
   ],
   "source": [
    "def get_data(web_address):\n",
    "    #获取网页信息\n",
    "    while(1):\n",
    "        try:\n",
    "            res = requests.get(web_address,timeout=2)\n",
    "            flag=1\n",
    "            break\n",
    "        except:\n",
    "            print(\"retry\")\n",
    "            flag=0\n",
    "    res.encoding = 'utf-8'\n",
    "    soup = BeautifulSoup(res.text, 'html.parser')      #结构化处理\n",
    "    for element in soup.find_all(name='div',attrs = {'class':'uedit'} ):\n",
    "        print(element.get_text())\n",
    "        f = open(r\"D:\\IIoT\\20年寒假-疫情爬虫\\Data\\50.txt\", mode = 'w', encoding = \"utf-8\")\n",
    "        f.write(element.get_text())\n",
    "        f.close() \n",
    "                    \n",
    "if __name__ == '__main__':\n",
    "    print('begin')\n",
    "    get_data(info_url)\n",
    "    print('finish')"
   ]
  },
  {
   "cell_type": "code",
   "execution_count": 2,
   "metadata": {
    "pycharm": {
     "is_executing": false
    }
   },
   "outputs": [],
   "source": []
  }
 ]
}