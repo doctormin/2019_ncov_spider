{
 "nbformat": 4,
 "nbformat_minor": 2,
 "metadata": {
  "language_info": {
   "name": "python",
   "codemirror_mode": {
    "name": "ipython",
    "version": 3
   },
   "version": "3.7.4-final"
  },
  "orig_nbformat": 2,
  "file_extension": ".py",
  "mimetype": "text/x-python",
  "name": "python",
  "npconvert_exporter": "python",
  "pygments_lexer": "ipython3",
  "version": 3,
  "kernelspec": {
   "name": "python37464bit0d4557ec91c049559ae1861a5476b44a",
   "display_name": "Python 3.7.4 64-bit"
  },
  "pycharm": {
   "stem_cell": {
    "cell_type": "raw",
    "source": [],
    "metadata": {
     "collapsed": false
    }
   }
  }
 },
 "cells": [
  {
   "cell_type": "code",
   "execution_count": 32,
   "metadata": {},
   "outputs": [
    {
     "name": "stdout",
     "output_type": "stream",
     "text": "http://wsjkw.cq.gov.cn/yqxxyqtb/20200208/252718.html\n"
    }
   ],
   "source": [
    "import requests\n",
    "from bs4 import BeautifulSoup\n",
    "import urllib.request\n",
    "import xlsxwriter\n",
    "import time\n",
    "import re\n",
    "\n",
    "chongqing = 'http://wsjkw.cq.gov.cn/yqxxyqtb/'         #卫健委的url\n",
    "info_pattern = re.compile(r'\\r\\n截至2020年.月.*日.*时重庆市新型冠状病毒感染的肺炎疫情情况')\n",
    "\n",
    "#找到通报疫情的url\n",
    "def find_url(web_address):\n",
    "    #获取网页信息\n",
    "    while(1):\n",
    "        try:\n",
    "            res = requests.get(web_address,timeout=(5, 10))\n",
    "            flag = 1\n",
    "            break\n",
    "        except:\n",
    "            print(\"retry\")\n",
    "            flag=0\n",
    "    res.encoding = 'utf-8'\n",
    "    soup = BeautifulSoup(res.text, features = 'html.parser')      #结构化处理 \n",
    "    for element in soup.find_all(name='div',attrs = {'class':'newslist'}):\n",
    "        #print(element)\n",
    "        for info in element.find_all('a'):\n",
    "            for title in info.find_all(name = 'span', attrs = {'class':'span-title'}):\n",
    "                #print(title)\n",
    "                info_title = title.get_text() \n",
    "                #print(repr(info_title))     #获取通报的标题\n",
    "                #print(repr(info_pattern))\n",
    "                #print(info_pattern.match(info_title))\n",
    "                if(info_pattern.match(info_title)):\n",
    "                    return(info.get('href'))        \n",
    "info_url = 'http://wsjkw.cq.gov.cn' + find_url(chongqing)\n",
    "print(info_url)\n"
   ]
  },
  {
   "cell_type": "code",
   "execution_count": 33,
   "metadata": {},
   "outputs": [
    {
     "name": "stdout",
     "output_type": "stream",
     "text": "begin\n\n2020年2月8日0—12时，重庆市报告新型冠状病毒感染的肺炎新增确诊病例2例。新增确诊病例中，渝中区1例、奉节县1例。截至2月8日12时，重庆市累计报告新型冠状病毒感染的肺炎确诊病例428例；现有重型病例31例，危重型病例17例，死亡病例2例，出院病例31例。累计追踪到密切接触者14195人，已解除医学观察7162人，尚有7033人正在接受医学观察。具体情况如下：\n\n\nfinish\n"
    }
   ],
   "source": [
    "def get_data(web_address):\n",
    "    #获取网页信息\n",
    "    while(1):\n",
    "        try:\n",
    "            res = requests.get(web_address,timeout=2)\n",
    "            flag=1\n",
    "            break\n",
    "        except:\n",
    "            print(\"retry\")\n",
    "            flag=0\n",
    "    res.encoding = 'utf-8'\n",
    "    soup = BeautifulSoup(res.text, 'html.parser')      #结构化处理\n",
    "    for element in soup.find_all(name='div',attrs = {'class':'uedit'} ):\n",
    "        print(element.get_text())\n",
    "                    \n",
    "if __name__ == '__main__':\n",
    "    print('begin')\n",
    "    get_data(info_url)\n",
    "    print('finish')"
   ]
  },
  {
   "cell_type": "code",
   "execution_count": null,
   "metadata": {},
   "outputs": [],
   "source": []
  }
 ]
}