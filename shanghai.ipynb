{
 "cells": [
  {
   "cell_type": "code",
   "execution_count": 1,
   "outputs": [
    {
     "name": "stdout",
     "text": [
      "<html><head></head><body><script language=\"javascript\"> window.onload=setTimeout(\"gt(22)\", 200); function gt(WH) {var qo, mo=\"\", no=\"\", oo = [0x89,0x19,0x63,0x19,0xdf,0x92,0xeb,0xa2,0xde,0x1e,0x72,0x30,0xaa,0x66,0x1a,0xd3,0x8c,0x43,0x32,0x15,0xec,0xc0,0x79,0xb8,0xd4,0x8a,0xc5,0x7c,0x31,0x77,0x8c,0x41,0x7d,0x33,0xe9,0xcc,0xdb,0x12,0x4a,0x01,0xe5,0x44,0x33,0xef,0x27,0x5f,0x3f,0xf5,0xfa,0xb1,0x91,0x4f,0x2f,0x65,0x59,0x39,0xa0,0x80,0x37,0x16,0x00,0x38,0x91,0xc9,0xb0,0x83,0x3a,0xa0,0x57,0x8e,0xc6,0x99,0xe6,0x46,0x7d,0xb3,0x70,0x43,0xcd,0x04,0xe8,0x9e,0x53,0x2e,0x36,0x6d,0x4e,0x85,0x3b,0xa0,0x83,0x61,0xa0,0x7e,0x35,0xea,0x63,0x48,0xa1,0x7c,0x59,0x40,0x1e,0x7f,0x5c,0x3a,0x20,0x7d,0xbf,0x20,0x79,0xde,0xc0,0x16,0xbb,0x72,0xb3,0xf8,0xa9,0xef,0x17,0xcd,0x8b,0x6e,0x31,0xec,0x58,0x8c,0xe7,0x3d,0x1a,0x7f,0xae,0x81,0xc9,0x88,0xbe,0x91,0x78,0xd6,0x34,0x89,0x6e,0xcb,0x99,0xfb,0xd9,0xbe,0x19,0x7f,0x45,0xa2,0xff,0xc7,0x8a,0xd9,0x5b,0x3d,0x92,0xc9,0x85,0x40,0x5d,0x12,0xca,0x07,0xe1,0x3e,0x62,0x22,0xe7,0x1a,0xd3,0x93,0x66,0xba,0x80,0xb1,0x0e,0xc5,0x6d,0x21,0x61,0xbd,0x73,0xaf,0x7e,0x60,0xb5,0xf2,0xaf,0xee,0x5f,0x98,0x73,0x4f,0x27,0x01,0x3f,0x94,0x54,0x0d,0x41,0x80,0x7c,0x38,0xf7,0x4c,0x83,0x3f,0x2c,0xe1,0xa8,0x5b,0x12,0x4e,0x1f,0x5e,0xb2,0xed,0xa1,0x5f,0xa2,0x5f,0x9e,0x57,0x0b,0x47,0x2b,0x0e,0x45,0x00,0xb6,0x75,0xbc,0x77,0x2e,0x62,0xa1,0xfd,0xa5,0x74,0xc2,0xdc,0x3b];qo = \"qo=243; do{oo[qo]=(-oo[qo])&0xff; oo[qo]=(((oo[qo]>>3)|((oo[qo]<<5)&0xff))-42)&0xff;} while(--qo>=2);\"; eval(qo);qo = 242; do { oo[qo] = (oo[qo] - oo[qo - 1]) & 0xff; } while (-- qo >= 3 );qo = 1; for (;;) { if (qo > 242) break; oo[qo] = ((((((oo[qo] + 224) & 0xff) + 46) & 0xff) << 4) & 0xff) | (((((oo[qo] + 224) & 0xff) + 46) & 0xff) >> 4); qo++;}po = \"\"; for (qo = 1; qo < oo.length - 1; qo++) if (qo % 6) po += String.fromCharCode(oo[qo] ^ WH);eval(\"qo=eval;qo(po);\");} </script> </body></html>\n"
     ],
     "output_type": "stream"
    },
    {
     "traceback": [
      "\u001b[1;31m---------------------------------------------------------------------------\u001b[0m",
      "\u001b[1;31mNameError\u001b[0m                                 Traceback (most recent call last)",
      "\u001b[1;32m<ipython-input-1-7d26d4e0d2ff>\u001b[0m in \u001b[0;36m<module>\u001b[1;34m\u001b[0m\n\u001b[0;32m     21\u001b[0m         \u001b[0minfo_url\u001b[0m \u001b[1;33m=\u001b[0m \u001b[0mnode\u001b[0m\u001b[1;33m.\u001b[0m\u001b[0mfind_element_by_xpath\u001b[0m\u001b[1;33m(\u001b[0m\u001b[1;34m'a'\u001b[0m\u001b[1;33m)\u001b[0m\u001b[1;33m.\u001b[0m\u001b[0mget_attribute\u001b[0m\u001b[1;33m(\u001b[0m\u001b[1;34m'href'\u001b[0m\u001b[1;33m)\u001b[0m\u001b[1;33m\u001b[0m\u001b[1;33m\u001b[0m\u001b[0m\n\u001b[0;32m     22\u001b[0m         \u001b[1;32mbreak\u001b[0m\u001b[1;33m\u001b[0m\u001b[1;33m\u001b[0m\u001b[0m\n\u001b[1;32m---> 23\u001b[1;33m \u001b[0mdriver\u001b[0m\u001b[1;33m.\u001b[0m\u001b[0mget\u001b[0m\u001b[1;33m(\u001b[0m\u001b[0minfo_url\u001b[0m\u001b[1;33m)\u001b[0m\u001b[1;33m\u001b[0m\u001b[1;33m\u001b[0m\u001b[0m\n\u001b[0m\u001b[0;32m     24\u001b[0m \u001b[0minfo_content\u001b[0m \u001b[1;33m=\u001b[0m \u001b[0mdriver\u001b[0m\u001b[1;33m.\u001b[0m\u001b[0mfind_element_by_xpath\u001b[0m\u001b[1;33m(\u001b[0m\u001b[1;34m'//*[@class=\"page_content Clear\"]'\u001b[0m\u001b[1;33m)\u001b[0m\u001b[1;33m.\u001b[0m\u001b[0mtext\u001b[0m\u001b[1;33m.\u001b[0m\u001b[0mstrip\u001b[0m\u001b[1;33m(\u001b[0m\u001b[1;33m)\u001b[0m\u001b[1;33m\u001b[0m\u001b[1;33m\u001b[0m\u001b[0m\n\u001b[0;32m     25\u001b[0m \u001b[0mprint\u001b[0m\u001b[1;33m(\u001b[0m\u001b[0minfo_content\u001b[0m\u001b[1;33m)\u001b[0m\u001b[1;33m\u001b[0m\u001b[1;33m\u001b[0m\u001b[0m\n",
      "\u001b[1;31mNameError\u001b[0m: name 'info_url' is not defined"
     ],
     "ename": "NameError",
     "evalue": "name 'info_url' is not defined",
     "output_type": "error"
    }
   ],
   "source": [
    "#By Yimin Zhao\n",
    "import requests\n",
    "from bs4 import BeautifulSoup\n",
    "import re\n",
    "from selenium import webdriver\n",
    "\n",
    "shanghai = 'http://wsjkw.sh.gov.cn/xwfb/index.html'         #卫健委的url\n",
    "info_pattern1 = re.compile(r'.*新增.*例.*')\n",
    "info_pattern2 = re.compile(r'.*例.*出院.*')\n",
    "\n",
    "#找到通报疫情的url\n",
    "driver = webdriver.Chrome()\n",
    "driver.get(shanghai)\n",
    "print(driver.page_source)\n",
    "nodes = driver.find_elements_by_xpath('//*[@id=\"main\"]/div[2]/div/ul')\n",
    "for node in nodes:\n",
    "      title = node.find_element_by_xpath('a').text\n",
    "      print(title)\n",
    "      if info_pattern1.match(title.strip()) or info_pattern2.match(title.strip()):\n",
    "        print(\"matched!\")\n",
    "        info_title = title\n",
    "        info_url = node.find_element_by_xpath('a').get_attribute('href')\n",
    "        break\n",
    "driver.get(info_url)\n",
    "info_content = driver.find_element_by_xpath('//*[@class=\"page_content Clear\"]').text.strip()\n",
    "print(info_content)\n",
    "\n",
    "\n",
    "\n",
    "\n",
    "\n"
   ],
   "metadata": {
    "collapsed": false,
    "pycharm": {
     "name": "#%%\n",
     "is_executing": false
    }
   }
  }
 ],
 "metadata": {
  "kernelspec": {
   "display_name": "'Python Interactive'",
   "language": "python",
   "name": "361c5ae9-67e8-493c-b15d-1c763400a7c3"
  },
  "language_info": {
   "codemirror_mode": {
    "name": "ipython",
    "version": 2
   },
   "file_extension": ".py",
   "mimetype": "text/x-python",
   "name": "python",
   "nbconvert_exporter": "python",
   "pygments_lexer": "ipython2",
   "version": "2.7.6"
  },
  "pycharm": {
   "stem_cell": {
    "cell_type": "raw",
    "source": [],
    "metadata": {
     "collapsed": false
    }
   }
  }
 },
 "nbformat": 4,
 "nbformat_minor": 0
}