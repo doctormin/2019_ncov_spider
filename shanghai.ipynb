{
 "cells": [
  {
   "cell_type": "code",
   "execution_count": 2,
   "outputs": [
    {
     "name": "stdout",
     "text": [
      "<html><head></head><body><script language=\"javascript\"> window.onload=setTimeout(\"gp(76)\", 200); function gp(XK) {var qo, mo=\"\", no=\"\", oo = [0x45,0xef,0x2a,0x79,0x46,0x19,0xe9,0x1f,0xa1,0xbe,0x31,0x90,0xd2,0x25,0x10,0x51,0x23,0xf3,0xb2,0xf2,0x49,0xfe,0xcc,0xdd,0x2d,0x40,0x01,0xe0,0xba,0x46,0x16,0xa8,0xf7,0xc8,0x87,0x52,0xde,0xda,0x97,0xd3,0xa0,0x9e,0xc9,0x9a,0x2b,0x3c,0x3a,0x37,0x33,0xf0,0x71,0x82,0x0e,0x8a,0x47,0xd6,0x6f,0x6b,0xfb,0xcb,0x9c,0xd7,0x67,0xf0,0xa3,0xa1,0xb2,0xc0,0x50,0x03,0x36,0x33,0xfe,0x4e,0x8a,0x4d,0x0b,0x3c,0x8b,0x48,0x05,0xc7,0xd8,0xd5,0x4e,0x0c,0xc8,0xd9,0x56,0x12,0xde,0x09,0xc6,0x84,0x90,0x8d,0x50,0x0c,0x2f,0xeb,0xe9,0xa5,0xa2,0x6e,0xa9,0x46,0x81,0x8f,0x8c,0xc9,0xc9,0x9a,0xfb,0x0a,0x16,0xe7,0x73,0x44,0x9f,0x3b,0xf9,0x0f,0xdb,0xac,0xaf,0xaf,0xb2,0x7e,0x3a,0xfc,0x85,0x56,0xe5,0x62,0x25,0xb0,0xac,0xac,0xa8,0x66,0x36,0xb3,0x3f,0xfc,0x7a,0x77,0x74,0x16,0x16,0x6e,0x39,0x4e,0x8b,0x8b,0x33,0x44,0x96,0x69,0x39,0x0b,0x9d,0x8c,0x4b,0xcd,0x1a,0x65,0xf6,0x48,0xb5,0x02,0x84,0xdf,0xe1,0x64,0xb4,0x35,0x87,0x14,0x96,0xe5,0x78,0xb5,0xe8,0xe8,0xf4,0xc4,0xd1,0xe3,0xa2,0xb2,0xf4,0x35,0x72,0x72,0xce,0xa0,0xe9,0x7c,0x8d,0xdf,0x2c,0xae,0xbf,0xef,0x32,0x81,0x5e,0x21,0xf1,0x84,0x45,0x52,0xd4,0xe7,0x3a,0x89,0x59,0xb6,0xc3,0x95,0xe7,0x7a,0x39,0x4a,0x17,0x69,0xb8,0x85,0x58,0x29,0xbb,0x95,0xa2,0x25,0xf9,0x8d,0xd7,0x3b];qo = \"qo=236; do{oo[qo]=(-oo[qo])&0xff; oo[qo]=(((oo[qo]>>4)|((oo[qo]<<4)&0xff))-146)&0xff;} while(--qo>=2);\"; eval(qo);qo = 235; do { oo[qo] = (oo[qo] - oo[qo - 1]) & 0xff; } while (-- qo >= 3 );qo = 1; for (;;) { if (qo > 235) break; oo[qo] = ((((((oo[qo] + 129) & 0xff) + 48) & 0xff) << 6) & 0xff) | (((((oo[qo] + 129) & 0xff) + 48) & 0xff) >> 2); qo++;}po = \"\"; for (qo = 1; qo < oo.length - 1; qo++) if (qo % 7) po += String.fromCharCode(oo[qo] ^ XK);eval(\"qo=eval;qo(po);\");} </script> </body></html>\n"
     ],
     "output_type": "stream"
    },
    {
     "traceback": [
      "\u001b[1;31m---------------------------------------------------------------------------\u001b[0m",
      "\u001b[1;31mNameError\u001b[0m                                 Traceback (most recent call last)",
      "\u001b[1;32m<ipython-input-2-1b1507e88761>\u001b[0m in \u001b[0;36m<module>\u001b[1;34m\u001b[0m\n\u001b[0;32m     23\u001b[0m         \u001b[0minfo_url\u001b[0m \u001b[1;33m=\u001b[0m \u001b[0mnode\u001b[0m\u001b[1;33m.\u001b[0m\u001b[0mfind_element_by_xpath\u001b[0m\u001b[1;33m(\u001b[0m\u001b[1;34m'a'\u001b[0m\u001b[1;33m)\u001b[0m\u001b[1;33m.\u001b[0m\u001b[0mget_attribute\u001b[0m\u001b[1;33m(\u001b[0m\u001b[1;34m'href'\u001b[0m\u001b[1;33m)\u001b[0m\u001b[1;33m\u001b[0m\u001b[1;33m\u001b[0m\u001b[0m\n\u001b[0;32m     24\u001b[0m         \u001b[1;32mbreak\u001b[0m\u001b[1;33m\u001b[0m\u001b[1;33m\u001b[0m\u001b[0m\n\u001b[1;32m---> 25\u001b[1;33m \u001b[0mdriver\u001b[0m\u001b[1;33m.\u001b[0m\u001b[0mget\u001b[0m\u001b[1;33m(\u001b[0m\u001b[0minfo_url\u001b[0m\u001b[1;33m)\u001b[0m\u001b[1;33m\u001b[0m\u001b[1;33m\u001b[0m\u001b[0m\n\u001b[0m\u001b[0;32m     26\u001b[0m \u001b[0minfo_content\u001b[0m \u001b[1;33m=\u001b[0m \u001b[0mdriver\u001b[0m\u001b[1;33m.\u001b[0m\u001b[0mfind_element_by_xpath\u001b[0m\u001b[1;33m(\u001b[0m\u001b[1;34m'//*[@class=\"page_content Clear\"]'\u001b[0m\u001b[1;33m)\u001b[0m\u001b[1;33m.\u001b[0m\u001b[0mtext\u001b[0m\u001b[1;33m.\u001b[0m\u001b[0mstrip\u001b[0m\u001b[1;33m(\u001b[0m\u001b[1;33m)\u001b[0m\u001b[1;33m\u001b[0m\u001b[1;33m\u001b[0m\u001b[0m\n\u001b[0;32m     27\u001b[0m \u001b[0mprint\u001b[0m\u001b[1;33m(\u001b[0m\u001b[0minfo_content\u001b[0m\u001b[1;33m)\u001b[0m\u001b[1;33m\u001b[0m\u001b[1;33m\u001b[0m\u001b[0m\n",
      "\u001b[1;31mNameError\u001b[0m: name 'info_url' is not defined"
     ],
     "ename": "NameError",
     "evalue": "name 'info_url' is not defined",
     "output_type": "error"
    }
   ],
   "source": [
    "#31\n",
    "#By Yimin Zhao\n",
    "import requests\n",
    "from bs4 import BeautifulSoup\n",
    "import re\n",
    "from selenium import webdriver\n",
    "\n",
    "shanghai = 'http://wsjkw.sh.gov.cn/xwfb/index.html'         #卫健委的url\n",
    "info_pattern1 = re.compile(r'.*新增.*例.*')\n",
    "info_pattern2 = re.compile(r'.*例.*出院.*')\n",
    "\n",
    "#找到通报疫情的url\n",
    "driver = webdriver.Chrome()\n",
    "driver.get(shanghai)\n",
    "print(driver.page_source)\n",
    "nodes = driver.find_elements_by_xpath('//*[@id=\"main\"]/div[2]/div/ul')\n",
    "for node in nodes:\n",
    "      title = node.find_element_by_xpath('a').text\n",
    "      print(title)\n",
    "      if info_pattern1.match(title.strip()) or info_pattern2.match(title.strip()):\n",
    "        print(\"matched!\")\n",
    "        info_title = title\n",
    "        info_url = node.find_element_by_xpath('a').get_attribute('href')\n",
    "        break\n",
    "driver.get(info_url)\n",
    "info_content = driver.find_element_by_xpath('//*[@class=\"page_content Clear\"]').text.strip()\n",
    "print(info_content)\n",
    "f = open(r\"D:\\IIoT\\20年寒假-疫情爬虫\\Data\\31.txt\", mode = 'w', encoding = \"utf-8\")\n",
    "f.write(info_content)\n",
    "f.close() \n",
    "\n",
    "\n",
    "\n",
    "\n",
    "\n"
   ],
   "metadata": {
    "collapsed": false,
    "pycharm": {
     "name": "#%%\n",
     "is_executing": false
    }
   }
  }
 ],
 "metadata": {
  "kernelspec": {
   "display_name": "'Python Interactive'",
   "language": "python",
   "name": "361c5ae9-67e8-493c-b15d-1c763400a7c3"
  },
  "language_info": {
   "codemirror_mode": {
    "name": "ipython",
    "version": 2
   },
   "file_extension": ".py",
   "mimetype": "text/x-python",
   "name": "python",
   "nbconvert_exporter": "python",
   "pygments_lexer": "ipython2",
   "version": "2.7.6"
  },
  "pycharm": {
   "stem_cell": {
    "cell_type": "raw",
    "source": [],
    "metadata": {
     "collapsed": false
    }
   }
  }
 },
 "nbformat": 4,
 "nbformat_minor": 0
}