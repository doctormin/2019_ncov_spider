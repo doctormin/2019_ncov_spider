{
 "cells": [
  {
   "cell_type": "code",
   "execution_count": 1,
   "outputs": [
    {
     "name": "stdout",
     "text": [
      "截至2月10日6时 天津市新增3例新冠肺炎确诊病例 累计确诊病例94例\n",
      "2月9日6时至18时 天津市新增1例新冠肺炎确诊病例 累计确诊病例91例\n",
      "至2月9日6时 天津市新增2例新冠肺炎确诊病例 累计确诊病例90例\n",
      "2020年2月9日天津市新型冠状病毒感染的肺炎疫情情况\n",
      "matched!\n",
      "2020年2月8日0-24时，天津市报告新型冠状病毒感染的肺炎新增确诊病例7例，新增危重型病例1例，新增重型病例0例，新增死亡病例0例，新增出院病例2例。其中：\n",
      "武清区为首次报告确诊病例。其它各区新增确诊病例中宝坻区6例。\n",
      "截至2月8日24时，天津市累计报告新型冠状病毒感染的肺炎确诊病例88例，危重型病例6例，重型病例29例，死亡病例1例，出院病例4例。其中：\n",
      "确诊病例中，宝坻区29例、河东区10例、河北区10例、和平区6例、河西区4例、宁河区4例、东丽区4例、西青区4例、南开区3例、滨海新区3例、红桥区2例、津南区1例、北辰区1例、武清区1例、外地来津6例；出院病例中，河东区1例、红桥区1例、和平区1例、河北区1例。\n",
      "目前追踪到密切接触者687人，已解除医学观察115人，尚有547人正在接受医学观察。\n",
      "天津市卫生健康委员会\n",
      "2020年2月9日\n"
     ],
     "output_type": "stream"
    }
   ],
   "source": [
    " import requests\n",
    "from bs4 import BeautifulSoup\n",
    "import urllib.request\n",
    "import xlsxwriter\n",
    "import time\n",
    "import re\n",
    "from selenium import webdriver\n",
    "\n",
    "tianjin = 'http://wsjk.tj.gov.cn/col/col87/index.html'         #卫健委的url\n",
    "info_pattern1 = re.compile(r'.*天津.*新增.*新.*冠.*')\n",
    "info_pattern2 = re.compile(r'.*天津.*新.*冠.*疫情情况.*')\n",
    "\n",
    "#找到通报疫情的url\n",
    "driver = webdriver.Chrome()\n",
    "driver.get(tianjin)\n",
    "nodes = driver.find_elements_by_xpath('//*[@id=\"259\"]/div/li')\n",
    "for node in nodes:\n",
    "      title = node.find_element_by_xpath('a').text\n",
    "      print(title)\n",
    "      if info_pattern2.match(title):\n",
    "        print(\"matched!\")\n",
    "        info_title = title\n",
    "        info_url = node.find_element_by_xpath('a').get_attribute('href')\n",
    "        break\n",
    "driver.get(info_url)\n",
    "info_content = driver.find_element_by_xpath('//*[@class=\"page_content Clear\"]').text.strip()\n",
    "print(info_content)"
   ],
   "metadata": {
    "collapsed": false,
    "pycharm": {
     "name": "#%%\n",
     "is_executing": false
    }
   }
  }
 ],
 "metadata": {
  "kernelspec": {
   "display_name": "'Python Interactive'",
   "language": "python",
   "name": "361c5ae9-67e8-493c-b15d-1c763400a7c3"
  },
  "language_info": {
   "codemirror_mode": {
    "name": "ipython",
    "version": 2
   },
   "file_extension": ".py",
   "mimetype": "text/x-python",
   "name": "python",
   "nbconvert_exporter": "python",
   "pygments_lexer": "ipython2",
   "version": "2.7.6"
  },
  "pycharm": {
   "stem_cell": {
    "cell_type": "raw",
    "source": [],
    "metadata": {
     "collapsed": false
    }
   }
  }
 },
 "nbformat": 4,
 "nbformat_minor": 0
}