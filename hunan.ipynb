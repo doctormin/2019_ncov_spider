{
 "cells": [
  {
   "source": [
    "#-*- coding: utf-8 -*-\n",
    "#43 \n",
    "#By Yimin Zhao\n",
    "import requests\n",
    "from bs4 import BeautifulSoup\n",
    "import urllib.request\n",
    "import xlsxwriter\n",
    "import time\n",
    "import re\n",
    "\n",
    "hunan = 'http://wjw.hunan.gov.cn/wjw/xxgk/gzdt/zyxw_1/index.html'         #卫健委的url\n",
    "info_name = re.compile(r'湖南省新.*冠.*疫情.*发布')             #每次通告名称相同\n",
    "\n",
    "#找到通报疫情的url\n",
    "def find_url(web_address):\n",
    "    #获取网页信息\n",
    "    while(1):\n",
    "        try:\n",
    "            res = requests.get(web_address,timeout=(5, 10))\n",
    "            flag=1\n",
    "            break\n",
    "        except:\n",
    "            print(\"retry\")\n",
    "            flag=0\n",
    "    res.encoding = 'utf-8'\n",
    "    soup = BeautifulSoup(res.text, 'html.parser')      #结构化处理\n",
    "    #print(res.text)\n",
    "    for element in soup.find_all(name='tbody',attrs = {'class':'table_list_st'}):\n",
    "        for info in element.find_all('a'):\n",
    "            info_title = info.get_text().strip() \n",
    "            print(info_title)#获取通报的标题\n",
    "            if(info_name.match(info_title)):\n",
    "                return(info.get('href'))\n",
    "        \n",
    "\n",
    "        \n",
    "info_url = 'http://wjw.hunan.gov.cn'+find_url(hunan)\n",
    "print(info_url)"
   ],
   "cell_type": "code",
   "outputs": [
    {
     "name": "stdout",
     "text": [
      "湖南省新型冠状病毒肺炎疫情信息发布\n",
      "http://wjw.hunan.gov.cn/wjw/xxgk/gzdt/zyxw_1/202002/t20200210_11174644.html\n"
     ],
     "output_type": "stream"
    }
   ],
   "metadata": {
    "pycharm": {
     "is_executing": false
    }
   },
   "execution_count": 13
  },
  {
   "cell_type": "code",
   "execution_count": 14,
   "metadata": {
    "pycharm": {
     "is_executing": false
    }
   },
   "outputs": [
    {
     "name": "stdout",
     "text": [
      "begin\n",
      "\n",
      "\n",
      "2020年2月9日0-24时,湖南省报告新型冠状病毒肺炎新增确诊病例41例,新增重症病例9例,新增死亡病例0例,新增出院病例27例。其中:\n",
      "新增确诊病例中,长沙市8例、株洲市3例、湘潭市3例、邵阳市2例、岳阳市9例、常德市6例、益阳市7例、永州市1例、娄底市2例。\n",
      "新增重症病例中,长沙市3例、衡阳市1例、湘潭市2例、邵阳市1例、岳阳市1例、娄底市1例。\n",
      "新增出院病例中,长沙市6例、株洲市1例、湘潭市1例、邵阳市3例、岳阳市7例、益阳市5例、永州市3例、湘西自治州1例。\n",
      "截至2月9日24时,湖南省累计报告新型冠状病毒肺炎确诊病例879例,累计报告重症病例117例,现有重症病例65例,死亡病例1例,出院病例186例。其中:\n",
      "确诊病例中,长沙市213例、衡阳市45例、株洲市61例、湘潭市31例、邵阳市89例、岳阳市124例、常德市72例、张家界市5例、益阳市53例、郴州市32例、永州市41例、怀化市39例、娄底市66例、湘西自治州8例。\n",
      "现有重症病例中,长沙市24例、衡阳市4例、株洲市6例、湘潭市5例、邵阳市4例、岳阳市2例、常德市5例、益阳市4例、永州市2例、怀化市3例、娄底市6例。\n",
      "出院病例中,长沙市33例、衡阳市14例、株洲市10例、湘潭市11例、邵阳市21例、岳阳市17例、常德市15例、张家界市2例、益阳市15例、郴州市8例、永州市13例、怀化市15例、娄底市8例、湘西自治州4例。\n",
      "目前追踪到密切接触者22289人,已解除医学观察14154人,尚有8135人正在接受医学观察。\n",
      "\n",
      "\n",
      "finish\n"
     ],
     "output_type": "stream"
    }
   ],
   "source": [
    "\n",
    "\n",
    "\n",
    "def get_data(web_address):\n",
    "    #获取网页信息\n",
    "    while(1):\n",
    "        try:\n",
    "            res = requests.get(web_address,timeout=2)\n",
    "            flag=1\n",
    "            break\n",
    "        except:\n",
    "            print(\"retry\")\n",
    "            flag=0\n",
    "    res.encoding = 'utf-8'\n",
    "    soup = BeautifulSoup(res.text, 'html.parser')      #结构化处理\n",
    "    \n",
    "    for element in soup.find_all(name='div',attrs = {'class':'main_con_zw'}):\n",
    "        print(element.get_text())\n",
    "                    \n",
    "if __name__ == '__main__':\n",
    "    print('begin')\n",
    "    get_data(info_url)\n",
    "    print('finish')\n",
    "    "
   ]
  },
  {
   "cell_type": "code",
   "execution_count": 14,
   "metadata": {
    "pycharm": {
     "is_executing": false
    }
   },
   "outputs": [],
   "source": []
  }
 ],
 "metadata": {
  "kernelspec": {
   "display_name": "Python 3.7.4 64-bit",
   "language": "python",
   "name": "python37464bit0d4557ec91c049559ae1861a5476b44a"
  },
  "language_info": {
   "codemirror_mode": {
    "name": "ipython",
    "version": 3
   },
   "file_extension": ".py",
   "mimetype": "text/x-python",
   "name": "python",
   "nbconvert_exporter": "python",
   "pygments_lexer": "ipython3",
   "version": "3.7.4-final"
  },
  "pycharm": {
   "stem_cell": {
    "cell_type": "raw",
    "source": [],
    "metadata": {
     "collapsed": false
    }
   }
  }
 },
 "nbformat": 4,
 "nbformat_minor": 2
}