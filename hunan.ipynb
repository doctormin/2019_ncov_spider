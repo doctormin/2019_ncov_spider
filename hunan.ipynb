{
 "cells": [
  {
   "source": [
    "#-*- coding: utf-8 -*-\n",
    "import requests\n",
    "from bs4 import BeautifulSoup\n",
    "import urllib.request\n",
    "import xlsxwriter\n",
    "import time\n",
    "import re\n",
    "\n",
    "hunan = 'http://wjw.hunan.gov.cn/wjw/xxgk/gzdt/zyxw_1/index.html'         #卫健委的url\n",
    "info_name = '湖南省新型冠状病毒感染的肺炎疫情信息发布'             #每次通告名称相同\n",
    "\n",
    "\n",
    "#找到通报疫情的url\n",
    "def find_url(web_address):\n",
    "    #获取网页信息\n",
    "    while(1):\n",
    "        try:\n",
    "            res = requests.get(web_address,timeout=(5, 10))\n",
    "            flag=1\n",
    "            break\n",
    "        except:\n",
    "            print(\"retry\")\n",
    "            flag=0\n",
    "    res.encoding = 'utf-8'\n",
    "    soup = BeautifulSoup(res.text, 'html.parser')      #结构化处理\n",
    "    print(res.text)\n",
    "    for element in soup.find_all(name='tbody',attrs = {'class':'table_list_st'}):\n",
    "        for info in element.find_all('a'):\n",
    "            info_title = info.get_text()      #获取通报的标题\n",
    "            if(info_title == info_name):\n",
    "                return(info.get('href'))\n",
    "        \n",
    "\n",
    "        \n",
    "info_url = 'http://wjw.hunan.gov.cn'+find_url(hunan)\n",
    "print(info_url)"
   ],
   "cell_type": "code",
   "outputs": [
    {
     "output_type": "stream",
     "name": "stdout",
     "text": "ledge/zthd/kyyy/wycscj/index.html\"  target=\"_self\">无烟场所创建</a> </li>\n\n<li> <a href=\"/wjw/ztzl/knowledge/zthd/kyyy/kymz/index.html\"  target=\"_self\">戒烟门诊／12320戒烟热线</a> </li>\n\n<li> <a href=\"/wjw/ztzl/knowledge/zthd/kyyy/hyhd/index.html\"  target=\"_self\">控烟动态</a> </li>\n\n </ul> \n<li> <a href=\"/wjw/ztzl/knowledge/zthd/jljh/index.html\"  target=\"_self\">中国健康知识传播激励计划</a> </li>\n\n <ul class=\"sitenav_list2\">\n<li> <a href=\"/wjw/ztzl/knowledge/zthd/jljh/xwzx/index.html\"  target=\"_self\">新闻资讯</a> </li>\n\n<li> <a href=\"/wjw/ztzl/knowledge/zthd/jljh/zryx/index.html\"  target=\"_self\">自然医学与科学养生</a> </li>\n\n<li> <a href=\"/wjw/ztzl/knowledge/zthd/jljh/sxx/index.html\"  target=\"_self\">健康公益三湘行</a> </li>\n\n<li> <a href=\"/wjw/ztzl/knowledge/zthd/jljh/mqhd/index.html\"  target=\"_self\">媒企互动</a> </li>\n\n<li> <a href=\"/wjw/ztzl/knowledge/zthd/jljh/xczl/index.html\"  target=\"_self\">宣传资料</a> </li>\n\n<li> <a href=\"/wjw/ztzl/knowledge/zthd/jljh/jkws/index.html\"  target=\"_self\">健康微视</a> </li>\n\n<li> <a href=\"/wjw/ztzl/knowledge/zthd/jljh/jkjltpxw/index.html\"  target=\"_self\">健康激励图片新闻</a> </li>\n\n </ul> \n </ul> \n<li> <a href=\"/wjw/ztzl/knowledge/tzggzcfg/index.html\"  target=\"_self\">通知公告政策法规</a> </li>\n\n </ul> \n<li> <a href=\"/wjw/ztzl/wsy/index.html\"  target=\"_self\">建设群众满意的乡镇卫生院</a> </li>\n\n <ul class=\"sitenav_list2\">\n<li> <a href=\"/wjw/ztzl/wsy/wsygzdt/index.html\"  target=\"_self\">工作动态</a> </li>\n\n<li> <a href=\"/wjw/ztzl/wsy/wsyzcwj/index.html\"  target=\"_self\">政策文件</a> </li>\n\n<li> <a href=\"/wjw/ztzl/wsy/wsymtbd/index.html\"  target=\"_self\">媒体报道</a> </li>\n\n<li> <a href=\"/wjw/ztzl/wsy/wsyjyjl/index.html\"  target=\"_self\">经验交流</a> </li>\n\n<li> <a href=\"/wjw/ztzl/wsy/wsydxzs/index.html\"  target=\"_self\">典型展示</a> </li>\n\n<li> <a href=\"/wjw/ztzl/wsy/wsycjfc/index.html\"  target=\"_self\">创建风采</a> </li>\n\n<li> <a href=\"/wjw/ztzl/wsy/wsyqt/index.html\"  target=\"_self\">其他</a> </li>\n\n<li> <a href=\"/wjw/ztzl/wsy/wsytpxw/index.html\"  target=\"_self\">图片新闻</a> </li>\n\n </ul> \n<li> <a href=\"/wjw/ztzl/bwcxljsm_904/index.html\"  target=\"_self\">不忘初心牢记使命</a> </li>\n\n <ul class=\"sitenav_list2\">\n<li> <a href=\"/wjw/ztzl/bwcxljsm_904/zdjs_904/index.html\"  target=\"_self\">指导精神</a> </li>\n\n<li> <a href=\"/wjw/ztzl/bwcxljsm_904/zcdh_904/index.html\"  target=\"_self\">政策导航</a> </li>\n\n<li> <a href=\"/wjw/ztzl/bwcxljsm_904/hddt_904/index.html\"  target=\"_self\">活动动态</a> </li>\n\n<li> <a href=\"/wjw/ztzl/bwcxljsm_904/xjdx_904/index.html\"  target=\"_self\">先进典型</a> </li>\n\n<li> <a href=\"/wjw/ztzl/bwcxljsm_904/xdth_904/index.html\"  target=\"_self\">心得体会</a> </li>\n\n<li> <a href=\"/wjw/ztzl/bwcxljsm_904/jycg_904/index.html\"  target=\"_self\">教育成果</a> </li>\n\n<li> <a href=\"/wjw/ztzl/bwcxljsm_904/tg_904/index.html\"  target=\"_self\">信息投稿</a> </li>\n\n </ul> \n </ul> \n<li> <a href=\"/wjw/yqlj/index.html\"  target=\"_self\">友情链接</a> </li>\n\n <ul class=\"sitenav_list2\">\n<li> <a href=\"/wjw/yqlj/gjssjw/index.html\"  target=\"_self\">国家及省市卫生计生委</a> </li>\n\n<li> <a href=\"/wjw/yqlj/szwz/index.html\"  target=\"_self\">省政府及部门网站</a> </li>\n\n<li> <a href=\"/wjw/yqlj/szjw/index.html\"  target=\"_self\">市州卫生计生委</a> </li>\n\n<li> <a href=\"/wjw/yqlj/szyl/index.html\"  target=\"_self\">市州卫生医疗机构</a> </li>\n\n<li> <a href=\"/wjw/yqlj/xqjw/index.html\"  target=\"_self\">县区卫生计生委</a> </li>\n\n<li> <a href=\"/wjw/yqlj/qt/list_tylb.html\"  target=\"_self\">其他</a> </li>\n\n </ul> \n<li> <a href=\"/wjw/zddt_905/index.html\"  target=\"_self\">站点地图</a> </li>\n\n<li> <a href=\"/wjw/zyxw/list_hnswjwwxgzhlb.html\"  target=\"_self\">重要新闻-微信公共号推送栏目</a> </li>\n\n </ul> \n</div>\n                       <ul id=\"treeview\" class=\"filetree treeview\"></ul></div>\n</div>\n<script type=\"text/javascript\" src=\"/wjw/xhtml/js/jquery-1.8.3.js\"></script>\n<script type=\"text/javascript\" src=\"/wjw/xhtml/js/jquery.treeview.js\"></script>\n<script type=\"text/javascript\">\n    $(function () {\n        var channel = '信息公开';\n        $('#sitenav > ul > li').each(function () {\n            if ($(this).text().trim() == channel) {\n                $('#treeview').append('<li><span class=\"folder\">' + channel + '</span><ul id=\"tree_0_0\"></ul></li>');\n                oldNode = $(this).next('ul');\n                newNode = $('#tree_0_0');\n                (function setNewNode(oldNode, newNode, deep) {\n                    oldNode.children('li').each(function () {\n                        var url = $(this).children('a').attr('href');\n                        var name = $(this).text();\n                        var children = $(this).next('ul');\n                      \tif(deep == 2){\n                        \tnewNode.append('<li><span class=\"file\"><a href=\"' + url + '\">' + name + '</a></span></li>');\n                        } else {\n                            if (children.length > 0) {\n                                var id = 'tree_' + deep + '_' + $(this).index();\n                                newNode.append('<li class=\"collapsable\"><div class=\"hitarea collapsable-hitarea\"></div><span class=\"folder\">' + name + '</span><ul id=' + id + '></ul></li>');\n                                setNewNode(children, $('#' + id), deep + 1);\n                            } else {\n                                newNode.append('<li><span class=\"file\"><a href=\"' + url + '\">' + name + '</a></span></li>');\n                            }\n                        }\n                    })\n                })(oldNode, newNode, 1);\n                $('#sitenav').remove();\n                $(\"#treeview\").treeview();\n            }\n        });\n    });\n</script>\n        <div class=\"main_list_right\">\n        \t<table class=\"table_list\">\n            \t<thead>\n                \t<tr>\n                    \t<td class=\"table_list_sxh\">索引号</td>\n                        <td class=\"table_list_title\">文档标题</td>\n                        <td class=\"table_list_date\">发布时间</td>\n                    </tr>\n                </thead>\n<!-- -->\n                <tbody class=\"table_list_st\">\n\n                \t<tr>\n                    \t<td align=\"center\">430S00/2020-011467</td>\n                        <td><a href=\"/wjw/xxgk/gzdt/zyxw_1/202002/t20200207_11172443.html\" title=\"湖南省新型冠状病毒感染的肺炎疫情信息发布\" target=\"_blank\" >湖南省新型冠状病毒感染的肺炎疫情信息发布</a></td>\n                        <td align=\"center\">2020-02-07</td>\n                    </tr>\n                \t<tr>\n                    \t<td align=\"center\">430S00/2020-011582</td>\n                        <td><a href=\"/wjw/xxgk/gzdt/zyxw_1/202002/t20200207_11172651.html\" title=\"没人问过归期！湖南首支援鄂医疗队长高纪平，深情讲述他的队员：我在黄冈\" target=\"_blank\" >没人问过归期！湖南首支援鄂医疗队长高纪平，深情讲述他的队员：我在黄冈</a></td>\n                        <td align=\"center\">2020-02-07</td>\n                    </tr>\n                \t<tr>\n                    \t<td align=\"center\">430S00/2020-011550</td>\n                        <td><a href=\"/wjw/xxgk/gzdt/zyxw_1/202002/t20200207_11172618.html\" title=\"省中医药管理局召开第三版新型冠状病毒感染的肺炎中医药诊疗方案视频培训会\" target=\"_blank\" >省中医药管理局召开第三版新型冠状病毒感染的肺炎中医药诊疗方案视频培训会</a></td>\n                        <td align=\"center\">2020-02-07</td>\n                    </tr>\n                \t<tr>\n                    \t<td align=\"center\">430S00/2020-011074</td>\n                        <td><a href=\"/wjw/xxgk/gzdt/zyxw_1/202002/t20200206_11171588.html\" title=\"湘鄂一家亲 紧密合作 共克时艰 许达哲致电慰问湖南两批援鄂医疗队\" target=\"_blank\" >湘鄂一家亲 紧密合作 共克时艰 许达哲致电慰问湖南两批援鄂医疗队</a></td>\n                        <td align=\"center\">2020-02-06</td>\n                    </tr>\n                \t<tr>\n                    \t<td align=\"center\">430S00/2020-011064</td>\n                        <td><a href=\"/wjw/xxgk/gzdt/zyxw_1/202002/t20200206_11171582.html\" title=\"湖南省新型冠状病毒感染的肺炎疫情信息发布\" target=\"_blank\" >湖南省新型冠状病毒感染的肺炎疫情信息发布</a></td>\n                        <td align=\"center\">2020-02-06</td>\n                    </tr>\n                \t<tr>\n                    \t<td align=\"center\">430S00/2020-011424</td>\n                        <td><a href=\"/wjw/xxgk/gzdt/zyxw_1/202002/t20200206_11172292.html\" title=\"湖南省新型冠状病毒感染的肺炎疫情每日信息（含英法德日韩老俄7国语言版本）\" target=\"_blank\" >湖南省新型冠状病毒感染的肺炎疫情每日信息（含英法德日韩老俄7国语言版本）</a></td>\n                        <td align=\"center\">2020-02-06</td>\n                    </tr>\n                \t<tr>\n                    \t<td align=\"center\">430S00/2020-011344</td>\n                        <td><a href=\"/wjw/xxgk/gzdt/zyxw_1/202002/t20200206_11172173.html\" title=\"千里挺进“大别山” 湖南省第二批援鄂医疗队的战斗故事\" target=\"_blank\" >千里挺进“大别山” 湖南省第二批援鄂医疗队的战斗故事</a></td>\n                        <td align=\"center\">2020-02-06</td>\n                    </tr>\n                \t<tr>\n                    \t<td align=\"center\">430S00/2020-011423</td>\n                        <td><a href=\"/wjw/xxgk/gzdt/zyxw_1/202002/t20200206_11172287.html\" title=\"湖南省疫情防控技术指引（1-21)\" target=\"_blank\" >湖南省疫情防控技术指引（1-21)</a></td>\n                        <td align=\"center\">2020-02-06</td>\n                    </tr>\n                \t<tr>\n                    \t<td align=\"center\">430S00/2020-010521</td>\n                        <td><a href=\"/wjw/xxgk/gzdt/zyxw_1/202002/t20200205_11170191.html\" title=\"湖南省新型冠状病毒感染的肺炎疫情信息发布\" target=\"_blank\" >湖南省新型冠状病毒感染的肺炎疫情信息发布</a></td>\n                        <td align=\"center\">2020-02-05</td>\n                    </tr>\n                \t<tr>\n                    \t<td align=\"center\">430S00/2020-011011</td>\n                        <td><a href=\"/wjw/xxgk/gzdt/zyxw_1/202002/t20200205_11171303.html\" title=\"湖南省新型冠状病毒感染的肺炎疫情每日信息（含英法德日韩老俄7国语言版本）\" target=\"_blank\" >湖南省新型冠状病毒感染的肺炎疫情每日信息（含英法德日韩老俄7国语言版本）</a></td>\n                        <td align=\"center\">2020-02-05</td>\n                    </tr>\n                \t<tr>\n                    \t<td align=\"center\">430S00/2020-010919</td>\n                        <td><a href=\"/wjw/xxgk/gzdt/zyxw_1/202002/t20200205_11171143.html\" title=\"又有十二名确诊患者治愈出院\" target=\"_blank\" >又有十二名确诊患者治愈出院</a></td>\n                        <td align=\"center\">2020-02-05</td>\n                    </tr>\n                \t<tr>\n                    \t<td align=\"center\">430S00/2020-010688</td>\n                        <td><a href=\"/wjw/xxgk/gzdt/zyxw_1/202002/t20200205_11170694.html\" title=\"关于追授张辉同志“湖南省新型冠状病毒感染的肺炎疫情防控工作先进个人”荣誉的决定\" target=\"_blank\" >关于追授张辉同志“湖南省新型冠状病毒感染的肺炎疫情防控工作先进个人”荣...</a></td>\n                        <td align=\"center\">2020-02-05</td>\n                    </tr>\n                \t<tr>\n                    \t<td align=\"center\">430S00/2020-010189</td>\n                        <td><a href=\"/wjw/xxgk/gzdt/zyxw_1/202002/t20200204_11169298.html\" title=\"杜家毫主持省委常委会会议：有力有序有效做好疫情防控各项工作\" target=\"_blank\" >杜家毫主持省委常委会会议：有力有序有效做好疫情防控各项工作</a></td>\n                        <td align=\"center\">2020-02-04</td>\n                    </tr>\n                \t<tr>\n                    \t<td align=\"center\">430S00/2020-010460</td>\n                        <td><a href=\"/wjw/xxgk/gzdt/zyxw_1/202002/t20200204_11169914.html\" title=\"湖南省新型冠状病毒感染的肺炎疫情每日信息（含英法德日韩老俄7国语言版本）\" target=\"_blank\" >湖南省新型冠状病毒感染的肺炎疫情每日信息（含英法德日韩老俄7国语言版本）</a></td>\n                        <td align=\"center\">2020-02-04</td>\n                    </tr>\n                \t<tr>\n                    \t<td align=\"center\">430S00/2020-010109</td>\n                        <td><a href=\"/wjw/xxgk/gzdt/zyxw_1/202002/t20200204_11169184.html\" title=\"湖南省新型冠状病毒感染的肺炎疫情信息发布\" target=\"_blank\" >湖南省新型冠状病毒感染的肺炎疫情信息发布</a></td>\n                        <td align=\"center\">2020-02-04</td>\n                    </tr>\n                \t<tr>\n                    \t<td align=\"center\">430S00/2020-010114</td>\n                        <td><a href=\"/wjw/xxgk/gzdt/zyxw_1/202002/t20200204_11169192.html\" title=\"中共湖南省直属机关工作委员会关于追授张辉同志“省直机关优秀共产党员”称号的决定\" target=\"_blank\" >中共湖南省直属机关工作委员会关于追授张辉同志“省直机关优秀共产党员”称...</a></td>\n                        <td align=\"center\">2020-02-04</td>\n                    </tr>\n                \t<tr>\n                    \t<td align=\"center\">430S00/2020-010403</td>\n                        <td><a href=\"/wjw/xxgk/gzdt/zyxw_1/202002/t20200204_11169759.html\" title=\"湖南省总工会追授张辉同志“湖南省五一劳动奖章”荣誉称号\" target=\"_blank\" >湖南省总工会追授张辉同志“湖南省五一劳动奖章”荣誉称号</a></td>\n                        <td align=\"center\">2020-02-04</td>\n                    </tr>\n                \t<tr>\n                    \t<td align=\"center\">430S00/2020-010298</td>\n                        <td><a href=\"/wjw/xxgk/gzdt/zyxw_1/202002/t20200204_11169483.html\" title=\"湖南又有8例新型冠状病毒肺炎患者治愈出院 共有30例\" target=\"_blank\" >湖南又有8例新型冠状病毒肺炎患者治愈出院 共有30例</a></td>\n                        <td align=\"center\">2020-02-04</td>\n                    </tr>\n                \t<tr>\n                    \t<td align=\"center\">430S00/2020-009776</td>\n                        <td><a href=\"/wjw/xxgk/gzdt/zyxw_1/202002/t20200203_11168209.html\" title=\"湖南省新型冠状病毒感染的肺炎疫情信息发布\" target=\"_blank\" >湖南省新型冠状病毒感染的肺炎疫情信息发布</a></td>\n                        <td align=\"center\">2020-02-03</td>\n                    </tr>\n                \t<tr>\n                    \t<td align=\"center\">430S00/2020-010043</td>\n                        <td><a href=\"/wjw/xxgk/gzdt/zyxw_1/202002/t20200203_11168980.html\" title=\"湖南省新型冠状病毒感染的肺炎疫情每日信息（含英法德日韩老俄7国语言版本）\" target=\"_blank\" >湖南省新型冠状病毒感染的肺炎疫情每日信息（含英法德日韩老俄7国语言版本）</a></td>\n                        <td align=\"center\">2020-02-03</td>\n                    </tr>\n<script type=\"text/javascript\" src=\"/wjw/xhtml/js/page.js\"></script><script>window.onload=function() {createPageHTML('paging',25, 1,'index','html',500);}</script>\t\n                </tbody>\n            </table>\n            <link href=\"/wjw/xhtml/css/page.css\" rel=\"stylesheet\" type=\"text/css\">\n<div class=\"paging_wrap right\"><ul id=\"paging\" class=\"paging\"></ul></div>\n        </div>\n    </div>\n</div>\n<!--main end-->\n<div class=\"clear\"></div>\n<style>\n#_span_jiucuo img{\nmargin-top:-65px !important; \nmargin-left:85px!important;\n}\n.footer_main p {\n    margin-left: 135px;\n}\n.friend_link_box .friend_link ul li select{width: 175px;}\n.friend_link_box .friend_link ul li{margin-left: 19px;}\n</style>\n\n<div class=\"clear\"></div>\n<!--foot begin-->\n<div class=\"friend_link_box\">\n\t<div class=\"friend_link\">\n    \t<h2>友情链接</h2>\n        <ul>\n        \t<li style=\"margin-left:0;\">\n            \t<select onchange=\"if(this.value!='')window.open(this.value);\">\n            \t\t<option value=\"\">国家及省市卫健委</option>\n                  \t \n                  \t<option value=\"http://www.nhc.gov.cn\">中华人民共和国国家卫生健康委员会</option>\n\n                  \t<option value=\"http://wjw.beijing.gov.cn \">北京市卫生健康委员会</option>\n\n                  \t<option value=\"http://wsjs.tj.gov.cn/\">天津市卫生健康委员会</option>\n\n                  \t<option value=\"http://www.hebwst.gov.cn\">河北省卫生健康委员会</option>\n\n                  \t<option value=\"http://www.sxwsjs.gov.cn/\">山西省卫生健康委员会</option>\n\n                  \t<option value=\"http://www.lndoh.gov.cn/\">辽宁省卫生健康委员会</option>\n\n                  \t<option value=\"http://www.nmgwjw.gov.cn/\">内蒙古自治区卫生健康委员会</option>\n\n                  \t<option value=\"http://wsjsw.jl.gov.cn/\">吉林省卫生健康委员会</option>\n\n                  \t<option value=\"http://www.hljhfpc.gov.cn/\">黑龙江省卫生健康委员会</option>\n\n                  \t<option value=\"http://wsj.sh.gov.cn/\">上海市卫生健康委员会</option>\n\n                  \t<option value=\"http://www.jswst.gov.cn/\">江苏省卫生健康委员会</option>\n\n                  \t<option value=\"http://www.gxhfpc.gov.cn/\">广西壮族自治区卫生健康委员会</option>\n\n                  \t<option value=\"http://www.ahwjw.gov.cn/\">安徽省卫生健康委员会</option>\n\n                  \t<option value=\"http://wjw.fujian.gov.cn/\">福建省卫生健康委员会</option>\n\n                  \t<option value=\"http://www.jxhfpc.gov.cn/\">江西省卫生健康委员会</option>\n\n                  \t<option value=\"http://wsjkw.shandong.gov.cn/\">山东省卫生健康委员会</option>\n\n                  \t<option value=\"http://www.hnwsjsw.gov.cn/\">河南省卫生健康委员会</option>\n\n                  \t<option value=\"http://www.nxws.gov.cn/\">宁夏回族自治区卫生健康委员会</option>\n\n                  \t<option value=\"http://www.hbwsjs.gov.cn/\">湖北省卫生健康委员会</option>\n\n                  \t<option value=\"http://www.gdwst.gov.cn/\">广东省卫生健康委员会</option>\n\n                  \t<option value=\"http://www.cqwsjsw.gov.cn/\">重庆市卫生健康委员会</option>\n\n                  \t<option value=\"http://www.scwst.gov.cn/\">四川省卫生健康委员会</option>\n\n                  \t<option value=\"http://www.gzhfpc.gov.cn/\">贵州省卫生健康委员会</option>\n\n                  \t<option value=\"http://sxwjw.shaanxi.gov.cn/\">陕西省卫生健康委员会</option>\n\n                  \t<option value=\"http://www.gsws.gov.cn/\">甘肃省卫生健康委员会</option>\n\n                  \t<option value=\"http://www.qhwst.gov.cn/\">青海省卫生健康委员会</option>\n\n                  \t<option value=\"http://www.xjhfpc.gov.cn/\">新疆维吾尔自治区卫生健康委员会</option>\n\n          \t\t</select>\n            </li>\n            <li>\n            \t<select onchange=\"if(this.value!='')window.open(this.value);\">\n            \t\t<option value=\"\">省政府及部门网站</option>\n                  \t<script src=\"http://daohang.hunan.gov.cn/deptOpt.js\" style=\"display:none;\" ignoreapd=\"true\"></script>\n          \t\t</select>\n            </li>\n            <li>\n            \t<select onchange=\"if(this.value!='')window.open(this.value);\">\n            \t\t<option value=\"\">市州卫生健康委员会</option>\n\n                  \t<option value=\"http://wsjkw.changsha.gov.cn/\">长沙市卫生健康委员会</option>\n\n                  \t<option value=\"http://wjw.zhuzhou.gov.cn/\">株洲市卫生健康委</option>\n\n                  \t<option value=\"http://wjw.hengyang.gov.cn/\">衡阳市卫生健康委员会</option>\n\n                  \t<option value=\"http://www.yyswsj.gov.cn/\">益阳市卫生健康委员会</option>\n\n                  \t<option value=\"http://wjw.hnloudi.gov.cn/\">娄底市卫生健康委员会</option>\n\n                  \t<option value=\"http://wsj.yueyang.gov.cn\">岳阳市卫生健康委员会</option>\n\n                  \t<option value=\"http://wjw.changde.gov.cn/\">常德市卫生健康委员会</option>\n\n                  \t<option value=\"http://www.huaihua.gov.cn/hhswjj/\">怀化市卫生健康委员会</option>\n\n                  \t<option value=\"http://zwgk.anrenzf.gov.cn/wsj/\">郴州市卫生健康委员会</option>\n\n                  \t<option value=\"http://wsjkwyh.xxz.gov.cn/\">湘西自治州卫生健康委员会</option>\n\n          \t\t</select>\n            </li>\n            <li>\n            \t<select onchange=\"if(this.value!='')window.open(this.value);\">\n            \t\t<option value=\"\">市州卫生医疗机构</option>\n\n                  \t<option value=\"http://www.changshacentralhospital.com/\">长沙市中心医院</option>\n\n                  \t<option value=\"http://www.xtsyyy.com/\">湘潭市第一人民医院</option>\n\n                  \t<option value=\"http://www.hyszxyy.com/\">衡阳市中心医院</option>\n\n                  \t<option value=\"http://www.ldzxyy.com/\">娄底市中心医院</option>\n\n                  \t<option value=\"http://www.yy8080120.com/\">岳阳市一人民医院</option>\n\n          \t\t</select>\n            </li>\n             <!--<li>\n            \t<select onchange=\"if(this.value!='')window.open(this.value);\">\n            \t\t<option value=\"\">县区卫生计生委</option>\n\n          \t\t</select>\n            </li>-->\n            <li>\n            \t<select onchange=\"if(this.value!='')window.open(this.value);\">\n            \t\t<option value=\"\">其他相关网站链接</option>\n\n          \t\t</select>\n            </li>\n        </ul>\n    </div>\n</div>\n<div class=\"footer\">\n    <div class=\"footer_main\">\n    \t<div class=\"gov_icon\">\n        \t<div id=\"_ideConac\"><script type=\"text/javascript\">document.write(unescape(\"%3Cscript src='http://dcs.conac.cn/js/19/000/0000/60645932/CA190000000606459320004.js' async='async' type='text/javascript'%3E%3C/script%3E\"));</script></div>\n\n\n<script id=\"_jiucuo_\" sitecode='4300000048' src='/wjw/xhtml/js/jiucuo.js'></script>\n\n        </div>\n        <p>\n            主办单位：湖南省卫生健康委员会 &nbsp;  公安备案号:43010502000560    <br />\n\t\t\t地址：长沙市湘雅路30号 &nbsp;  邮编：410008 &nbsp;  网站标识码：4300000048 <br />\n\t\t\t备案号：湘ICP备13011827号　技术支持：湖南省人民政府发展研究中心<br/>联系电话：0731-84822000&nbsp;&nbsp;<a target=\"_blank\" href=\"/wjw/zddt_905/index.html\" style=\"color:#fff;\">站点地图</a>\n        </p>\n    </div>\n</div>\n<script type=\"text/javascript\" src=\"http://daohang.hunan.gov.cn/HJFront/require.js\" ignoreapd=\"1\"></script>\n<!--foot end-->\n<script language=\"JavaScript\">var _trackDataType = 'web';var _trackData = _trackData || [];</script>\n<script type=\"text/javascript\" charset=\"utf-8\" id=\"kpyfx_js_id_10006615\" src=\"//fxsjcj.kaipuyun.cn/count/10006615/10006615.js\"></script>\n<script>\n\t// JavaScript Document\n\t$(document).ready(function(e) {\n\tvar dropselect = new WP_DropSelect();\n\tdropselect.init();    \n\t});\n\tfunction getLink(value,name){\n\t\t//alert(value);\n\t\tif(value!=\"\")window.open(value);\n\t}\n</script>\n<script type=\"text/javascript\">\n$(document).ready(function(){\n\t$(\"#treeview\").treeview();\n});\n</script>\n</body>\n</html>\nhttp://wjw.hunan.gov.cn/wjw/xxgk/gzdt/zyxw_1/202002/t20200207_11172443.html\n"
    }
   ],
   "metadata": {},
   "execution_count": 4
  },
  {
   "cell_type": "code",
   "execution_count": 20,
   "metadata": {},
   "outputs": [
    {
     "name": "stdout",
     "output_type": "stream",
     "text": [
      "begin\n",
      "\n",
      "\n",
      "  2020年2月6日0-24时,湖南省报告新型冠状病毒感染的肺炎新增确诊病例61例,新增重症病例2例,新增死亡病例0例,新增出院病例35例。其中:  新增确诊病例中,长沙市11例、株洲市5例、湘潭市1例、邵阳市9例、岳阳市14例、常德市2例、张家界市2例、益阳市2例、郴州市4例、永州市6例、怀化市2例、娄底市2例、湘西自治州1例。  新增重症病例中,株洲市1例、邵阳市1例。  新增出院病例中,长沙市2例、衡阳市3例、株洲市5例、湘潭市2例、邵阳市6例、岳阳市2例、常德市11例、郴州市2例、怀化市1例、娄底市1例。  截至2月6日24时,湖南省累计报告新型冠状病毒感染的肺炎确诊病例772例,累计报告重症病例95例,现有重症病例57例,死亡病例0例,出院病例91例。其中:  确诊病例中,长沙市190例、衡阳市43例、株洲市46例、湘潭市25例、邵阳市83例、岳阳市107例、常德市64例、张家界市5例、益阳市43例、郴州市29例、永州市38例、怀化市38例、娄底市53例、湘西自治州8例。  现有重症病例中,长沙市19例、衡阳市2例、株洲市4例、湘潭市2例、邵阳市5例、岳阳市2例、常德市5例、益阳市5例、永州市3例、怀化市4例、娄底市5例、湘西自治州1例。出院病例中,长沙市10例、衡阳市8例、株洲市7例、湘潭市7例、邵阳市9例、岳阳市4例、常德市14例、张家界市2例、益阳市6例、郴州市4例、永州市8例、怀化市7例、娄底市4例、湘西自治州1例。  目前追踪到密切接触者19031人,已解除医学观察9141人,尚有9890人正在接受医学观察。\n",
      "\n",
      "\n",
      "finish\n"
     ]
    }
   ],
   "source": [
    "\n",
    "\n",
    "\n",
    "def get_data(web_address):\n",
    "    #获取网页信息\n",
    "    while(1):\n",
    "        try:\n",
    "            res = requests.get(web_address,timeout=2)\n",
    "            flag=1\n",
    "            break\n",
    "        except:\n",
    "            print(\"retry\")\n",
    "            flag=0\n",
    "    res.encoding = 'utf-8'\n",
    "    soup = BeautifulSoup(res.text, 'html.parser')      #结构化处理\n",
    "    \n",
    "    for element in soup.find_all(name='div',attrs = {'class':'main_con_zw'}):\n",
    "        print(element.get_text())\n",
    "                    \n",
    "if __name__ == '__main__':\n",
    "    print('begin')\n",
    "    get_data(info_url)\n",
    "    print('finish')\n",
    "    "
   ]
  },
  {
   "cell_type": "code",
   "execution_count": null,
   "metadata": {},
   "outputs": [],
   "source": []
  }
 ],
 "metadata": {
  "kernelspec": {
   "display_name": "Python 3.7.4 64-bit",
   "language": "python",
   "name": "python37464bit0d4557ec91c049559ae1861a5476b44a"
  },
  "language_info": {
   "codemirror_mode": {
    "name": "ipython",
    "version": 3
   },
   "file_extension": ".py",
   "mimetype": "text/x-python",
   "name": "python",
   "nbconvert_exporter": "python",
   "pygments_lexer": "ipython3",
   "version": "3.7.4-final"
  }
 },
 "nbformat": 4,
 "nbformat_minor": 2
}