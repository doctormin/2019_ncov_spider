{
 "nbformat": 4,
 "nbformat_minor": 2,
 "metadata": {
  "language_info": {
   "name": "python",
   "codemirror_mode": {
    "name": "ipython",
    "version": 3
   },
   "version": "3.7.4-final"
  },
  "orig_nbformat": 2,
  "file_extension": ".py",
  "mimetype": "text/x-python",
  "name": "python",
  "npconvert_exporter": "python",
  "pygments_lexer": "ipython3",
  "version": 3,
  "kernelspec": {
   "name": "python37464bit0d4557ec91c049559ae1861a5476b44a",
   "display_name": "Python 3.7.4 64-bit"
  },
  "pycharm": {
   "stem_cell": {
    "cell_type": "raw",
    "source": [],
    "metadata": {
     "collapsed": false
    }
   }
  }
 },
 "cells": [
  {
   "cell_type": "code",
   "execution_count": 9,
   "metadata": {},
   "outputs": [
    {
     "name": "stdout",
     "output_type": "stream",
     "text": "·[新华社]习近平：全面提高依法防控依法治理能力 为疫情防控提供有力法治保...\n·[中国政府网]李克强主持召开中央应对新型冠状病毒感染肺炎疫情工作领导小组...\n·[新华社]中共中央政治局常务委员会召开会议 研究加强新型冠状病毒感染的肺...\n·[新华网] 李克强主持召开中央应对新型冠状病毒感染肺炎疫情工作领导小组会...\n·国家卫生健康委、最高人民法院、最高人民检察院和公安部联合发文：对新型冠...\n·[国家卫生健康委]新型冠状病毒感染的肺炎防治营养膳食指导\n·[国家卫生健康委]关于印发新型冠状病毒肺炎疫情防控期间心理援助热线工作指...\n·国家卫生健康委办公厅关于在疫情防控中做好互联网诊疗咨询服务工作的通知\n·[国家卫生健康委]关于全力做好一线医务人员及其家属保障工作的通知\n·河南医疗队收治患者有8人治愈出院\n·河南省出台7项措施 激励专家人才在抗疫一线担当作为\n·河南省新型冠状病毒感染的肺炎 疫情防控工作第五场新闻发布会召开 加强重症...\n·戴柏华：落实落细防控措施坚决打赢疫情防控阻击战\n·尹弘到驻马店信阳检查疫情防控工作\n·王国生到南阳市检查疫情防控工作时强调加强党的领导凝聚群防群治强大合力...\n·[国家卫生健康委]截至2月7日24时新型冠状病毒肺炎疫情最新情况\n·截至2月7日24时河南省新型冠状病毒感染的肺炎疫情最新情况\nhttp://wsjkw.henan.gov.cn/contents/854/48186.shtml\n"
    }
   ],
   "source": [
    "import requests\n",
    "from bs4 import BeautifulSoup\n",
    "import urllib.request\n",
    "import xlsxwriter\n",
    "import time\n",
    "import re\n",
    "\n",
    "henan = 'http://wsjkw.henan.gov.cn/channels/854.shtml'         #卫健委的url\n",
    "info_pattern = re.compile(r'.截至.月.*日.*时河南省新型冠状病毒感染的肺炎疫情最新情况')  \n",
    "\n",
    "\n",
    "#找到通报疫情的url\n",
    "def find_url(web_address):\n",
    "    #获取网页信息\n",
    "    while(1):\n",
    "        try:\n",
    "            res = requests.get(web_address,timeout=(5, 10))\n",
    "            flag = 1\n",
    "            break\n",
    "        except:\n",
    "            print(\"retry\")\n",
    "            flag=0\n",
    "    res.encoding = 'utf-8'\n",
    "    \n",
    "    soup = BeautifulSoup(res.text, features = 'html.parser')      #结构化处理 \n",
    "    \n",
    "    for element in soup.find_all(name='ul',attrs = {'class':'list-group listmain'}):\n",
    "        for info in element.find_all('a'):\n",
    "            info_title = info.get_text() \n",
    "            #print(info.get_text())     #获取通报的标题\n",
    "            if(info_pattern.match(info_title)):\n",
    "                return(info.get('href'))\n",
    "                \n",
    "info_url = 'http://wsjkw.henan.gov.cn' + find_url(henan)\n",
    "print(info_url)\n"
   ]
  },
  {
   "cell_type": "code",
   "execution_count": 10,
   "metadata": {},
   "outputs": [
    {
     "name": "stdout",
     "output_type": "stream",
     "text": "begin\nretry\nretry\n\n2020年2月7日0-24时，河南省新增新型冠状病毒感染的肺炎确诊病例67例,新增出院病例29例，新增死亡病例1例。新增确诊病例中，信阳市16例（含固始县1例）、南阳市10例（含邓州市1例）、郑州市8例、驻马店市7例（含新蔡县1例）、商丘市4例（含永城市3例）、漯河市3例、安阳市3例（含滑县1例）、平顶山市2例、鹤壁市2例、焦作市2例、许昌市2例、周口市2例、濮阳市2例、新乡市2例、开封市1例、洛阳市1例。截至2月7日24时，全省累计报告新型冠状病毒感染的肺炎确诊病例981例，现有重症病例58例，现有危重病例28例，累计死亡病例4例，累计治愈病例97例。其中：确诊病例中，信阳市192例（含固始县18例）、南阳市128例（含邓州市17例）、郑州市120例（含巩义市8例）、驻马店市113例（含新蔡县10例）、商丘市76例（含永城市13例）、周口市62例（含鹿邑县6例）、平顶山市48例（含汝州市1例）、安阳市43例（含滑县2例）、新乡市43例（含长垣市4例）、许昌市30例、漯河市29例、洛阳市25例、开封市21例（含兰考县5例）、焦作市20例、鹤壁市13例、濮阳市7例、三门峡市7例、济源示范区4例。目前累计追踪到密切接触者20928人，2月7日已解除观察3516人，诊断为疑似56人，共有10187人正在接受医学观察。\n\n\n\nfinish\n"
    }
   ],
   "source": [
    "def get_data(web_address):\n",
    "    #获取网页信息\n",
    "    while(1):\n",
    "        try:\n",
    "            res = requests.get(web_address,timeout=2)\n",
    "            flag=1\n",
    "            break\n",
    "        except:\n",
    "            print(\"retry\")\n",
    "            flag=0\n",
    "    res.encoding = 'utf-8'\n",
    "    soup = BeautifulSoup(res.text, 'html.parser')      #结构化处理\n",
    "    for element in soup.find_all(name='div',attrs = {'id':'artibody'} ):\n",
    "        print(element.get_text())\n",
    "                    \n",
    "if __name__ == '__main__':\n",
    "    print('begin')\n",
    "    get_data(info_url)\n",
    "    print('finish')"
   ]
  },
  {
   "cell_type": "code",
   "execution_count": null,
   "metadata": {},
   "outputs": [],
   "source": []
  }
 ]
}