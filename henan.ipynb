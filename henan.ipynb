{
 "nbformat": 4,
 "nbformat_minor": 2,
 "metadata": {
  "language_info": {
   "name": "python",
   "codemirror_mode": {
    "name": "ipython",
    "version": 3
   },
   "version": "3.7.4-final"
  },
  "orig_nbformat": 2,
  "file_extension": ".py",
  "mimetype": "text/x-python",
  "name": "python",
  "npconvert_exporter": "python",
  "pygments_lexer": "ipython3",
  "version": 3,
  "kernelspec": {
   "name": "361c5ae9-67e8-493c-b15d-1c763400a7c3",
   "language": "python",
   "display_name": "'Python Interactive'"
  },
  "pycharm": {
   "stem_cell": {
    "cell_type": "raw",
    "source": [],
    "metadata": {
     "collapsed": false
    }
   }
  }
 },
 "cells": [
  {
   "cell_type": "code",
   "execution_count": 3,
   "metadata": {
    "pycharm": {
     "is_executing": false
    }
   },
   "outputs": [
    {
     "name": "stdout",
     "text": [
      "·[新华社]习近平在北京市调研指导新型冠状病毒肺炎疫情防控工作\n",
      "·[中国政府网]李克强主持召开中央应对新冠肺炎疫情工作领导小组会议 部署进...\n",
      "·[中国政府网]李克强赴中国医学科学院病原生物学研究所考察新冠肺炎疫情防控...\n",
      "·[新华社]习近平：全面提高依法防控依法治理能力 为疫情防控提供有力法治保...\n",
      "·国家卫生健康委员会办公厅　中央军委后勤保障部卫生局 关于做好新型冠状病...\n",
      "·尹弘在郑州检查指导工作时强调坚决遏制疫情扩散蔓延 保持生产生活平稳有...\n",
      "·王国生到新乡市检查疫情防控农业生产等工作时强调加强领导堵塞漏洞筑牢疫...\n",
      "·[国家卫生健康委]截至2月10日24时新型冠状病毒肺炎疫情最新情况\n",
      "·截至2月10日24时河南省新型冠状病毒肺炎疫情最新情况\n",
      "http://wsjkw.henan.gov.cn/contents/854/48232.shtml\n"
     ],
     "output_type": "stream"
    }
   ],
   "source": [
    "#41\n",
    "#By Yimin Zhao\n",
    "import requests\n",
    "from bs4 import BeautifulSoup\n",
    "import re\n",
    "henan = 'http://wsjkw.henan.gov.cn/channels/854.shtml'         #卫健委的url\n",
    "info_pattern = re.compile(r'.*河南.*新.*冠.*疫情.*情况.*')  \n",
    "#找到通报疫情的url\n",
    "def find_url(web_address):\n",
    "    #获取网页信息\n",
    "    while(1):\n",
    "        try:\n",
    "            res = requests.get(web_address,timeout=(5, 10))\n",
    "            flag = 1\n",
    "            break\n",
    "        except:\n",
    "            print(\"retry\")\n",
    "            flag=0\n",
    "    res.encoding = 'utf-8'\n",
    "    \n",
    "    soup = BeautifulSoup(res.text, features = 'html.parser')      #结构化处理 \n",
    "    \n",
    "    for element in soup.find_all(name='ul',attrs = {'class':'list-group listmain'}):\n",
    "        for info in element.find_all('a'):\n",
    "            info_title = info.get_text() \n",
    "            print(info.get_text())     #获取通报的标题\n",
    "            if(info_pattern.match(info_title)):\n",
    "                return(info.get('href'))\n",
    "                \n",
    "info_url = 'http://wsjkw.henan.gov.cn' + find_url(henan)\n",
    "print(info_url)\n"
   ]
  },
  {
   "cell_type": "code",
   "execution_count": 4,
   "metadata": {
    "pycharm": {
     "is_executing": false,
     "name": "#%%\n"
    }
   },
   "outputs": [
    {
     "name": "stdout",
     "text": [
      "begin\n",
      "\n",
      "2020年2月10日0-24时，河南省新增新型冠状病毒肺炎确诊病例32例,新增出院病例29例，新增死亡病例1例。新增确诊病例中，信阳市8例（含固始县4例）、驻马店市3例、商丘市3例、焦作市3例、南阳市2例、郑州市2例、平顶山市2例、新乡市2例（含长垣市1例）、安阳市1例、许昌市1例、漯河市1例、洛阳市1例、开封市1例、鹤壁市1例、濮阳市1例。截至2月10日24时，全省累计报告新型冠状病毒肺炎确诊病例1105例，现有重症病例60例，现有危重病例31例，累计死亡病例7例，累计治愈病例198例。其中：确诊病例中，信阳市228例（含固始县27例）、南阳市136例（含邓州市17例）、郑州市132例（含巩义市8例）、驻马店市126例（含新蔡县10例）、商丘市86例（含永城市14例）、周口市65例（含鹿邑县6例）、平顶山市54例（含汝州市1例）、新乡市48例（含长垣市7例）、安阳市46例（含滑县2例）、许昌市32例、漯河市31例、洛阳市28例、焦作市28例、开封市25例（含兰考县5例）、鹤壁市18例、濮阳市11例、三门峡市7例、济源示范区4例。目前累计追踪到密切接触者26362人，2月10日已解除观察3760人，诊断为疑似61人，共有10780人正在接受医学观察。\n",
      "\n",
      "\n",
      "\n",
      "finish\n"
     ],
     "output_type": "stream"
    }
   ],
   "source": [
    "def get_data(web_address):\n",
    "    #获取网页信息\n",
    "    while(1):\n",
    "        try:\n",
    "            res = requests.get(web_address,timeout=2)\n",
    "            flag=1\n",
    "            break\n",
    "        except:\n",
    "            print(\"retry\")\n",
    "            flag=0\n",
    "    res.encoding = 'utf-8'\n",
    "    soup = BeautifulSoup(res.text, 'html.parser')      #结构化处理\n",
    "    for element in soup.find_all(name='div',attrs = {'id':'artibody'} ):\n",
    "        print(element.get_text())\n",
    "        f = open(r\"D:\\IIoT\\20年寒假-疫情爬虫\\Data\\41.txt\", mode = 'w', encoding = \"utf-8\")\n",
    "        f.write(element.get_text())\n",
    "        f.close() \n",
    "                    \n",
    "if __name__ == '__main__':\n",
    "    print('begin')\n",
    "    get_data(info_url)\n",
    "    print('finish')\n",
    "\n",
    "\n"
   ]
  }
 ]
}