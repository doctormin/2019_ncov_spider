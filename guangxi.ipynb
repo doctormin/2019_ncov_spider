{
 "nbformat": 4,
 "nbformat_minor": 2,
 "metadata": {
  "language_info": {
   "name": "python",
   "codemirror_mode": {
    "name": "ipython",
    "version": 3
   },
   "version": "3.7.4-final"
  },
  "orig_nbformat": 2,
  "file_extension": ".py",
  "mimetype": "text/x-python",
  "name": "python",
  "npconvert_exporter": "python",
  "pygments_lexer": "ipython3",
  "version": 3,
  "kernelspec": {
   "name": "361c5ae9-67e8-493c-b15d-1c763400a7c3",
   "language": "python",
   "display_name": "'Python Interactive'"
  },
  "pycharm": {
   "stem_cell": {
    "cell_type": "raw",
    "source": [],
    "metadata": {
     "collapsed": false
    }
   }
  }
 },
 "cells": [
  {
   "cell_type": "code",
   "execution_count": 5,
   "metadata": {
    "pycharm": {
     "is_executing": false
    }
   },
   "outputs": [
    {
     "name": "stdout",
     "text": [
      "http://wsjkw.gxzf.gov.cn/zhuantiqu/ncov/ncovyqtb/2020/0210/68612.html\n"
     ],
     "output_type": "stream"
    }
   ],
   "source": [
    "import requests\n",
    "from bs4 import BeautifulSoup\n",
    "import urllib.request\n",
    "import xlsxwriter\n",
    "import time\n",
    "import re\n",
    "\n",
    "guangxi = 'http://wsjkw.gxzf.gov.cn/zhuantiqu/ncov/ncovyqtb/'         #卫健委的url\n",
    "info_pattern = re.compile(r'.*广西.*新型冠状.*疫情情况.*')  \n",
    "\n",
    "#找到通报疫情的url\n",
    "def find_url(web_address):\n",
    "    #获取网页信息\n",
    "    while(1):\n",
    "        try:\n",
    "            res = requests.get(web_address,timeout=(5, 10))\n",
    "            flag = 1\n",
    "            break\n",
    "        except:\n",
    "            print(\"retry\")\n",
    "            flag=0\n",
    "    res.encoding = 'gb2312'\n",
    "    \n",
    "    soup = BeautifulSoup(res.text, features = 'html.parser')      #结构化处理 \n",
    "    #print(soup)\n",
    "    for element in soup.find_all(name='div',attrs = {'class':'lxwmbox_newtxt'}):\n",
    "        for info in element.find_all('a'):\n",
    "            info_title = info.get_text()      #获取通报的标题\n",
    "            if(info_pattern.match(info_title)):\n",
    "                return(info.get('href'))\n",
    "        \n",
    "\n",
    "        \n",
    "info_url = find_url(guangxi)\n",
    "print(info_url)\n"
   ]
  },
  {
   "cell_type": "code",
   "execution_count": 6,
   "metadata": {
    "pycharm": {
     "is_executing": false
    }
   },
   "outputs": [
    {
     "name": "stdout",
     "text": [
      "begin\n",
      "\n",
      "2月9日0-24时，我区共新增新型冠状病毒肺炎确诊病例15例，其中南宁市2例、柳州市2例、桂林市1例、北海市2例、防城港市1例、贵港市1例、河池市2例、来宾市4例。新增疑似病例81例。目前全区累计报告确诊病例210例，累计出院病例18例。现有疑似病例243例，现有重症病例5例（南宁市1例、北海市1例、贵港市1例、河池市2例），危重病例9例（南宁市1例、桂林市1例、防城港市2例、玉林市1例、河池市4例），累计死亡病例1例（河池市都安县1例）。累计确诊病例中，南宁市37例、柳州市22例、桂林市30例、梧州市5例、北海市35例、防城港市17例、钦州市8例、贵港市8例、玉林市9例、百色市3例、贺州市4例、河池市21例、来宾市11例。目前累计追踪到密切接触者11025人，正在接受医学观察3911人。不管是上班途中还是在上班中，由于人员流动或聚集都会带来疫情传播的风险。专家建议，要注意公共环境下戴口罩的个人防护，提倡步行、骑自行车等绿色出行上班，如乘坐公共交通工具应尽量避免触摸车上物品，保持与他人的距离；提倡个人进入工作单位（场所）前，主动配合接受体温测量和问询；提倡少乘空气流通不畅的箱式电梯，避免接触电梯表面或用按电梯键的手揉眼等；提倡创新办公方式，少开会少集中，多采用远程协同、线上培训、视频会议等方式办公；提倡单位饭堂（餐厅）要求员工打包回办公室单独用餐，如需在饭堂用餐，尽量避免面对面用餐、用餐说话、扎堆进餐。同时，做好公共交通工具、电梯、会议室、饭堂等公共场所的日常消毒。  \n",
      "finish\n"
     ],
     "output_type": "stream"
    }
   ],
   "source": [
    "def get_data(web_address):\n",
    "    #获取网页信息\n",
    "    while(1):\n",
    "        try:\n",
    "            res = requests.get(web_address,timeout=2)\n",
    "            flag=1\n",
    "            break\n",
    "        except:\n",
    "            print(\"retry\")\n",
    "            flag=0\n",
    "    res.encoding = 'gb2312'\n",
    "    soup = BeautifulSoup(res.text, 'html.parser')      #结构化处理\n",
    "    for element in soup.find_all(name='div',attrs = {'class':'news_show_conter'} ):\n",
    "        print(element.get_text())\n",
    "                    \n",
    "if __name__ == '__main__':\n",
    "    print('begin')\n",
    "    get_data(info_url)\n",
    "    print('finish')"
   ]
  },
  {
   "cell_type": "code",
   "execution_count": 6,
   "metadata": {
    "pycharm": {
     "is_executing": false
    }
   },
   "outputs": [],
   "source": []
  }
 ]
}