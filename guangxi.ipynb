{
 "nbformat": 4,
 "nbformat_minor": 2,
 "metadata": {
  "language_info": {
   "name": "python",
   "codemirror_mode": {
    "name": "ipython",
    "version": 3
   },
   "version": "3.7.4-final"
  },
  "orig_nbformat": 2,
  "file_extension": ".py",
  "mimetype": "text/x-python",
  "name": "python",
  "npconvert_exporter": "python",
  "pygments_lexer": "ipython3",
  "version": 3,
  "kernelspec": {
   "name": "361c5ae9-67e8-493c-b15d-1c763400a7c3",
   "language": "python",
   "display_name": "'Python Interactive'"
  },
  "pycharm": {
   "stem_cell": {
    "cell_type": "raw",
    "source": [],
    "metadata": {
     "collapsed": false
    }
   }
  }
 },
 "cells": [
  {
   "cell_type": "code",
   "execution_count": 1,
   "metadata": {
    "pycharm": {
     "is_executing": false
    }
   },
   "outputs": [
    {
     "name": "stdout",
     "text": [
      "http://wsjkw.gxzf.gov.cn/zhuantiqu/ncov/ncovyqtb/2020/0211/68654.html\n"
     ],
     "output_type": "stream"
    }
   ],
   "source": [
    "#45\n",
    "#By Yimin Zhao\n",
    "import requests\n",
    "from bs4 import BeautifulSoup\n",
    "import re\n",
    "guangxi = 'http://wsjkw.gxzf.gov.cn/zhuantiqu/ncov/ncovyqtb/'         #卫健委的url\n",
    "info_pattern = re.compile(r'.*广西.*新.*冠.*疫情.*情况.*')  \n",
    "\n",
    "#找到通报疫情的url\n",
    "def find_url(web_address):\n",
    "    #获取网页信息\n",
    "    while(1):\n",
    "        try:\n",
    "            res = requests.get(web_address,timeout=(5, 10))\n",
    "            flag = 1\n",
    "            break\n",
    "        except:\n",
    "            print(\"retry\")\n",
    "            flag=0\n",
    "    res.encoding = 'gb2312'\n",
    "    \n",
    "    soup = BeautifulSoup(res.text, features = 'html.parser')      #结构化处理 \n",
    "    #print(soup)\n",
    "    for element in soup.find_all(name='div',attrs = {'class':'lxwmbox_newtxt'}):\n",
    "        for info in element.find_all('a'):\n",
    "            info_title = info.get_text()      #获取通报的标题\n",
    "            if(info_pattern.match(info_title)):\n",
    "                return(info.get('href'))\n",
    "        \n",
    "\n",
    "        \n",
    "info_url = find_url(guangxi)\n",
    "print(info_url)\n"
   ]
  },
  {
   "cell_type": "code",
   "execution_count": 2,
   "metadata": {
    "pycharm": {
     "is_executing": false
    }
   },
   "outputs": [
    {
     "name": "stdout",
     "text": [
      "begin\n",
      "\n",
      "2月10日0-24时，我区共新增新型冠状病毒肺炎确诊病例5例，其中南宁市4例、北海市1例。新增疑似病例114例。目前全区累计报告确诊病例215例，累计出院病例30例。现有疑似病例257例。现有重症病例6例（南宁市1例、北海市1例、防城港市1例、贵港市1例、河池市2例），危重病例8例（南宁市1例、桂林市1例、防城港市1例、玉林市1例、河池市4例），累计死亡病例1例（河池市都安县1例）。累计确诊病例中，南宁市41例、柳州市22例、桂林市30例、梧州市5例、北海市36例、防城港市17例、钦州市8例、贵港市8例、玉林市9例、百色市3例、贺州市4例、河池市21例、来宾市11例。目前累计追踪到密切接触者11870人，正在接受医学观察4036人。当前，新型冠状病毒肺炎疫情防控处于关键时期，保障医务人员安全、维护正常医疗秩序是打赢疫情防控攻坚战的重要保障。最近，国家卫生健康委、最高人民法院、最高人民检察院和公安部联合印发了《关于做好新型冠状病毒肺炎疫情防控期间保障医务人员安全维护良好医疗秩序的通知》，明确提出疫情防控期间出现7类涉医违法犯罪情形的，将依法严惩。一是殴打、故意伤害、故意杀害医务人员的；二是以暴力、威胁等方法非法限制医务人员人身自由，或者公然侮辱、恐吓、诽谤医务人员的；三是对医务人员实施撕扯防护用具、吐口水等行为，可能导致医务人员感染新型冠状病毒的；四是以暴力、威胁等方法拒不接受医疗卫生机构的检疫、隔离、治疗措施，或者阻碍医疗卫生机构依法处置传染病患者尸体的；五是强拿硬要或者故意损毁、占用医疗卫生机构的财物，或者在医疗卫生机构起哄闹事、违规停放尸体、私设灵堂，造成秩序混乱、影响疫情防控工作正常进行的；六是非法携带枪支、弹药、管制器具或者爆炸性、放射性、毒害性、腐蚀性物品进入医疗卫生机构的；七是其他侵犯医务人员安全、扰乱医疗秩序的情形。请善待你身边每一位医务人员，他们是你们的生命守护神。让我们携手并肩、同舟共济、众志成城，共筑阻击新型冠状病毒肺炎疫情的铜墙铁壁。 \n",
      "finish\n"
     ],
     "output_type": "stream"
    }
   ],
   "source": [
    "def get_data(web_address):\n",
    "    #获取网页信息\n",
    "    while(1):\n",
    "        try:\n",
    "            res = requests.get(web_address,timeout=2)\n",
    "            flag=1\n",
    "            break\n",
    "        except:\n",
    "            print(\"retry\")\n",
    "            flag=0\n",
    "    res.encoding = 'gb2312'\n",
    "    soup = BeautifulSoup(res.text, 'html.parser')      #结构化处理\n",
    "    for element in soup.find_all(name='div',attrs = {'class':'news_show_conter'} ):\n",
    "        print(element.get_text())\n",
    "        f = open(r\"D:\\IIoT\\20年寒假-疫情爬虫\\Data\\45.txt\", mode = 'w', encoding = \"utf-8\")\n",
    "        f.write(element.get_text())\n",
    "        f.close() \n",
    "                    \n",
    "if __name__ == '__main__':\n",
    "    print('begin')\n",
    "    get_data(info_url)\n",
    "    print('finish')"
   ]
  },
  {
   "cell_type": "code",
   "execution_count": 2,
   "metadata": {
    "pycharm": {
     "is_executing": false
    }
   },
   "outputs": [],
   "source": []
  }
 ]
}