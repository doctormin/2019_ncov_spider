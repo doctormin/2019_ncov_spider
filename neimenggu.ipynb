{
 "cells": [
  {
   "cell_type": "code",
   "execution_count": 1,
   "outputs": [
    {
     "name": "stdout",
     "text": [
      "http://wjw.nmg.gov.cn/doc/2020/02/11/291565.shtml\n"
     ],
     "output_type": "stream"
    }
   ],
   "source": [
    "#15\n",
    "#By Yimin Zhao\n",
    "import requests\n",
    "from bs4 import BeautifulSoup\n",
    "import re\n",
    "\n",
    "jilin = 'http://wjw.nmg.gov.cn/ztlm/2016n/xxgzbdgrdfyyqfk/yqtb/index.shtml'         #卫健委的url\n",
    "info_pattern = re.compile(r'.*内蒙古.*新.*疫情.*')  \n",
    "\n",
    "#找到通报疫情的url\n",
    "def find_url(web_address):\n",
    "    #获取网页信息\n",
    "    while(1):\n",
    "        try:\n",
    "            headers = {\"user-agent\": \"Mizilla/5.0\"}\n",
    "            res = requests.get(web_address,timeout=(5, 10), headers = headers)\n",
    "            flag = 1\n",
    "            break\n",
    "        except:\n",
    "            print(\"retry\")\n",
    "            flag=0\n",
    "    res.encoding = 'utf-8'\n",
    "    \n",
    "    soup = BeautifulSoup(res.text, features = 'html.parser')      #结构化处理 \n",
    "    for element in soup.find_all(name='div',attrs = {'class':'gjsz_lb_content'}):\n",
    "        for info in element.find_all('a'):\n",
    "            info_title = info.get_text().strip()      #获取通报的标题\n",
    "            if(info_pattern.match(info_title)):\n",
    "                return(info.get('href'))\n",
    "           \n",
    "info_url = 'http://wjw.nmg.gov.cn' + find_url(jilin)\n",
    "print(info_url)\n"
   ],
   "metadata": {
    "collapsed": false,
    "pycharm": {
     "name": "#%%\n",
     "is_executing": false
    }
   }
  },
  {
   "cell_type": "code",
   "execution_count": 2,
   "outputs": [
    {
     "name": "stdout",
     "text": [
      "begin\n",
      "retry\n",
      "\n",
      "　　2020年2月10日10时至11日9时，内蒙古自治区报告无新冠肺炎新增确诊病例。新增疑似病例2例。\n",
      "　　其中：新增疑似病例为包头市东河区1例、九原区1例。\n",
      "　　截至2月11日9时，内蒙古自治区累计报告新冠肺炎确诊病例58例，重症病例3例，危重病例5例，出院病例5例。\n",
      "　　其中58例确诊病例为：\n",
      "　　1.鄂尔多斯市11例（达拉特旗9例、东胜区1例、鄂托克前旗1例）\n",
      "　　2.包头市11例（土默特右旗7例、昆都仑区3例、东河区1例）\n",
      "　　3.呼和浩特市7例(玉泉区3例、新城区2例、赛罕区1例、回民区1例)\n",
      "　　4.巴彦淖尔市6例（五原县2例、临河区2例、乌拉特中旗2例）\n",
      "　　5.通辽市6例（霍林郭勒市5例、经济开发区1例）\n",
      "　　6.呼伦贝尔市5例（莫力达瓦旗3例、满洲里市1例、牙克石市1例）\n",
      "　　7.赤峰市4例（元宝山区2例、松山区1例、林西县1例）\n",
      "　　8.乌兰察布市3例（化德县2例、四子王旗1例）\n",
      "　　9.乌海市海勃湾区2例\n",
      "　　10.锡林郭勒盟2例（锡林浩特市1例、二连浩特市1例）​\n",
      "　　11.兴安盟乌兰浩特市1例\n",
      "　　确诊病例中，重症病例3例（鄂尔多斯市达拉特旗2例、包头市昆都仑区1例）；危重病例5例（赤峰市元宝山区1例，包头市昆都仑区1例、土右旗1例，巴彦淖尔市临河区1例，呼伦贝尔市莫力达瓦旗1例）；出院病例5例（鄂尔多斯市东胜区1例、鄂托克前旗1例，锡林郭勒盟的二连浩特市1例，赤峰市松山区1例，呼伦贝尔市的满洲里市1例）。\n",
      "　　疑似病例11例（巴彦淖尔市乌拉特中旗2例；包头市土默特右旗2例、东河区1例、九原区1例；赤峰市元宝山区2例；莫力达瓦旗1例；乌海市乌达区1例、锡林郭勒盟多伦县1例）。均在定点医院接受隔离治疗。排除4例疑似病例（巴彦淖尔市临河区1例，呼伦贝尔市海拉尔区2例、牙克石市1例）。目前，尚在接受医学观察的密切接触者1252人。当日解除医学观察85人。\n",
      "　　自治区党委、政府高度重视我区疫情防控工作，各项工作正在按照国家疫情防控工作的统一部署，紧张有序的推进落实中。（皇利华 供稿）\n",
      "\n",
      "finish\n"
     ],
     "output_type": "stream"
    }
   ],
   "source": [
    "def get_data(web_address):\n",
    "    #获取网页信息\n",
    "    while(1):\n",
    "        try:\n",
    "            headers = {\"user-agent\": \"Mizilla/5.0\"}\n",
    "            res = requests.get(web_address,timeout=(5, 10), headers = headers)\n",
    "            flag=1\n",
    "            break\n",
    "        except:\n",
    "            print(\"retry\")\n",
    "            flag=0\n",
    "    res.encoding = 'utf-8'\n",
    "    soup = BeautifulSoup(res.text, 'html.parser')      #结构化处理\n",
    "    for element in soup.find_all(name='div',attrs = {'class':'position1-text2'} ):\n",
    "        print(element.get_text())\n",
    "        f = open(r\"D:\\IIoT\\20年寒假-疫情爬虫\\Data\\15.txt\", mode = 'w', encoding = \"utf-8\")\n",
    "        f.write(element.get_text())\n",
    "        f.close() \n",
    "                    \n",
    "if __name__ == '__main__':\n",
    "    print('begin')\n",
    "    get_data(info_url)\n",
    "    print('finish')"
   ],
   "metadata": {
    "collapsed": false,
    "pycharm": {
     "name": "#%%\n",
     "is_executing": false
    }
   }
  },
  {
   "cell_type": "code",
   "execution_count": 2,
   "outputs": [],
   "source": [
    "\n"
   ],
   "metadata": {
    "collapsed": false,
    "pycharm": {
     "name": "#%%\n",
     "is_executing": false
    }
   }
  }
 ],
 "metadata": {
  "kernelspec": {
   "display_name": "'Python Interactive'",
   "language": "python",
   "name": "361c5ae9-67e8-493c-b15d-1c763400a7c3"
  },
  "language_info": {
   "codemirror_mode": {
    "name": "ipython",
    "version": 2
   },
   "file_extension": ".py",
   "mimetype": "text/x-python",
   "name": "python",
   "nbconvert_exporter": "python",
   "pygments_lexer": "ipython2",
   "version": "2.7.6"
  },
  "pycharm": {
   "stem_cell": {
    "cell_type": "raw",
    "source": [],
    "metadata": {
     "collapsed": false
    }
   }
  }
 },
 "nbformat": 4,
 "nbformat_minor": 0
}