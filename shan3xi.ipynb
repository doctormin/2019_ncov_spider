{
 "nbformat": 4,
 "nbformat_minor": 2,
 "metadata": {
  "language_info": {
   "name": "python",
   "codemirror_mode": {
    "name": "ipython",
    "version": 3
   },
   "version": "3.7.4-final"
  },
  "orig_nbformat": 2,
  "file_extension": ".py",
  "mimetype": "text/x-python",
  "name": "python",
  "npconvert_exporter": "python",
  "pygments_lexer": "ipython3",
  "version": 3,
  "kernelspec": {
   "name": "361c5ae9-67e8-493c-b15d-1c763400a7c3",
   "language": "python",
   "display_name": "'Python Interactive'"
  },
  "pycharm": {
   "stem_cell": {
    "cell_type": "raw",
    "source": [],
    "metadata": {
     "collapsed": false
    }
   }
  }
 },
 "cells": [
  {
   "source": [
    "#61\n",
    "#By Yimin Zhao\n",
    "import requests\n",
    "import re\n",
    "from selenium import webdriver\n",
    "\n",
    "shan3xi = 'http://sxwjw.shaanxi.gov.cn/col/col9/index.html'         #卫健委的url\n",
    "info_pattern = re.compile(r'陕西新增.*例新.*累计.*')  \n",
    "\n",
    "driver = webdriver.Chrome()\n",
    "driver.get(shan3xi)\n",
    "nodes = driver.find_elements_by_xpath('//*[@id=\"572\"]/div/li')\n",
    "for node in nodes:\n",
    "      title = node.find_element_by_xpath('a').text\n",
    "      print(title)\n",
    "      if info_pattern.match(title):\n",
    "        print(\"matched!\")\n",
    "        info_title = title\n",
    "        info_url = node.find_element_by_xpath('a').get_attribute('href')\n",
    "        break\n",
    "driver.get(info_url)\n",
    "info_content = driver.find_element_by_xpath('//*[@id=\"zoom\"]').text.strip()\n",
    "print(info_content)\n",
    "f = open(r\"D:\\IIoT\\20年寒假-疫情爬虫\\Data\\61.txt\", mode = 'w', encoding = \"utf-8\")\n",
    "f.write(info_content)\n",
    "f.close() \n"
   ],
   "cell_type": "code",
   "outputs": [
    {
     "name": "stdout",
     "text": [
      "出征！32名陕西“中医英雄”驰援武汉！\n",
      "我省首例新冠肺炎确诊孕妇顺利分娩\n",
      "陕西新增6例新冠肺炎 确诊病例累计219例\n",
      "matched!\n",
      "截至2月11日10时，陕西新增6例新冠肺炎确诊病例，新增疑似病例71例。新增确诊病例中，西安市6例。陕西累计报告新冠肺炎确诊病例219例（31例治愈出院），其中输入性病例111例，密切接触者95例，无明确接触史病例13例。累计确诊病例中，西安市104例、宝鸡市13例、咸阳市17例、铜川市8例、渭南市14例、延安市8例、榆林市3例、汉中市21例、安康市22例、商洛市7例、杨凌示范区1例，韩城市1例。全省现有疑似病例389例。全省新增密切接触者1027人，累计12013人，均集中医学观察。新增解除密切接触者897人，累计解除密切接触者6200人。\n",
      "患者1，男，81岁，现居西安市莲湖区，与1月29日确诊病例3有接触史。1月20日出现发烧、呕吐，当天到西安市第五医院就诊并住院。1月24日症状好转出院，2月4日症状加重，2月9日到西安市胸科医院隔离治疗。2月11日被诊断为新冠肺炎。目前在西安市胸科医院隔离治疗。\n",
      "患者2，男，64岁，现居西安市新城区,与2月7日确诊患者5有接触史。2月6日被隔离观察，2月7日出现症状，2月8日被转至唐都医院。2月11日被诊断为新冠肺炎。目前在唐都医院隔离治疗。\n",
      "患者3，女，62岁，现居西安市新城区，与2月7日确诊患者4为夫妻关系。2月4日出现症状，2月7日到西安市胸科医院隔离治疗。2月11日被诊断为新冠肺炎。目前在西安市胸科医院隔离治疗。\n",
      "患者4，男，72岁，现居西安市碑林区，暂未发现明确暴露史。2月6日出现症状，2月8日到碑林区柏树林社区卫生服务中心就诊，当天被转至西安市第四医院就诊。2月11日被诊断为新冠肺炎。目前在西安市胸科医院隔离治疗。\n",
      "患者5，男，26岁，现居西安市新城区，多彩商城商户，系2月2日确诊患者13的儿子。2月1日被隔离观察，2月3日出现症状，2月5日被转至东方医院就诊。2月11日被诊断为新冠肺炎。目前在陕西省传染病院（西安市第八医院）隔离治疗。\n",
      "患者6，女，66岁，现居西安市莲湖区，系2月1日确诊患者5的母亲，与2月7日确诊患者1为夫妻关系。1月30 日被隔离观察，2月8日出现症状，当天被转至西安市莲湖区大兴医院就诊，2月10日被转至陕西省传染病院（西安市第八医院）就诊。2月11日被诊断为新冠肺炎。目前在陕西省传染病院（西安市第八医院）隔离治疗。\n"
     ],
     "output_type": "stream"
    }
   ],
   "metadata": {
    "pycharm": {
     "is_executing": false,
     "name": "#%%\n"
    }
   },
   "execution_count": 1
  }
 ]
}