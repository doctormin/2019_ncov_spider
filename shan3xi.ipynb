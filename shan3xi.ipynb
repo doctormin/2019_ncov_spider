{
 "nbformat": 4,
 "nbformat_minor": 2,
 "metadata": {
  "language_info": {
   "name": "python",
   "codemirror_mode": {
    "name": "ipython",
    "version": 3
   },
   "version": "3.7.4-final"
  },
  "orig_nbformat": 2,
  "file_extension": ".py",
  "mimetype": "text/x-python",
  "name": "python",
  "npconvert_exporter": "python",
  "pygments_lexer": "ipython3",
  "version": 3,
  "kernelspec": {
   "name": "361c5ae9-67e8-493c-b15d-1c763400a7c3",
   "language": "python",
   "display_name": "'Python Interactive'"
  },
  "pycharm": {
   "stem_cell": {
    "cell_type": "raw",
    "source": [],
    "metadata": {
     "collapsed": false
    }
   }
  }
 },
 "cells": [
  {
   "source": [
    "#By Yimin Zhao\n",
    "import requests\n",
    "import re\n",
    "from selenium import webdriver\n",
    "\n",
    "shan3xi = 'http://sxwjw.shaanxi.gov.cn/col/col9/index.html'         #卫健委的url\n",
    "info_pattern = re.compile(r'陕西新增.*例新.*累计.*')  \n",
    "\n",
    "driver = webdriver.Chrome()\n",
    "driver.get(shan3xi)\n",
    "nodes = driver.find_elements_by_xpath('//*[@id=\"572\"]/div/li')\n",
    "for node in nodes:\n",
    "      title = node.find_element_by_xpath('a').text\n",
    "      print(title)\n",
    "      if info_pattern.match(title):\n",
    "        print(\"matched!\")\n",
    "        info_title = title\n",
    "        info_url = node.find_element_by_xpath('a').get_attribute('href')\n",
    "        break\n",
    "driver.get(info_url)\n",
    "info_content = driver.find_element_by_xpath('//*[@id=\"zoom\"]').text.strip()\n",
    "print(info_content)\n"
   ],
   "cell_type": "code",
   "outputs": [
    {
     "name": "stdout",
     "text": [
      "致全省广大医务工作者的一封信\n",
      "我省开展冬春季爱国卫生运动薄弱环节整治\n",
      "陕西新增5例新冠肺炎 确诊病例累计213例\n",
      "matched!\n",
      "截至2月10日10时，陕西新增5例新冠肺炎确诊病例，新增疑似病例88例。新增确诊病例中，西安市2例、咸阳市1例、渭南市1例、安康市1例。陕西累计报告新冠肺炎确诊病例213例（26例治愈出院），其中输入性病例111例，密切接触者90例，无明确接触史病例12例。累计确诊病例中，西安市98例、宝鸡市13例、咸阳市17例、铜川市8例、渭南市14例、延安市8例、榆林市3例、汉中市21例、安康市22例、商洛市7例、杨凌示范区1例，韩城市1例。全省现有疑似病例375例。全省新增密切接触者964人，累计10986人，均集中医学观察。新增解除密切接触者677人，累计解除密切接触者5303人。\n",
      "患者1，女，55岁，现居西安市碑林区，在西安市东门人人乐超市上班。1月26日出现症状，1月28日到西安市第四医院就诊，遵医嘱服药未见好转，1月30日症状加重，再次到西安市第四医院就诊，被诊断为新冠肺炎疑似病例，当天被转至陕西省传染病院（西安市第八医院）隔离治疗。2月10日被诊断为新冠肺炎。目前在陕西省传染病院（西安市第八医院）隔离治疗。\n",
      "患者2，女，70岁，现居西安市莲湖区，曾与2月8日确诊患者4有共同参加葬礼经历。1月25日出现症状，1月30日症状加重，2月1日、2月2日到莲湖区丰盛园社区卫生服务站就诊，自行服药未见好转。2月3日到陕西省康复医院就诊，2月4日被转至西安市胸科医院就诊。2月10日被诊断为新冠肺炎。目前在西安市胸科医院隔离治疗。\n",
      "患者3，男，66岁，现居咸阳市武功县，与2月2日确诊患者3为夫妻关系。1月31日被隔离观察，2月1日出现症状，当天被转至武功县医院就诊，2月9日被转至咸阳市中心医院东郊分院隔离治疗。2月10日被诊断为新冠肺炎。目前在咸阳市中心医院东郊分院隔离治疗。\n",
      "患者4，女，45岁，现居安康市紫阳县，与2月3日确诊患者3为夫妻关系。1月31日出现症状，2月2日被转至紫阳县人民医院就诊，2月2日至2月8日先后5次采样进行病毒核酸检测，检测结果分别为疑似阳性、疑似阳性、阴性、阴性、阳性。2月10日被诊断为新冠肺炎。目前在安康市中心医院隔离治疗。\n",
      "患者5，男，43岁，现居渭南市富平县，有武汉来陕人员接触史。1月27日出现症状，1月28日到富平县医院就诊，医生检查后嘱其回家继续观察。1月29日再次到富平县医院就诊，1月29日至1月31日居家静脉点滴和自行服药。2月2日症状加重，当天到富平县医院复查治疗，2月3日至2月4日居家静脉点滴。2月5日症状未见好转，再次到富平县医院就诊，当天被收治入院。2月10日被诊断为新冠肺炎，目前在富平县医院隔离治疗。\n"
     ],
     "output_type": "stream"
    }
   ],
   "metadata": {
    "pycharm": {
     "is_executing": false,
     "name": "#%%\n"
    }
   },
   "execution_count": 4
  }
 ]
}