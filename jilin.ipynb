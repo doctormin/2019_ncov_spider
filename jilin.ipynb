{
 "cells": [
  {
   "cell_type": "code",
   "execution_count": 6,
   "outputs": [
    {
     "name": "stdout",
     "text": [
      "retry\n",
      "retry\n",
      "http://wsjkw.jl.gov.cn/xwzx/xwfb/202002/t20200210_6829495.html\n"
     ],
     "output_type": "stream"
    }
   ],
   "source": [
    "import requests\n",
    "from bs4 import BeautifulSoup\n",
    "import urllib.request\n",
    "import xlsxwriter\n",
    "import time\n",
    "import re\n",
    "\n",
    "jilin = 'http://wsjkw.jl.gov.cn/xwzx/xwfb/index.html'         #卫健委的url\n",
    "info_pattern = re.compile(r'吉林省卫生健康委员会关于新型冠.*肺炎疫情情况通报')  \n",
    "\n",
    "#找到通报疫情的url\n",
    "def find_url(web_address):\n",
    "    #获取网页信息\n",
    "    while(1):\n",
    "        try:\n",
    "            headers = {\"user-agent\": \"Mizilla/5.0\"}\n",
    "            res = requests.get(web_address,timeout=(5, 10), headers = headers)\n",
    "            flag = 1\n",
    "            break\n",
    "        except:\n",
    "            print(\"retry\")\n",
    "            flag=0\n",
    "    res.encoding = 'utf-8'\n",
    "    \n",
    "    soup = BeautifulSoup(res.text, features = 'html.parser')      #结构化处理 \n",
    "    for element in soup.find_all(name='ul',attrs = {'class':'sub_news_list'}):\n",
    "        for info in element.find_all('a'):\n",
    "            info_title = info.get_text().strip()      #获取通报的标题\n",
    "            if(info_pattern.match(info_title)):\n",
    "                return(info.get('href'))\n",
    "           \n",
    "info_url = 'http://wsjkw.jl.gov.cn/xwzx/xwfb' + find_url(jilin)[1:]\n",
    "print(info_url)\n"
   ],
   "metadata": {
    "collapsed": false,
    "pycharm": {
     "name": "#%%\n",
     "is_executing": false
    }
   }
  },
  {
   "cell_type": "code",
   "execution_count": 7,
   "outputs": [
    {
     "name": "stdout",
     "text": [
      "begin\n",
      "\n",
      "　　2月9日0-24时，全省新增确诊病例2例（长春市2例），由疑似病例转为确诊病例1例，在密切接触者中主动开展核酸检测筛查出1例。新增出院患者7例（长春市5例，延边州2例）。\n",
      "　　截至2月9日24时，全省累计报告确诊病例80例，累计治愈出院12例（长春市6例，吉林市2例，延边州2例，松原市1例，公主岭市1例），死亡1例（四平市），现在院隔离治疗确诊病例67例。其中长春市33例，吉林市3例，延边州3例，四平市11例，通化市3例，白城市1例，辽源市6例，松原市1例，公主岭市5例，梅河口市1例。在院治疗确诊病例中，62例为普通病例，2例为重症病例（长春市1例，松原市1例），3例为危重症病例（长春市1例，白城市1例，公主岭市1例）。\n",
      "　　上述确诊病例的密切接触者2806人，已解除医学观察1732人，正在指定地点隔离或居家隔离医学观察1074人。累计在密切接触者中主动开展核酸检测筛查出感染者10例。\n",
      "　　2月9日0-24时，全省原有56例疑似病例中，转为确诊病例1例，排除疑似病例30例；新增疑似病例15例；现有疑似病例40例，已全部隔离治疗，目前正在进一步明确诊断。\n",
      "　　病例1，女，1942年出生。近期无外出旅居史。1月22日曾在百屹会馆洗澡，1月24日曾与家人在天下晓酒店（南湖大路店）大厅就餐。住址为长春市南关区东岭南街达顺小区。\n",
      "　　病例2，男，1968年出生。系2月9日吉林省通报的长春市参加居然之家年会的确诊病例父亲，有共同生活史。住址为长春市经开区首地首城。\n",
      "　　近期，我省确诊病例和疑似病例有逐渐增加的趋势，原输入性确诊病例的密切接触者发病增多，并呈现家庭聚集性。我省将进一步加大社区、村屯防控力度，对密切接触者严格落实隔离医学观察措施。提醒居家医学观察人员，务必落实自我隔离措施，避免感染亲人，防止家庭聚集性传播。\n",
      "　　提醒广大群众，如您是从疫情发生省份返回人员，或是与以上确诊病例同住一个小区有密切接触的人员，应主动到当地社区做好筛查登记，配合专业人员开展医学观察，一旦出现发热、咳嗽等急性呼吸道症状，请到当地定点医疗机构发热门诊就诊。\n",
      "\n",
      "finish\n"
     ],
     "output_type": "stream"
    }
   ],
   "source": [
    "def get_data(web_address):\n",
    "    #获取网页信息\n",
    "    while(1):\n",
    "        try:\n",
    "            headers = {\"user-agent\": \"Mizilla/5.0\"}\n",
    "            res = requests.get(web_address,timeout=(5, 10), headers = headers)\n",
    "            flag=1\n",
    "            break\n",
    "        except:\n",
    "            print(\"retry\")\n",
    "            flag=0\n",
    "    res.encoding = 'utf-8'\n",
    "    soup = BeautifulSoup(res.text, 'html.parser')      #结构化处理\n",
    "    for element in soup.find_all(name='div',attrs = {'class':'TRS_Editor'} ):\n",
    "        print(element.get_text())\n",
    "                    \n",
    "if __name__ == '__main__':\n",
    "    print('begin')\n",
    "    get_data(info_url)\n",
    "    print('finish')"
   ],
   "metadata": {
    "collapsed": false,
    "pycharm": {
     "name": "#%%\n",
     "is_executing": false
    }
   }
  },
  {
   "cell_type": "code",
   "execution_count": 7,
   "outputs": [],
   "source": [
    "\n"
   ],
   "metadata": {
    "collapsed": false,
    "pycharm": {
     "name": "#%%\n",
     "is_executing": false
    }
   }
  }
 ],
 "metadata": {
  "kernelspec": {
   "display_name": "'Python Interactive'",
   "language": "python",
   "name": "361c5ae9-67e8-493c-b15d-1c763400a7c3"
  },
  "language_info": {
   "codemirror_mode": {
    "name": "ipython",
    "version": 2
   },
   "file_extension": ".py",
   "mimetype": "text/x-python",
   "name": "python",
   "nbconvert_exporter": "python",
   "pygments_lexer": "ipython2",
   "version": "2.7.6"
  },
  "pycharm": {
   "stem_cell": {
    "cell_type": "raw",
    "source": [],
    "metadata": {
     "collapsed": false
    }
   }
  }
 },
 "nbformat": 4,
 "nbformat_minor": 0
}