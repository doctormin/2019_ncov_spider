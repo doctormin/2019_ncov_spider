{
 "cells": [
  {
   "cell_type": "code",
   "execution_count": 3,
   "outputs": [
    {
     "name": "stdout",
     "text": [
      "五方面部署，习近平落子“决胜之地”\n",
      "巴音朝鲁在省直机关工委指导疫情防控工作时强调 践行初心使命 体现责任担当 把机关党建成效转化为抗击疫情实际行动\n",
      "国务院应对疫情联防联控机制第七工作指导组在长春火车站等地指导疫情防控工作严而又严细而又细落实防控举措 齐心协力切断行走的传染源”\n",
      "习近平在北京调研指导新冠肺炎疫情防控工作\n",
      "国务院联防联控机制就疫情防控中加强基层社区疫情防控有关情况举行发布会\n",
      "集结湖北！国家卫生健康委建立省际对口支援湖北省除武汉以外地市新型冠状病毒肺炎防治工作机制\n",
      "习近平在北京市调研指导新冠肺炎疫情防控工作时强调以更坚定的信心更顽强的意志更果断的措施 坚决打赢疫情防控的人民战争总体战阻击战\n",
      "基层医疗卫生机构在疫情防控中发挥重要作用\n",
      "习近平总书记关切事丨铸成防疫“铁军”——基层防疫“硬核”故事\n",
      "李克强主持召开中央应对新冠肺炎疫情工作领导小组会议 部署进一步增加重点医疗防控物资生产供应 加强医务人员调配和药物研发等\n",
      "社区防控中如何提高服务精准性和科学性？【国务院联防联控机制权威发布系列问答】\n",
      "养老机构在疫情防控中采取哪些措施？【国务院联防联控机制权威发布系列问答】\n",
      "如何保障封闭社区的居民生活必需品的供应？【国务院联防联控机制权威发布系列问答】\n",
      "基层社区医疗卫生机构医务人员在社区的疫情防控中发挥什么作用？【国务院联防联控机制权威发布系列问答】\n",
      "举全国之力 集优质资源 坚决打赢疫情防治阻击战\n",
      "【疫情防控】临床治愈率多少？治愈后还会感染吗？金银潭医院院长张定宇回应了\n",
      "吉林省新冠肺炎疫情分布图（2020年2月11日公布）\n",
      "战地日记（100）丨愿我们离开时你能生机勃勃\n",
      "战地日记（98）丨我愿负重前行，换你岁月静好\n",
      "战地日记（99）丨我是答疑解惑小能手\n"
     ],
     "output_type": "stream"
    },
    {
     "traceback": [
      "\u001b[1;31m---------------------------------------------------------------------------\u001b[0m",
      "\u001b[1;31mTypeError\u001b[0m                                 Traceback (most recent call last)",
      "\u001b[1;32m<ipython-input-3-498df67004f0>\u001b[0m in \u001b[0;36m<module>\u001b[1;34m\u001b[0m\n\u001b[0;32m     29\u001b[0m                 \u001b[1;32mreturn\u001b[0m\u001b[1;33m(\u001b[0m\u001b[0minfo\u001b[0m\u001b[1;33m.\u001b[0m\u001b[0mget\u001b[0m\u001b[1;33m(\u001b[0m\u001b[1;34m'href'\u001b[0m\u001b[1;33m)\u001b[0m\u001b[1;33m)\u001b[0m\u001b[1;33m\u001b[0m\u001b[1;33m\u001b[0m\u001b[0m\n\u001b[0;32m     30\u001b[0m \u001b[1;33m\u001b[0m\u001b[0m\n\u001b[1;32m---> 31\u001b[1;33m \u001b[0minfo_url\u001b[0m \u001b[1;33m=\u001b[0m \u001b[1;34m'http://wsjkw.jl.gov.cn/xwzx/xwfb'\u001b[0m \u001b[1;33m+\u001b[0m \u001b[0mfind_url\u001b[0m\u001b[1;33m(\u001b[0m\u001b[0mjilin\u001b[0m\u001b[1;33m)\u001b[0m\u001b[1;33m[\u001b[0m\u001b[1;36m1\u001b[0m\u001b[1;33m:\u001b[0m\u001b[1;33m]\u001b[0m\u001b[1;33m\u001b[0m\u001b[1;33m\u001b[0m\u001b[0m\n\u001b[0m\u001b[0;32m     32\u001b[0m \u001b[0mprint\u001b[0m\u001b[1;33m(\u001b[0m\u001b[0minfo_url\u001b[0m\u001b[1;33m)\u001b[0m\u001b[1;33m\u001b[0m\u001b[1;33m\u001b[0m\u001b[0m\n\u001b[0;32m     33\u001b[0m \u001b[1;33m\u001b[0m\u001b[0m\n",
      "\u001b[1;31mTypeError\u001b[0m: 'NoneType' object is not subscriptable"
     ],
     "ename": "TypeError",
     "evalue": "'NoneType' object is not subscriptable",
     "output_type": "error"
    }
   ],
   "source": [
    "#22\n",
    "#By Yimin Zhao\n",
    "import requests\n",
    "from bs4 import BeautifulSoup\n",
    "import re\n",
    "jilin = 'http://wsjkw.jl.gov.cn/xwzx/xwfb/index.html'         #卫健委的url\n",
    "info_pattern = re.compile(r'吉林.*新.*疫情.*通报')  \n",
    "\n",
    "#找到通报疫情的url\n",
    "def find_url(web_address):\n",
    "    #获取网页信息\n",
    "    while(1):\n",
    "        try:\n",
    "            headers = {\"user-agent\": \"Mizilla/5.0\"}\n",
    "            res = requests.get(web_address,timeout=(5, 10), headers = headers)\n",
    "            flag = 1\n",
    "            break\n",
    "        except:\n",
    "            print(\"retry\")\n",
    "            flag=0\n",
    "    res.encoding = 'utf-8'\n",
    "    \n",
    "    soup = BeautifulSoup(res.text, features = 'html.parser')      #结构化处理 \n",
    "    for element in soup.find_all(name='ul',attrs = {'class':'sub_news_list'}):\n",
    "        for info in element.find_all('a'):\n",
    "            info_title = info.get_text().strip()  \n",
    "            print(info_title)#获取通报的标题\n",
    "            if(info_pattern.match(info_title)):\n",
    "                return(info.get('href'))\n",
    "           \n",
    "info_url = 'http://wsjkw.jl.gov.cn/xwzx/xwfb' + find_url(jilin)[1:]\n",
    "print(info_url)\n"
   ],
   "metadata": {
    "collapsed": false,
    "pycharm": {
     "name": "#%%\n",
     "is_executing": false
    }
   }
  },
  {
   "cell_type": "code",
   "execution_count": null,
   "outputs": [],
   "source": [
    "def get_data(web_address):\n",
    "    #获取网页信息\n",
    "    while(1):\n",
    "        try:\n",
    "            headers = {\"user-agent\": \"Mizilla/5.0\"}\n",
    "            res = requests.get(web_address,timeout=(5, 10), headers = headers)\n",
    "            flag=1\n",
    "            break\n",
    "        except:\n",
    "            print(\"retry\")\n",
    "            flag=0\n",
    "    res.encoding = 'utf-8'\n",
    "    soup = BeautifulSoup(res.text, 'html.parser')      #结构化处理\n",
    "    for element in soup.find_all(name='div',attrs = {'class':'TRS_Editor'} ):\n",
    "        print(element.get_text())\n",
    "        f = open(r\"D:\\IIoT\\20年寒假-疫情爬虫\\Data\\22.txt\", mode = 'w', encoding = \"utf-8\")\n",
    "        f.write(element.get_text())\n",
    "        f.close() \n",
    "                    \n",
    "if __name__ == '__main__':\n",
    "    print('begin')\n",
    "    get_data(info_url)\n",
    "    print('finish')"
   ],
   "metadata": {
    "collapsed": false,
    "pycharm": {
     "name": "#%%\n",
     "is_executing": false
    }
   }
  },
  {
   "cell_type": "code",
   "execution_count": null,
   "outputs": [],
   "source": [
    "\n"
   ],
   "metadata": {
    "collapsed": false,
    "pycharm": {
     "name": "#%%\n",
     "is_executing": false
    }
   }
  }
 ],
 "metadata": {
  "kernelspec": {
   "display_name": "'Python Interactive'",
   "language": "python",
   "name": "361c5ae9-67e8-493c-b15d-1c763400a7c3"
  },
  "language_info": {
   "codemirror_mode": {
    "name": "ipython",
    "version": 2
   },
   "file_extension": ".py",
   "mimetype": "text/x-python",
   "name": "python",
   "nbconvert_exporter": "python",
   "pygments_lexer": "ipython2",
   "version": "2.7.6"
  },
  "pycharm": {
   "stem_cell": {
    "cell_type": "raw",
    "source": [],
    "metadata": {
     "collapsed": false
    }
   }
  }
 },
 "nbformat": 4,
 "nbformat_minor": 0
}