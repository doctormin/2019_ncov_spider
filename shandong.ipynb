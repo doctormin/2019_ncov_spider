{
 "nbformat": 4,
 "nbformat_minor": 2,
 "metadata": {
  "language_info": {
   "name": "python",
   "codemirror_mode": {
    "name": "ipython",
    "version": 3
   },
   "version": "3.7.4-final"
  },
  "orig_nbformat": 2,
  "file_extension": ".py",
  "mimetype": "text/x-python",
  "name": "python",
  "npconvert_exporter": "python",
  "pygments_lexer": "ipython3",
  "version": 3,
  "kernelspec": {
   "name": "361c5ae9-67e8-493c-b15d-1c763400a7c3",
   "language": "python",
   "display_name": "'Python Interactive'"
  },
  "pycharm": {
   "stem_cell": {
    "cell_type": "raw",
    "source": [],
    "metadata": {
     "collapsed": false
    }
   }
  }
 },
 "cells": [
  {
   "cell_type": "code",
   "execution_count": 1,
   "metadata": {
    "pycharm": {
     "is_executing": false
    }
   },
   "outputs": [
    {
     "name": "stdout",
     "text": [
      "retry\n",
      "'http://wsjkw.shandong.gov.cn/ztzl/rdzt/qlzhfkgz/tzgg/202002/t20200211_2519379.html'\n"
     ],
     "output_type": "stream"
    }
   ],
   "source": [
    "#37\n",
    "#By Yimin Zhao\n",
    "import requests\n",
    "from bs4 import BeautifulSoup\n",
    "import re\n",
    "\n",
    "shandong = 'http://wsjkw.shandong.gov.cn/ztzl/rdzt/qlzhfkgz/tzgg/'    #卫健委的url\n",
    "info_pattern = re.compile(r'.*山东.*新.*冠.*疫情.*情况')  \n",
    "#找到通报疫情的url\n",
    "def find_url(web_address):\n",
    "    #获取网页信息\n",
    "    while(1):\n",
    "        try:\n",
    "            res = requests.get(web_address,timeout=(5, 10))\n",
    "            flag = 1\n",
    "            break\n",
    "        except:\n",
    "            print(\"retry\")\n",
    "            flag=0\n",
    "    res.encoding = 'utf-8'\n",
    "    \n",
    "    soup = BeautifulSoup(res.text, features = 'html.parser')      #结构化处理 \n",
    "    \n",
    "    for element in soup.find_all(name='ul',attrs = {'class':'news-txtd'}):\n",
    "        for info in element.find_all('a'):\n",
    "            info_title = info.get_text()      #获取通报的标题\n",
    "            if(info_pattern.match(info_title)):\n",
    "                return(info.get('href'))\n",
    "        \n",
    "\n",
    "\n",
    "info_url = 'http://wsjkw.shandong.gov.cn/ztzl/rdzt/qlzhfkgz/tzgg' + find_url(shandong)[1:]\n",
    "print(repr(info_url))\n"
   ]
  },
  {
   "cell_type": "code",
   "execution_count": 2,
   "metadata": {
    "pycharm": {
     "is_executing": false
    }
   },
   "outputs": [
    {
     "name": "stdout",
     "text": [
      "begin\n",
      "retry\n",
      "\n",
      "2020年2月11日0-12时，山东省报告新型冠状病毒肺炎新增确诊病例1例，累计确诊病例487例(含重症病例17例，危重症病例9例，治愈出院75例，死亡病例1例);新增疑似病例16例，现有疑似病例76例。截至目前，追踪到密切接触者13300人，已解除医学观察9735人，诊断为疑似或确诊242例，尚有3323人正在接受医学观察。详见下表(单位:例):备注:根据要求，按病例确诊时医院所在县区统计。\n",
      "\n",
      "\n",
      "\n",
      "\n",
      "\n",
      "\n",
      "\n",
      " \n",
      "\n",
      "\n",
      "\n",
      "\n",
      "finish\n"
     ],
     "output_type": "stream"
    }
   ],
   "source": [
    "def get_data(web_address):\n",
    "    #获取网页信息\n",
    "    while(1):\n",
    "        try:\n",
    "            res = requests.get(web_address,timeout=2)\n",
    "            flag=1\n",
    "            break\n",
    "        except:\n",
    "            print(\"retry\")\n",
    "            flag=0\n",
    "    res.encoding = 'utf-8'\n",
    "    soup = BeautifulSoup(res.text, 'html.parser')      #结构化处理\n",
    "    for element in soup.find_all(name='div',attrs = {'class':'text'} ):\n",
    "        print(element.get_text())\n",
    "        f = open(r\"D:\\IIoT\\20年寒假-疫情爬虫\\Data\\37.txt\", mode = 'w', encoding = \"utf-8\")\n",
    "        f.write(element.get_text())\n",
    "        f.close() \n",
    "        \n",
    "                    \n",
    "if __name__ == '__main__':\n",
    "    print('begin')\n",
    "    get_data(info_url)\n",
    "    print('finish')"
   ]
  },
  {
   "cell_type": "code",
   "execution_count": 2,
   "metadata": {
    "pycharm": {
     "is_executing": false
    }
   },
   "outputs": [],
   "source": []
  }
 ]
}