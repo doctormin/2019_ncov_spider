{
 "nbformat": 4,
 "nbformat_minor": 2,
 "metadata": {
  "language_info": {
   "name": "python",
   "codemirror_mode": {
    "name": "ipython",
    "version": 3
   },
   "version": "3.7.4-final"
  },
  "orig_nbformat": 2,
  "file_extension": ".py",
  "mimetype": "text/x-python",
  "name": "python",
  "npconvert_exporter": "python",
  "pygments_lexer": "ipython3",
  "version": 3,
  "kernelspec": {
   "name": "python37464bit0d4557ec91c049559ae1861a5476b44a",
   "language": "python",
   "display_name": "Python 3.7.4 64-bit"
  },
  "pycharm": {
   "stem_cell": {
    "cell_type": "raw",
    "source": [],
    "metadata": {
     "collapsed": false
    }
   }
  }
 },
 "cells": [
  {
   "cell_type": "code",
   "execution_count": 3,
   "metadata": {
    "pycharm": {
     "is_executing": false
    }
   },
   "outputs": [
    {
     "name": "stdout",
     "text": [
      "http://hc.jiangxi.gov.cn/doc/2020/02/10/138516.shtml\n"
     ],
     "output_type": "stream"
    }
   ],
   "source": [
    "#36\n",
    "#By Yimin Zhao\n",
    "import requests\n",
    "from bs4 import BeautifulSoup\n",
    "import re\n",
    "\n",
    "jiangxi = 'http://hc.jiangxi.gov.cn/xwzx/wjxw/'         #卫健委的url\n",
    "info_pattern = re.compile(r'.*江西省新.*冠.*肺炎.*疫情.*情况')  \n",
    "\n",
    "\n",
    "#找到通报疫情的url\n",
    "def find_url(web_address):\n",
    "    #获取网页信息\n",
    "    while(1):\n",
    "        try:\n",
    "            res = requests.get(web_address,timeout=(5, 10))\n",
    "            flag = 1\n",
    "            break\n",
    "        except:\n",
    "            print(\"retry\")\n",
    "            flag=0\n",
    "    res.encoding = 'utf-8'\n",
    "    \n",
    "    soup = BeautifulSoup(res.text, features = 'html.parser')      #结构化处理 \n",
    "\n",
    "    #print(soup.find_all(name='ul',attrs={'class':'List_list'}))\n",
    "    for element in soup.find_all(name='ul',attrs = {'class':'List_list'}):\n",
    "        for info in element.find_all('a'):\n",
    "            info_title = info.get_text()      #获取通报的标题\n",
    "            if(info_pattern.match(info_title)):\n",
    "                return(info.get('href'))\n",
    "        \n",
    "\n",
    "        \n",
    "info_url = 'http://hc.jiangxi.gov.cn'+find_url(jiangxi)\n",
    "print(info_url)\n"
   ]
  },
  {
   "cell_type": "code",
   "execution_count": 2,
   "metadata": {
    "pycharm": {
     "is_executing": false
    }
   },
   "outputs": [
    {
     "name": "stdout",
     "text": [
      "begin\n",
      "\n",
      "\n",
      "　　2020年2月9日0-24时，江西省报告新型冠状病毒肺炎新增确诊病例32例，新增死亡病例1例，新增治愈出院病例30例。\n",
      "　　新增确诊病例中，南昌市11例、新余市5例、上饶市5例、宜春市4例、赣州市2例、九江市1例、萍乡市1例、鹰潭市1例、吉安市1例、抚州市1例。新增治愈出院病例中，南昌市8例、新余市5例、上饶市5例、赣州市4例、宜春市4例、抚州市2例、九江市1例、吉安市1例。新增死亡病例为赣州市1例（林某某，女，79岁）。\n",
      "　　截至2月9日24时，江西省累计报告新型冠状病毒肺炎确诊病例771例（核减宜春市1例），其中重症病例57例，治愈出院病例102例，死亡病例1例。\n",
      "　　确诊病例中，南昌市189例（1例划归赣江新区）、新余市105例、上饶市103例、九江市101例、宜春市77例、赣州市71例、抚州市64例、萍乡市25例、吉安市18例、鹰潭市12例、景德镇市5例、赣江新区1例。治愈出院病例中，南昌市35例、新余市18例、上饶市12例、宜春市10例、抚州市9例、九江市7例、赣州市6例、吉安市2例、景德镇市1例、萍乡市1例、鹰潭市1例。\n",
      "　　目前追踪到密切接触者19427人，解除医学观察9735人，尚有9692人正在接受医学观察。\n",
      " \n",
      " \n",
      "　　江西省卫生健康委员会\n",
      "　　2020年2月10日\n",
      " \n",
      "\n",
      "finish\n"
     ],
     "output_type": "stream"
    }
   ],
   "source": [
    "def get_data(web_address):\n",
    "    #获取网页信息\n",
    "    while(1):\n",
    "        try:\n",
    "            res = requests.get(web_address,timeout=2)\n",
    "            flag=1\n",
    "            break\n",
    "        except:\n",
    "            print(\"retry\")\n",
    "            flag=0\n",
    "    res.encoding = 'utf-8'\n",
    "    soup = BeautifulSoup(res.text, 'html.parser')      #结构化处理\n",
    "    for element in soup.find_all(name='div',attrs = {'id':'Zoom'}):\n",
    "        print(element.get_text())\n",
    "                    \n",
    "if __name__ == '__main__':\n",
    "    print('begin')\n",
    "    get_data(info_url)\n",
    "    print('finish')\n",
    "    "
   ]
  },
  {
   "cell_type": "code",
   "execution_count": 2,
   "metadata": {
    "pycharm": {
     "is_executing": false
    }
   },
   "outputs": [],
   "source": []
  }
 ]
}