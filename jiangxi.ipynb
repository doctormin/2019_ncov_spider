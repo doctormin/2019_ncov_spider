{
 "nbformat": 4,
 "nbformat_minor": 2,
 "metadata": {
  "language_info": {
   "name": "python",
   "codemirror_mode": {
    "name": "ipython",
    "version": 3
   },
   "version": "3.7.4-final"
  },
  "orig_nbformat": 2,
  "file_extension": ".py",
  "mimetype": "text/x-python",
  "name": "python",
  "npconvert_exporter": "python",
  "pygments_lexer": "ipython3",
  "version": 3,
  "kernelspec": {
   "name": "python37464bit0d4557ec91c049559ae1861a5476b44a",
   "language": "python",
   "display_name": "Python 3.7.4 64-bit"
  },
  "pycharm": {
   "stem_cell": {
    "cell_type": "raw",
    "source": [],
    "metadata": {
     "collapsed": false
    }
   }
  }
 },
 "cells": [
  {
   "cell_type": "code",
   "execution_count": 10,
   "metadata": {},
   "outputs": [
    {
     "name": "stdout",
     "output_type": "stream",
     "text": "[<ul class=\"List_list\">\n<li>\n<span class=\"fr\">\n                      [2020-02-08] \n                    </span>\n                    ·<a href=\"/doc/2020/02/08/138433.shtml\" target=\"_blank\" title=\"2020年2月7日江西省新型冠状病毒感染的肺炎疫情情况\">2020年2月7日江西省新型冠状病毒感染的肺炎疫情情况</a>\n</li>\n</ul>, <ul class=\"List_list\">\n<li>\n<span class=\"fr\">\n                      [2020-02-07] \n                    </span>\n                    ·<a href=\"/doc/2020/02/07/138435.shtml\" target=\"_blank\" title=\"我省援助湖北随州医疗队出发\">我省援助湖北随州医疗队出发</a>\n</li>\n</ul>, <ul class=\"List_list\">\n<li>\n<span class=\"fr\">\n                      [2020-02-07] \n                    </span>\n                    ·<a href=\"/doc/2020/02/07/138280.shtml\" target=\"_blank\" title=\"2020年2月6日江西省新型冠状病毒感染的肺炎疫情情况\">2020年2月6日江西省新型冠状病毒感染的肺炎疫情情况</a>\n</li>\n</ul>, <ul class=\"List_list\">\n<li>\n<span class=\"fr\">\n                      [2020-02-07] \n                    </span>\n                    ·<a href=\"/doc/2020/02/07/138349.shtml\" target=\"_blank\" title=\"【江西日报】“最美逆行者”筑起一道“红色防线”\">【江西日报】“最美逆行者”筑起一道“红色防线”</a>\n</li>\n</ul>, <ul class=\"List_list\">\n<li>\n<span class=\"fr\">\n                      [2020-02-06] \n                    </span>\n                    ·<a href=\"/doc/2020/02/06/138230.shtml\" target=\"_blank\" title=\"关于进一步强化疫情防控十条措施的公告\">关于进一步强化疫情防控十条措施的公告</a>\n</li>\n</ul>, <ul class=\"List_list\">\n<li>\n<span class=\"fr\">\n                      [2020-02-06] \n                    </span>\n                    ·<a href=\"/doc/2020/02/06/138242.shtml\" target=\"_blank\" title=\"【人民日报】江西新余：乡镇医护人员挑大梁\">【人民日报】江西新余：乡镇医护人员挑大梁</a>\n</li>\n</ul>, <ul class=\"List_list\">\n<li>\n<span class=\"fr\">\n                      [2020-02-06] \n                    </span>\n                    ·<a href=\"/doc/2020/02/06/138210.shtml\" target=\"_blank\" title=\"在打赢疫情防控阻击战中当先锋作表率\">在打赢疫情防控阻击战中当先锋作表率</a>\n</li>\n</ul>, <ul class=\"List_list\">\n<li>\n<span class=\"fr\">\n                      [2020-02-06] \n                    </span>\n                    ·<a href=\"/doc/2020/02/06/138208.shtml\" target=\"_blank\" title=\"2020年2月5日江西省新型冠状病毒感染的肺炎疫情情况\">2020年2月5日江西省新型冠状病毒感染的肺炎疫情情况</a>\n</li>\n</ul>, <ul class=\"List_list\">\n<li>\n<span class=\"fr\">\n                      [2020-02-05] \n                    </span>\n                    ·<a href=\"/doc/2020/02/05/138241.shtml\" target=\"_blank\" title=\"【新华社】战“疫”日记 | 致逆行者：后方的牵挂\">【新华社】战“疫”日记 | 致逆行者：后方的牵挂</a>\n</li>\n</ul>, <ul class=\"List_list\">\n<li>\n<span class=\"fr\">\n                      [2020-02-05] \n                    </span>\n                    ·<a href=\"/doc/2020/02/05/138190.shtml\" target=\"_blank\" title=\"王水平看望慰问确诊患者和一线医务人员\">王水平看望慰问确诊患者和一线医务人员</a>\n</li>\n</ul>, <ul class=\"List_list\">\n<li>\n<span class=\"fr\">\n                      [2020-02-05] \n                    </span>\n                    ·<a href=\"/doc/2020/02/05/138240.shtml\" target=\"_blank\" title=\"【新华社】全民阻击丨百米之内，百里之外\">【新华社】全民阻击丨百米之内，百里之外</a>\n</li>\n</ul>, <ul class=\"List_list\">\n<li>\n<span class=\"fr\">\n                      [2020-02-05] \n                    </span>\n                    ·<a href=\"/doc/2020/02/05/138126.shtml\" target=\"_blank\" title=\"2020年2月4日江西省新型冠状病毒感染的肺炎疫情情况\">2020年2月4日江西省新型冠状病毒感染的肺炎疫情情况</a>\n</li>\n</ul>, <ul class=\"List_list\">\n<li>\n<span class=\"fr\">\n                      [2020-02-04] \n                    </span>\n                    ·<a href=\"/doc/2020/02/04/138206.shtml\" target=\"_blank\" title=\"江西省新型冠状病毒感染的肺炎疫情防控应急指挥部令第11号\">江西省新型冠状病毒感染的肺炎疫情防控应急指挥部令第11号</a>\n</li>\n</ul>, <ul class=\"List_list\">\n<li>\n<span class=\"fr\">\n                      [2020-02-04] \n                    </span>\n                    ·<a href=\"/doc/2020/02/04/138193.shtml\" target=\"_blank\" title=\"江西援助武汉医疗护理队出发\">江西援助武汉医疗护理队出发</a>\n</li>\n</ul>, <ul class=\"List_list\">\n<li>\n<span class=\"fr\">\n                      [2020-02-04] \n                    </span>\n                    ·<a href=\"/doc/2020/02/04/138180.shtml\" target=\"_blank\" title=\"曾传美调研南大一附院疫情防控和救治工作\">曾传美调研南大一附院疫情防控和救治工作</a>\n</li>\n</ul>, <ul class=\"List_list\">\n<li>\n<span class=\"fr\">\n                      [2020-02-04] \n                    </span>\n                    ·<a href=\"/doc/2020/02/04/138072.shtml\" target=\"_blank\" title=\"2020年2月3日江西省新型冠状病毒感染的肺炎疫情情况\">2020年2月3日江西省新型冠状病毒感染的肺炎疫情情况</a>\n</li>\n</ul>, <ul class=\"List_list\">\n<li>\n<span class=\"fr\">\n                      [2020-02-03] \n                    </span>\n                    ·<a href=\"/doc/2020/02/03/138244.shtml\" target=\"_blank\" title=\"【新华社】战“疫”日记\">【新华社】战“疫”日记</a>\n</li>\n</ul>, <ul class=\"List_list\">\n<li>\n<span class=\"fr\">\n                      [2020-02-03] \n                    </span>\n                    ·<a href=\"/doc/2020/02/03/138055.shtml\" target=\"_blank\" title=\"江西省新型冠状病毒感染的肺炎疫情防控应急指挥部令第10号\">江西省新型冠状病毒感染的肺炎疫情防控应急指挥部令第10号</a>\n</li>\n</ul>, <ul class=\"List_list\">\n<li>\n<span class=\"fr\">\n                      [2020-02-03] \n                    </span>\n                    ·<a href=\"/doc/2020/02/03/138056.shtml\" target=\"_blank\" title=\"防控处于决战关键时刻不能掉以轻心\">防控处于决战关键时刻不能掉以轻心</a>\n</li>\n</ul>, <ul class=\"List_list\">\n<li>\n<span class=\"fr\">\n                      [2020-02-03] \n                    </span>\n                    ·<a href=\"/doc/2020/02/03/138004.shtml\" target=\"_blank\" title=\"2020年2月2日江西省新型冠状病毒感染的肺炎疫情情况\">2020年2月2日江西省新型冠状病毒感染的肺炎疫情情况</a>\n</li>\n</ul>]\nhttp://hc.jiangxi.gov.cn/doc/2020/02/08/138433.shtml\n"
    }
   ],
   "source": [
    "import requests\n",
    "from bs4 import BeautifulSoup\n",
    "import urllib.request\n",
    "import xlsxwriter\n",
    "import time\n",
    "import re\n",
    "\n",
    "jiangxi = 'http://hc.jiangxi.gov.cn/xwzx/wjxw/'         #卫健委的url\n",
    "info_pattern = re.compile(r'2020年.月.*日江西省新型冠状病毒感染的肺炎疫情情况')  \n",
    "\n",
    "\n",
    "#找到通报疫情的url\n",
    "def find_url(web_address):\n",
    "    #获取网页信息\n",
    "    while(1):\n",
    "        try:\n",
    "            res = requests.get(web_address,timeout=(5, 10))\n",
    "            flag = 1\n",
    "            break\n",
    "        except:\n",
    "            print(\"retry\")\n",
    "            flag=0\n",
    "    res.encoding = 'utf-8'\n",
    "    \n",
    "    soup = BeautifulSoup(res.text, features = 'html.parser')      #结构化处理 \n",
    "\n",
    "    print(soup.find_all(name='ul',attrs={'class':'List_list'}))\n",
    "    for element in soup.find_all(name='ul',attrs = {'class':'List_list'}):\n",
    "        for info in element.find_all('a'):\n",
    "            info_title = info.get_text()      #获取通报的标题\n",
    "            if(info_pattern.match(info_title)):\n",
    "                return(info.get('href'))\n",
    "        \n",
    "\n",
    "        \n",
    "info_url = 'http://hc.jiangxi.gov.cn'+find_url(jiangxi)\n",
    "print(info_url)\n"
   ]
  },
  {
   "cell_type": "code",
   "execution_count": 6,
   "metadata": {},
   "outputs": [
    {
     "name": "stdout",
     "output_type": "stream",
     "text": "begin\nretry\nretry\nretry\n\n\n　　2020年2月7日0-24时，江西省报告新型冠状病毒感染的肺炎新增确诊病例37例，新增治愈出院病例10例。\n　　新增确诊病例中，新余市8例、南昌市6例、上饶市6例、赣州市5例、宜春市5例、抚州市3例、九江市2例、鹰潭市1例、吉安市1例。新增治愈出院病例中，南昌市6例、新余市3例、宜春市1例。\n　　截至2月7日24时，江西省累计报告新型冠状病毒感染的肺炎确诊病例698例，其中重症病例61例，治愈出院病例55例。\n　　确诊病例中，南昌市168例、九江市97例、新余市95例、上饶市92例、宜春市67例、赣州市64例、抚州市59例、萍乡市24例、吉安市17例、鹰潭市11例、景德镇市4例。治愈出院病例中，南昌市20例、新余市8例、抚州市7例、宜春市6例、上饶市5例、九江市4例、赣州市2例、景德镇市1例、萍乡市1例、吉安市1例。\n　　目前追踪到密切接触者17856人，解除医学观察6783人，尚有11073人正在接受医学观察。    \n \n                            \n　　江西省卫生健康委员会\n　　2020年2月8日\n \n\nfinish\n"
    }
   ],
   "source": [
    "def get_data(web_address):\n",
    "    #获取网页信息\n",
    "    while(1):\n",
    "        try:\n",
    "            res = requests.get(web_address,timeout=2)\n",
    "            flag=1\n",
    "            break\n",
    "        except:\n",
    "            print(\"retry\")\n",
    "            flag=0\n",
    "    res.encoding = 'utf-8'\n",
    "    soup = BeautifulSoup(res.text, 'html.parser')      #结构化处理\n",
    "    for element in soup.find_all(name='div',attrs = {'id':'Zoom'}):\n",
    "        print(element.get_text())\n",
    "                    \n",
    "if __name__ == '__main__':\n",
    "    print('begin')\n",
    "    get_data(info_url)\n",
    "    print('finish')\n",
    "    "
   ]
  },
  {
   "cell_type": "code",
   "execution_count": null,
   "metadata": {},
   "outputs": [],
   "source": []
  }
 ]
}