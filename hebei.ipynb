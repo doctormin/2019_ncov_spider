{
 "cells": [
  {
   "cell_type": "code",
   "execution_count": 6,
   "metadata": {},
   "outputs": [
    {
     "name": "stdout",
     "output_type": "stream",
     "text": "retry\nhttp://wsjkw.hebei.gov.cn/index.do?id=397504&templet=content&cid=14\n"
    }
   ],
   "source": [
    "import requests\n",
    "from bs4 import BeautifulSoup\n",
    "import urllib.request\n",
    "import xlsxwriter\n",
    "import time\n",
    "import re\n",
    "\n",
    "heilongjiang = 'http://wsjkw.hebei.gov.cn/index.do?templet=new_list&cid=14&page=1'         #卫健委的url\n",
    "info_pattern = re.compile(r'\\n.*河北省.*新型冠状病毒.*疫情.*情况.*')  \n",
    "\n",
    "#找到通报疫情的url\n",
    "def find_url(web_address):\n",
    "    #获取网页信息\n",
    "    while(1):\n",
    "        try:\n",
    "            res = requests.get(web_address,timeout=(5, 10))\n",
    "            flag = 1\n",
    "            break\n",
    "        except:\n",
    "            print(\"retry\")\n",
    "            flag=0\n",
    "    res.encoding = 'utf-8'\n",
    "    \n",
    "    soup = BeautifulSoup(res.text, features = 'html.parser')      #结构化处理 \n",
    "    \n",
    "    for element in soup.find_all(name='td',attrs = {'class':'sy_new_list'}):\n",
    "        for info in element.find_all('a'):\n",
    "            info_title = info.get_text()      #获取通报的标题\n",
    "            #print(repr(info_title))\n",
    "            if(info_pattern.match(info_title)):\n",
    "                return(info.get('href'))\n",
    "                \n",
    "info_url = 'http://wsjkw.hebei.gov.cn/' + find_url(heilongjiang)\n",
    "print(info_url)"
   ]
  },
  {
   "cell_type": "code",
   "execution_count": 7,
   "metadata": {},
   "outputs": [
    {
     "name": "stdout",
     "output_type": "stream",
     "text": "begin\n\n　　2020年2月7日0—24时，河北省报告新型冠状病毒感染的肺炎新增确诊病例24例，其中，廊坊市5例、沧州市5例、唐山市4例、邯郸市4例、秦皇岛市2例、邢台市2例、承德市1例、张家口市1例。新增治愈出院病例9例，其中，保定市4例、唐山市2例、沧州市2例、邢台市1例。新增疑似病例36例，其中，唐山市7例、秦皇岛市6例、邢台市6例、张家口市5例、保定市5例、沧州市4例、定州市2例、石家庄市1例。　　截至2月7日24时，河北省累计报告确诊病例195例，其中死亡1例，现有重症病例16例，累计治愈出院25例。确诊病例中，沧州市28例、邯郸市26例、石家庄市24例、唐山市23例、邢台市21例、廊坊市20例、保定市18例、张家口市14例、承德市7例、秦皇岛市7例、衡水市7例；死亡病例中，沧州市1例；重症病例中，张家口市3例、沧州市3例、邢台市3例、石家庄市2例、唐山市2例、保定市1例、邯郸市1例、衡水市1例；出院病例中，保定市8例、廊坊市4例、沧州市4例、石家庄市3例、唐山市2例、邯郸市2例、张家口市1例、邢台市1例。现有疑似病例81例。　　目前累计追踪到密切接触者6720人，当日解除隔离医学观察657人，现有3423人正在接受隔离医学观察。                                                                                                      河北省卫生健康委员会                                                                                                           2020年2月8日\n\nfinish\n"
    }
   ],
   "source": [
    "def get_data(web_address):\n",
    "    #获取网页信息\n",
    "    while(1):\n",
    "        try:\n",
    "            res = requests.get(web_address,timeout=2)\n",
    "            flag=1\n",
    "            break\n",
    "        except:\n",
    "            print(\"retry\")\n",
    "            flag=0\n",
    "    res.encoding = 'utf-8'\n",
    "    soup = BeautifulSoup(res.text, 'html.parser')      #结构化处理\n",
    "    for element in soup.find_all(name='div',attrs = {'class':'con_wz'} ):\n",
    "        print(element.get_text())\n",
    "                    \n",
    "if __name__ == '__main__':\n",
    "    print('begin')\n",
    "    get_data(info_url)\n",
    "    print('finish')\n"
   ]
  },
  {
   "cell_type": "code",
   "execution_count": null,
   "metadata": {},
   "outputs": [],
   "source": []
  }
 ],
 "metadata": {
  "kernelspec": {
   "display_name": "Python 3.7.4 64-bit",
   "language": "${KERNEL_SPEC_LANGUAGE}",
   "name": "python37464bit0d4557ec91c049559ae1861a5476b44a"
  },
  "language_info": {
   "codemirror_mode": {
    "name": "ipython",
    "version": 2
   },
   "file_extension": ".py",
   "mimetype": "text/x-python",
   "name": "python",
   "nbconvert_exporter": "python",
   "pygments_lexer": "ipython2",
   "version": "3.7.4-final"
  },
  "pycharm": {
   "stem_cell": {
    "cell_type": "raw",
    "source": [],
    "metadata": {
     "collapsed": false
    }
   }
  }
 },
 "nbformat": 4,
 "nbformat_minor": 0
}