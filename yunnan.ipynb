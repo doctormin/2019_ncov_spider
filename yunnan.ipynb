{
 "cells": [
  {
   "cell_type": "code",
   "execution_count": 1,
   "metadata": {},
   "outputs": [
    {
     "name": "stdout",
     "output_type": "stream",
     "text": "retry\nhttp://ynswsjkw.yn.gov.cn/wjwWebsite/web/doc/UU158114649991807779\n"
    }
   ],
   "source": [
    "import requests\n",
    "from bs4 import BeautifulSoup\n",
    "import urllib.request\n",
    "import xlsxwriter\n",
    "import time\n",
    "import re\n",
    "\n",
    "yunnan = 'http://ynswsjkw.yn.gov.cn/wjwWebsite/web/col?id=UU157976428326282067&pId=UU145102906505319731&cn=xxgzbd&pcn=ztlm&pid=UU145102906505319731&page=1'         #卫健委的url\n",
    "info_pattern = re.compile(r'云南省新型冠状病毒感染的肺炎疫情情况')  \n",
    "\n",
    "\n",
    "#找到通报疫情的url\n",
    "def find_url(web_address):\n",
    "    #获取网页信息\n",
    "    while(1):\n",
    "        try:\n",
    "            res = requests.get(web_address,timeout=(5, 10))\n",
    "            flag = 1\n",
    "            break\n",
    "        except:\n",
    "            print(\"retry\")\n",
    "            flag=0\n",
    "    res.encoding = 'utf-8'\n",
    "    \n",
    "    soup = BeautifulSoup(res.text, features = 'html.parser')      #结构化处理 \n",
    "    \n",
    "    for element in soup.find_all(name='div',attrs = {'class':'theSimilar'}):\n",
    "        for info in element.find_all('a'):\n",
    "            info_title = info.get_text()      #获取通报的标题\n",
    "            if(info_pattern.match(info_title)):\n",
    "                return(info.get('href'))\n",
    "                \n",
    "info_url = 'http://ynswsjkw.yn.gov.cn' + find_url(yunnan)\n",
    "print(info_url)\n"
   ]
  },
  {
   "cell_type": "code",
   "execution_count": 3,
   "metadata": {},
   "outputs": [
    {
     "name": "stdout",
     "output_type": "stream",
     "text": "begin\n\n2月8日0时至12时，云南省报告新型冠状病毒感染肺炎新增病例为零。全省累计报告确诊病例138例，除治愈出院者外，现均在定点医院接受隔离治疗。现有危重3例，重症14例，治愈出院17例，疑似病例138例，密切接触者医学观察2997人，无死亡病例。确诊病例中，昆明市41例、西双版纳州15例、玉溪市14例、曲靖市11例、大理州11例、昭通市10例、保山市9例、丽江市7例、红河州5例、德宏州5例、楚雄州4例、普洱市4例、文山州1例、临沧市1例。云南省卫生健康委特别提醒：疫情防控处于最关键时期，特别需要您的配合：戴口罩、勤洗手、少出门、常通风、不聚会。我们万众一心，必将战胜疫情。祝您元宵佳节快乐！以下防控疫情营养膳食指导供您参考：（一）食物多样，谷类为主。每天的膳食应有谷薯类、蔬菜水果类、畜禽鱼蛋奶类、大豆坚果类等食物，注意选择全谷类、杂豆类和薯类。（二）多吃蔬果、奶类、大豆。做到餐餐有蔬菜，天天吃水果。多选深色蔬果，不以果汁代替鲜果。吃各种各样的奶及其制品，特别是酸奶，相当于每天液态奶300克。经常吃豆制品，适量吃坚果。（三）适量吃鱼、禽、蛋、瘦肉。鱼、禽、蛋和瘦肉摄入要适量，少吃肥肉、烟熏和腌制肉制品。坚决杜绝食用野生动物。（四）少盐少油，控糖限酒。清淡饮食，少吃高盐和油炸食品。足量饮水，成年人每天7-8杯（1500-1700毫升），提倡饮用白开水和茶水；不喝或少喝含糖饮料。成人如饮酒，男性一天饮用酒的酒精量不超过25克，女性不超过15克。（五）吃动平衡，健康体重。在家也要天天运动、保持健康体重。食不过量，不暴饮暴食，控制总能量摄入，保持能量平衡。减少久坐时间，每小时起来动一动。（六）杜绝浪费，兴新食尚。珍惜食物，按需备餐，提倡分餐和使用公筷、公勺。选择新鲜、安全的食物和适宜的烹调方式。食物制备生熟分开、熟食二次加热要热透。学会阅读食品标签，合理选择食品。详细可查询国家、省卫生健康委官方网站。\n\nfinish\n"
    }
   ],
   "source": [
    "def get_data(web_address):\n",
    "    #获取网页信息\n",
    "    while(1):\n",
    "        try:\n",
    "            res = requests.get(web_address,timeout=2)\n",
    "            flag=1\n",
    "            break\n",
    "        except:\n",
    "            print(\"retry\")\n",
    "            flag=0\n",
    "    res.encoding = 'utf-8'\n",
    "    soup = BeautifulSoup(res.text, 'html.parser')      #结构化处理\n",
    "    for element in soup.find_all(name='div',attrs = {'id':'content'} ):\n",
    "        print(element.get_text())\n",
    "                    \n",
    "if __name__ == '__main__':\n",
    "    print('begin')\n",
    "    get_data(info_url)\n",
    "    print('finish')"
   ]
  },
  {
   "cell_type": "code",
   "execution_count": null,
   "metadata": {
    "collapsed": false,
    "pycharm": {
     "name": "#%%\n"
    }
   },
   "outputs": [],
   "source": [
    "\n",
    "\n",
    "\n"
   ]
  }
 ],
 "metadata": {
  "kernelspec": {
   "display_name": "Python 3.7.4 64-bit",
   "language": "python",
   "name": "python37464bit0d4557ec91c049559ae1861a5476b44a"
  },
  "language_info": {
   "codemirror_mode": {
    "name": "ipython",
    "version": 2
   },
   "file_extension": ".py",
   "mimetype": "text/x-python",
   "name": "python",
   "nbconvert_exporter": "python",
   "pygments_lexer": "ipython2",
   "version": "3.7.4-final"
  },
  "pycharm": {
   "stem_cell": {
    "cell_type": "raw",
    "source": [],
    "metadata": {
     "collapsed": false
    }
   }
  }
 },
 "nbformat": 4,
 "nbformat_minor": 0
}