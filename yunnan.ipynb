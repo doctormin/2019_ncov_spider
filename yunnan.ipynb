{
 "cells": [
  {
   "cell_type": "code",
   "execution_count": 3,
   "metadata": {
    "pycharm": {
     "is_executing": false
    }
   },
   "outputs": [
    {
     "name": "stdout",
     "text": [
      "http://ynswsjkw.yn.gov.cn/wjwWebsite/web/doc/UU158132584942796957\n"
     ],
     "output_type": "stream"
    }
   ],
   "source": [
    "#53\n",
    "#By Yimin Zhao\n",
    "import requests\n",
    "from bs4 import BeautifulSoup\n",
    "import re\n",
    "\n",
    "yunnan = 'http://ynswsjkw.yn.gov.cn/wjwWebsite/web/col?id=UU157976428326282067&pId=UU145102906505319731&cn=xxgzbd&pcn=ztlm&pid=UU145102906505319731&page=1'         #卫健委的url\n",
    "info_pattern = re.compile(r'云南.*新.*冠.*肺炎.*疫情.*情况')  \n",
    "\n",
    "\n",
    "#找到通报疫情的url\n",
    "def find_url(web_address):\n",
    "    #获取网页信息\n",
    "    while(1):\n",
    "        try:\n",
    "            res = requests.get(web_address,timeout=(5, 10))\n",
    "            flag = 1\n",
    "            break\n",
    "        except:\n",
    "            print(\"retry\")\n",
    "            flag=0\n",
    "    res.encoding = 'utf-8'\n",
    "    \n",
    "    soup = BeautifulSoup(res.text, features = 'html.parser')      #结构化处理 \n",
    "    \n",
    "    for element in soup.find_all(name='div',attrs = {'class':'theSimilar'}):\n",
    "        for info in element.find_all('a'):\n",
    "            info_title = info.get_text()      #获取通报的标题\n",
    "            if(info_pattern.match(info_title)):\n",
    "                return(info.get('href'))\n",
    "                \n",
    "info_url = 'http://ynswsjkw.yn.gov.cn' + find_url(yunnan)\n",
    "print(info_url)\n"
   ]
  },
  {
   "cell_type": "code",
   "execution_count": 4,
   "metadata": {
    "pycharm": {
     "is_executing": false,
     "name": "#%%\n"
    }
   },
   "outputs": [
    {
     "name": "stdout",
     "text": [
      "begin\n",
      "\n",
      "2月10日0时至12时，云南省报告新型冠状病毒肺炎新增确诊病例8例（昆明市3例、大理州2例，曲靖市、红河州、文山州各1例）。全省累计报告确诊病例149例，除治愈出院者外，现均在定点医院接受隔离治疗。现有危重3例，重症15例，治愈出院19例，疑似病例100例，密切接触者医学观察2826人，无死亡病例。确诊病例中，昆明市45例、西双版纳州15例、玉溪市14例、大理州13例、昭通市12例、曲靖市12例、保山市9例、丽江市7例、红河州6例、德宏州5例、楚雄州4例、普洱市4例、文山州2例、临沧市1例。新增确诊患者情况：第142例：69岁女性，云南昆明人，常住上海，1月19自上海与家人乘机至广州旅游，25日乘高铁从广州回昆明，28日出现全身酸痛、咳嗽症状自行在家服药，2月7日就诊后由昆明医疗机构收治入院隔离治疗。第143例：16岁女性，云南文山人，2019年12月在湖北黄冈学习，2020年1月21日从武汉乘机至昆明，转乘私家车到西畴，经排查居家隔离观察，2月5日腹痛就诊检查有肺部炎症，由文山医疗机构收治入院隔离治疗。第144例：47岁女性，河南商丘人，常住个旧，1月17日回河南过年，期间因畏寒、干咳伴头痛、头昏、乏力等症状在当地就诊，2月5日从河南经陕西、四川返回个旧继续就诊，2月9日由红河医疗机构收治入院隔离治疗。第145例：35岁女性，湖南娄底人，常住昆明，1月18日从昆明自驾回湖南娄底新化探亲，31日返回昆明，2月2日其亲属在湖南确诊，本人4日出现症状，5日就诊后由昆明医疗机构收治入院隔离治疗。第146例：8岁男孩，湖北武汉人，1月22日随家人从武汉乘高铁到昆明，23日跟团到石林、楚雄、大理旅游，25日返回昆明，29日其家人确诊后隔离医学观察，2月10日由昆明医疗机构收治入院隔离治疗。第147例：43岁男性，云南大理人，1月21日咽痛到诊所就诊，后病情反复，2月7日就诊后在大理医疗机构收治入院隔离治疗。第148例：10岁男孩，湖北武汉人，1月22日随家人乘机由武汉至丽江，24日从丽江乘火车至大理，29日其家人确诊后隔离医学观察，2月10日由大理医疗机构收治入院隔离治疗。第149例：55岁女性，云南曲靖人，1月6日自驾到湖北武汉，20日由武汉自驾到湖南永州，25日经贵州返回曲靖，26日居家隔离观察，2月6日出现发热、头痛等症状隔离医学观察后由曲靖医疗机构收治入院隔离治疗。云南省卫生健康委特别提醒：疫情防控处于最关键时期，特别需要您的参与：戴口罩、勤洗手、少出门、常通风、不聚会。居家请做好健康监测，如有发热、乏力、咳嗽及呼吸困难等症状时，请尽快就近就诊。我们万众一心，必将战胜疫情。防控一线工作者辛苦了，以下营养膳食指导供您参考：（一）保证每天足够的能量摄入。建议男性能量摄入2400-2700千卡/天、女性2100-2300千卡/天。（二）保证每天摄入优质蛋白质，如蛋类、奶类、畜禽肉类、鱼虾类、大豆类等。（三）饮食宜清淡，忌油腻，可用天然香料等进行调味以增加医护人员的食欲。（四）多吃富含B族维生素、维生素C、矿物质和膳食纤维等的食物，合理搭配米面、蔬菜、水果等，多选择油菜、菠菜、芹菜、紫甘蓝、胡萝卜、西红柿及橙橘类、苹果、猕猴桃等深色蔬果，菇类、木耳、海带等菌藻类食物。（五）尽可能每日饮水量达到1500-2000毫升。（六）工作忙碌、普通膳食摄入不足时，可补充性使用肠内营养制剂（特殊医学用途配方食品）和奶粉、营养素补充剂，每日额外口服营养补充能量400-600千卡，保证营养需求。（七）采用分餐制就餐，同时避免相互混合用餐，降低就餐过程的感染风险。（八）医院分管领导、营养科、膳食管理科等，应因地制宜、及时根据一线工作人员身体状况，合理设计膳食，做好营养保障。详细可查询国家、省卫生健康委官方网站。\n",
      "\n",
      "finish\n"
     ],
     "output_type": "stream"
    }
   ],
   "source": [
    "def get_data(web_address):\n",
    "    #获取网页信息\n",
    "    while(1):\n",
    "        try:\n",
    "            res = requests.get(web_address,timeout=2)\n",
    "            flag=1\n",
    "            break\n",
    "        except:\n",
    "            print(\"retry\")\n",
    "            flag=0\n",
    "    res.encoding = 'utf-8'\n",
    "    soup = BeautifulSoup(res.text, 'html.parser')      #结构化处理\n",
    "    for element in soup.find_all(name='div',attrs = {'id':'content'} ):\n",
    "        print(element.get_text())\n",
    "                    \n",
    "if __name__ == '__main__':\n",
    "    print('begin')\n",
    "    get_data(info_url)\n",
    "    print('finish')\n",
    "\n",
    "\n",
    "\n",
    "\n"
   ]
  }
 ],
 "metadata": {
  "kernelspec": {
   "display_name": "Python 3.7.4 64-bit",
   "language": "python",
   "name": "python37464bit0d4557ec91c049559ae1861a5476b44a"
  },
  "language_info": {
   "codemirror_mode": {
    "name": "ipython",
    "version": 2
   },
   "file_extension": ".py",
   "mimetype": "text/x-python",
   "name": "python",
   "nbconvert_exporter": "python",
   "pygments_lexer": "ipython2",
   "version": "3.7.4-final"
  },
  "pycharm": {
   "stem_cell": {
    "cell_type": "raw",
    "source": [],
    "metadata": {
     "collapsed": false
    }
   }
  }
 },
 "nbformat": 4,
 "nbformat_minor": 0
}