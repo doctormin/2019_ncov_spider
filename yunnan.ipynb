{
 "cells": [
  {
   "cell_type": "code",
   "execution_count": 3,
   "metadata": {
    "pycharm": {
     "is_executing": false
    }
   },
   "outputs": [
    {
     "name": "stdout",
     "text": [
      "http://ynswsjkw.yn.gov.cn/wjwWebsite/web/doc/UU158138786128233114\n"
     ],
     "output_type": "stream"
    }
   ],
   "source": [
    "#53\n",
    "#By Yimin Zhao\n",
    "import requests\n",
    "from bs4 import BeautifulSoup\n",
    "import re\n",
    "\n",
    "yunnan = 'http://ynswsjkw.yn.gov.cn/wjwWebsite/web/col?id=UU157976428326282067&pId=UU145102906505319731&cn=xxgzbd&pcn=ztlm&pid=UU145102906505319731&page=1'         #卫健委的url\n",
    "info_pattern = re.compile(r'云南.*新.*冠.*肺炎.*疫情.*情况')  \n",
    "\n",
    "\n",
    "#找到通报疫情的url\n",
    "def find_url(web_address):\n",
    "    #获取网页信息\n",
    "    while(1):\n",
    "        try:\n",
    "            res = requests.get(web_address,timeout=(5, 10))\n",
    "            flag = 1\n",
    "            break\n",
    "        except:\n",
    "            print(\"retry\")\n",
    "            flag=0\n",
    "    res.encoding = 'utf-8'\n",
    "    \n",
    "    soup = BeautifulSoup(res.text, features = 'html.parser')      #结构化处理 \n",
    "    \n",
    "    for element in soup.find_all(name='div',attrs = {'class':'theSimilar'}):\n",
    "        for info in element.find_all('a'):\n",
    "            info_title = info.get_text()      #获取通报的标题\n",
    "            if(info_pattern.match(info_title)):\n",
    "                return(info.get('href'))\n",
    "                \n",
    "info_url = 'http://ynswsjkw.yn.gov.cn' + find_url(yunnan)\n",
    "print(info_url)\n"
   ]
  },
  {
   "cell_type": "code",
   "execution_count": 4,
   "metadata": {
    "pycharm": {
     "is_executing": false,
     "name": "#%%\n"
    }
   },
   "outputs": [
    {
     "name": "stdout",
     "text": [
      "begin\n",
      "\n",
      "2月10日12时至24时，云南省报告新型冠状病毒肺炎新增确诊病例为零。全省累计报告确诊病例149例，除治愈出院者外，现均在定点医院接受隔离治疗。现有危重3例，重症15例，治愈出院19例，疑似病例109例，无死亡病例。密切接触者当日解除医学观察569人，正在观察3275人。确诊病例中，昆明市45例、西双版纳州15例、玉溪市14例、大理州13例、昭通市12例、曲靖市12例、保山市9例、丽江市7例、红河州6例、德宏州5例、楚雄州4例、普洱市4例、文山州2例、临沧市1例。云南省卫生健康委特别提醒：疫情防控处于最关键时期，特别需要您的参与：戴口罩、勤洗手、少出门、常通风、不聚会。居家请做好健康监测，如有发热、乏力、咳嗽及呼吸困难等症状时，请尽快就近就诊。我们万众一心，必将战胜疫情。云南省确诊病例分布图（截至2月10日24时）云南省每日新增确诊病例、治愈出院病例趋势\n",
      "\n",
      "finish\n"
     ],
     "output_type": "stream"
    }
   ],
   "source": [
    "def get_data(web_address):\n",
    "    #获取网页信息\n",
    "    while(1):\n",
    "        try:\n",
    "            res = requests.get(web_address,timeout=2)\n",
    "            flag=1\n",
    "            break\n",
    "        except:\n",
    "            print(\"retry\")\n",
    "            flag=0\n",
    "    res.encoding = 'utf-8'\n",
    "    soup = BeautifulSoup(res.text, 'html.parser')      #结构化处理\n",
    "    for element in soup.find_all(name='div',attrs = {'id':'content'} ):\n",
    "        print(element.get_text())\n",
    "        f = open(r\"D:\\IIoT\\20年寒假-疫情爬虫\\Data\\53.txt\", mode = 'w', encoding = \"utf-8\")\n",
    "        f.write(element.get_text())\n",
    "        f.close() \n",
    "                    \n",
    "if __name__ == '__main__':\n",
    "    print('begin')\n",
    "    get_data(info_url)\n",
    "    print('finish')\n",
    "\n",
    "\n",
    "\n",
    "\n"
   ]
  }
 ],
 "metadata": {
  "kernelspec": {
   "display_name": "Python 3.7.4 64-bit",
   "language": "python",
   "name": "python37464bit0d4557ec91c049559ae1861a5476b44a"
  },
  "language_info": {
   "codemirror_mode": {
    "name": "ipython",
    "version": 2
   },
   "file_extension": ".py",
   "mimetype": "text/x-python",
   "name": "python",
   "nbconvert_exporter": "python",
   "pygments_lexer": "ipython2",
   "version": "3.7.4-final"
  },
  "pycharm": {
   "stem_cell": {
    "cell_type": "raw",
    "source": [],
    "metadata": {
     "collapsed": false
    }
   }
  }
 },
 "nbformat": 4,
 "nbformat_minor": 0
}