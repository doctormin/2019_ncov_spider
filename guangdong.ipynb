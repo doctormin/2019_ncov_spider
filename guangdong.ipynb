{
 "nbformat": 4,
 "nbformat_minor": 2,
 "metadata": {
  "language_info": {
   "name": "python",
   "codemirror_mode": {
    "name": "ipython",
    "version": 3
   },
   "version": "3.7.4-final"
  },
  "orig_nbformat": 2,
  "file_extension": ".py",
  "mimetype": "text/x-python",
  "name": "python",
  "npconvert_exporter": "python",
  "pygments_lexer": "ipython3",
  "version": 3,
  "kernelspec": {
   "name": "361c5ae9-67e8-493c-b15d-1c763400a7c3",
   "language": "python",
   "display_name": "'Python Interactive'"
  },
  "pycharm": {
   "stem_cell": {
    "cell_type": "raw",
    "source": [],
    "metadata": {
     "collapsed": false
    }
   }
  }
 },
 "cells": [
  {
   "cell_type": "code",
   "execution_count": 1,
   "metadata": {
    "pycharm": {
     "is_executing": false
    }
   },
   "outputs": [
    {
     "name": "stdout",
     "text": [
      "截至2020年2月10日12时广东省新冠肺炎疫情情况\n",
      "re.compile('.*广东.*新.*疫情.*')\n",
      "<re.Match object; span=(0, 26), match='截至2020年2月10日12时广东省新冠肺炎疫情情况'>\n",
      "http://wsjkw.gd.gov.cn/zwyw_yqxx/content/post_2890097.html\n"
     ],
     "output_type": "stream"
    }
   ],
   "source": [
    "#44\n",
    "#By Yimin Zhao\n",
    "import requests\n",
    "from bs4 import BeautifulSoup\n",
    "import urllib.request\n",
    "import xlsxwriter\n",
    "import time\n",
    "import re\n",
    "\n",
    "guangdong = 'http://wsjkw.gd.gov.cn/zwyw_yqxx/'         #卫健委的url\n",
    "info_pattern = re.compile(r'.*广东.*新.*疫情.*')  \n",
    "\n",
    "\n",
    "#找到通报疫情的url\n",
    "def find_url(web_address):\n",
    "    #获取网页信息\n",
    "    while(1):\n",
    "        try:\n",
    "            res = requests.get(web_address,timeout=(5, 10))\n",
    "            flag = 1\n",
    "            break\n",
    "        except:\n",
    "            print(\"retry\")\n",
    "            flag=0\n",
    "    res.encoding = 'utf-8'\n",
    "    \n",
    "    soup = BeautifulSoup(res.text, features = 'html.parser')      #结构化处理 \n",
    "    \n",
    "    for element in soup.find_all(name='div',attrs = {'class':'section list'}):\n",
    "        for info in element.find_all('a'):\n",
    "            info_title = info.get_text()      #获取通报的标题\n",
    "            print(info_title)\n",
    "            print(info_pattern)\n",
    "            print(info_pattern.match(info_title))\n",
    "            if(info_pattern.match(info_title)):\n",
    "                return(info.get('href'))\n",
    "        \n",
    "\n",
    "        \n",
    "info_url = find_url(guangdong)\n",
    "print(info_url)\n"
   ]
  },
  {
   "cell_type": "code",
   "execution_count": 2,
   "metadata": {
    "pycharm": {
     "is_executing": false
    }
   },
   "outputs": [
    {
     "name": "stdout",
     "text": [
      "begin\n",
      "\n",
      "\n",
      "　　截至2月10日12时，全省累计报告新冠肺炎确诊病例1159例。10日当天0-12时全省新增确诊病例8例，新增出院12例。新增确诊病例中，佛山市2例、惠州市2例、广州市1例、深圳市1例、肇庆市1例、江门市1例。另有疑似病例158例。有3158名密切接触者正在接受医学观察。　　确诊病例中，深圳市369例、广州市314例、珠海市85例、佛山市70例、东莞市60例、中山市56例、惠州市52例、汕头市25例、湛江市21例、江门市20例、肇庆市15例、阳江市13例、梅州市13例、清远市10例、茂名市10例、揭阳市7例、韶关市6例、汕尾市5例、潮州市5例、河源市3例。男性568例，女性591例，年龄介于2月龄-90岁之间。　　截至2月10日12时，在院的1003例确诊病例中，轻型81例，普通型798例，重型83例，危重型41例。累计出院155例。累计死亡1例。\n",
      "\n",
      "\n",
      "finish\n"
     ],
     "output_type": "stream"
    }
   ],
   "source": [
    "def get_data(web_address):\n",
    "    #获取网页信息\n",
    "    while(1):\n",
    "        try:\n",
    "            res = requests.get(web_address,timeout=2)\n",
    "            flag=1\n",
    "            break\n",
    "        except:\n",
    "            print(\"retry\")\n",
    "            flag=0\n",
    "    res.encoding = 'utf-8'\n",
    "    soup = BeautifulSoup(res.text, 'html.parser')      #结构化处理\n",
    "    for element in soup.find_all(name='div',attrs = {'class':'content-content'} ):\n",
    "        print(element.get_text())\n",
    "                    \n",
    "if __name__ == '__main__':\n",
    "    print('begin')\n",
    "    get_data(info_url)\n",
    "    print('finish')"
   ]
  },
  {
   "cell_type": "code",
   "execution_count": 2,
   "metadata": {
    "pycharm": {
     "is_executing": false
    }
   },
   "outputs": [],
   "source": []
  }
 ]
}