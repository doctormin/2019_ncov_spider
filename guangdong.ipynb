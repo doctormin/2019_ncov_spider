{
 "nbformat": 4,
 "nbformat_minor": 2,
 "metadata": {
  "language_info": {
   "name": "python",
   "codemirror_mode": {
    "name": "ipython",
    "version": 3
   },
   "version": "3.7.4-final"
  },
  "orig_nbformat": 2,
  "file_extension": ".py",
  "mimetype": "text/x-python",
  "name": "python",
  "npconvert_exporter": "python",
  "pygments_lexer": "ipython3",
  "version": 3,
  "kernelspec": {
   "name": "python37464bit0d4557ec91c049559ae1861a5476b44a",
   "display_name": "Python 3.7.4 64-bit"
  }
 },
 "cells": [
  {
   "cell_type": "code",
   "execution_count": 6,
   "metadata": {},
   "outputs": [
    {
     "name": "stdout",
     "output_type": "stream",
     "text": "截至2020年2月8日12时广东省新型冠状病毒感染的肺炎疫情情况\nre.compile('截至2020年.月.日..时广东省新型冠状病毒感染的肺炎疫情情况')\n<re.Match object; span=(0, 32), match='截至2020年2月8日12时广东省新型冠状病毒感染的肺炎疫情情况'>\nhttp://wsjkw.gd.gov.cn/zwyw_yqxx/content/post_2888192.html\n"
    }
   ],
   "source": [
    "import requests\n",
    "from bs4 import BeautifulSoup\n",
    "import urllib.request\n",
    "import xlsxwriter\n",
    "import time\n",
    "import re\n",
    "\n",
    "guangdong = 'http://wsjkw.gd.gov.cn/zwyw_yqxx/'         #卫健委的url\n",
    "info_pattern = re.compile(r'截至2020年.月.*日.*时广东省新型冠状病毒感染的肺炎疫情情况')  \n",
    "\n",
    "\n",
    "#找到通报疫情的url\n",
    "def find_url(web_address):\n",
    "    #获取网页信息\n",
    "    while(1):\n",
    "        try:\n",
    "            res = requests.get(web_address,timeout=(5, 10))\n",
    "            flag = 1\n",
    "            break\n",
    "        except:\n",
    "            print(\"retry\")\n",
    "            flag=0\n",
    "    res.encoding = 'utf-8'\n",
    "    \n",
    "    soup = BeautifulSoup(res.text, features = 'html.parser')      #结构化处理 \n",
    "    \n",
    "    for element in soup.find_all(name='div',attrs = {'class':'section list'}):\n",
    "        for info in element.find_all('a'):\n",
    "            info_title = info.get_text()      #获取通报的标题\n",
    "            print(info_title)\n",
    "            print(info_pattern)\n",
    "            print(info_pattern.match(info_title))\n",
    "            if(info_pattern.match(info_title)):\n",
    "                return(info.get('href'))\n",
    "        \n",
    "\n",
    "        \n",
    "info_url = find_url(guangdong)\n",
    "print(info_url)\n"
   ]
  },
  {
   "cell_type": "code",
   "execution_count": 3,
   "metadata": {},
   "outputs": [
    {
     "name": "stdout",
     "output_type": "stream",
     "text": "begin\n\n\n　　截至2月8日12时，全省累计报告新型冠状病毒感染的肺炎确诊病例1095例。8日当天0-12时全省新增确诊病例20例。新增确诊病例中，惠州市6例、佛山市4例、深圳市3例、广州市3例、茂名市2例、珠海市1例、江门市1例。另有疑似病例207例。有3412名密切接触者正在接受医学观察。　　确诊病例中，深圳市354例、广州市301例、珠海市83例、佛山市64、东莞市56例、惠州市47例、中山市46例、汕头市25例、湛江市20例、江门市15例、肇庆市14例、阳江市13例、梅州市13例、清远市10例、茂名市8例、揭阳市7例、韶关市6例、汕尾市5例、潮州市5例、河源市3例。男性542例，女性553例，年龄介于2月龄-90岁之间。　　截至2月8日12时，在院的994例确诊病例中，轻型52例，普通型818例，重型86例，危重型38例。新增出院3例，累计出院100例。累计死亡1例。\n\n\nfinish\n"
    }
   ],
   "source": [
    "def get_data(web_address):\n",
    "    #获取网页信息\n",
    "    while(1):\n",
    "        try:\n",
    "            res = requests.get(web_address,timeout=2)\n",
    "            flag=1\n",
    "            break\n",
    "        except:\n",
    "            print(\"retry\")\n",
    "            flag=0\n",
    "    res.encoding = 'utf-8'\n",
    "    soup = BeautifulSoup(res.text, 'html.parser')      #结构化处理\n",
    "    for element in soup.find_all(name='div',attrs = {'class':'content-content'} ):\n",
    "        print(element.get_text())\n",
    "                    \n",
    "if __name__ == '__main__':\n",
    "    print('begin')\n",
    "    get_data(info_url)\n",
    "    print('finish')"
   ]
  },
  {
   "cell_type": "code",
   "execution_count": null,
   "metadata": {},
   "outputs": [],
   "source": []
  }
 ]
}